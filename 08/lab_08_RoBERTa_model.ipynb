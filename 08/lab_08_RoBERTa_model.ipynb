{
 "cells": [
  {
   "cell_type": "markdown",
   "source": [
    "# NLP 2 - Lab 08\n",
    "## Adrien Giget, Tanguy Malandain, Denis Stojiljkovic"
   ],
   "metadata": {
    "collapsed": false
   }
  },
  {
   "attachments": {},
   "cell_type": "markdown",
   "metadata": {},
   "source": [
    "## Introduction (1 point)"
   ]
  },
  {
   "attachments": {},
   "cell_type": "markdown",
   "metadata": {},
   "source": [
    "(1 point) Pick one of the datasets between `hate` and `offensive`, and justify your choice. Remember that it is for a commercial application (there is a good and a bad answer)."
   ]
  },
  {
   "attachments": {},
   "cell_type": "markdown",
   "metadata": {},
   "source": [
    "Offensive il a un peu plus de data meme si la repartition est pas si bien que ça, surtout pour le test set.\n",
    "Mais dans Hate il a beaucoup plus de mots grossiers comme 'dick' ou 'bitch' (et il y a beaucoup ça dans le tweet.json).\n",
    "\n",
    "Commercialement parlant, je pense qu'il prefere ne pas avoir de messages de hate si cest beaucoup de mots grossiers que de mots offensants. Puis aussi dire que l'on aime pas une population ou autre cest plus dur que de dire \"Ah ouais t'as fait des recherches pour ton exposé ?\"."
   ]
  },
  {
   "attachments": {},
   "cell_type": "markdown",
   "metadata": {},
   "source": [
    "## Evaluating the dataset (5 points)"
   ]
  },
  {
   "attachments": {},
   "cell_type": "markdown",
   "metadata": {},
   "source": [
    "(1 point) Describe the dataset. Look at the splits, proportion of classes, and see what you can figure out by just looking at the text."
   ]
  },
  {
   "attachments": {},
   "cell_type": "markdown",
   "metadata": {},
   "source": [
    "(3 points) Use [BERTopic](https://github.com/MaartenGr/BERTopic) to extract the topics within the data, and the main topics within each class. Please, think about [fixing the random seed](https://stackoverflow.com/questions/71320201/how-to-fix-random-seed-for-bertopic).\n",
    "    * A [good model](https://github.com/MaartenGr/BERTopic#embedding-models) for sentence similarity is `all-MiniLM-L6-v2`, as it is [fast, light, and pretty accurate](https://www.sbert.net/docs/pretrained_models.html). You can use another one, but make sure to document your choice.\n",
    "    * [This](https://maartengr.github.io/BERTopic/api/plotting/topics_per_class.html) might help."
   ]
  },
  {
   "cell_type": "code",
   "execution_count": 1,
   "metadata": {
    "vscode": {
     "languageId": "plaintext"
    },
    "ExecuteTime": {
     "end_time": "2023-06-19T13:58:37.896701824Z",
     "start_time": "2023-06-19T13:57:47.321377187Z"
    }
   },
   "outputs": [
    {
     "name": "stdout",
     "output_type": "stream",
     "text": [
      "Collecting bertopic\r\n",
      "  Downloading bertopic-0.15.0-py2.py3-none-any.whl (143 kB)\r\n",
      "\u001B[2K     \u001B[90m━━━━━━━━━━━━━━━━━━━━━━━━━━━━━━━━━━━━━━━\u001B[0m \u001B[32m143.4/143.4 kB\u001B[0m \u001B[31m8.6 MB/s\u001B[0m eta \u001B[36m0:00:00\u001B[0m\r\n",
      "\u001B[?25hRequirement already satisfied: pandas>=1.1.5 in /home/adrien/anaconda3/envs/usualEnv/lib/python3.8/site-packages (from bertopic) (1.5.3)\r\n",
      "Collecting sentence-transformers>=0.4.1\r\n",
      "  Using cached sentence-transformers-2.2.2.tar.gz (85 kB)\r\n",
      "  Preparing metadata (setup.py) ... \u001B[?25ldone\r\n",
      "\u001B[?25hCollecting umap-learn>=0.5.0\r\n",
      "  Downloading umap-learn-0.5.3.tar.gz (88 kB)\r\n",
      "\u001B[2K     \u001B[90m━━━━━━━━━━━━━━━━━━━━━━━━━━━━━━━━━━━━━━━━\u001B[0m \u001B[32m88.2/88.2 kB\u001B[0m \u001B[31m15.1 MB/s\u001B[0m eta \u001B[36m0:00:00\u001B[0m\r\n",
      "\u001B[?25h  Preparing metadata (setup.py) ... \u001B[?25ldone\r\n",
      "\u001B[?25hRequirement already satisfied: scikit-learn>=0.22.2.post1 in /home/adrien/anaconda3/envs/usualEnv/lib/python3.8/site-packages (from bertopic) (1.2.2)\r\n",
      "Requirement already satisfied: numpy>=1.20.0 in /home/adrien/anaconda3/envs/usualEnv/lib/python3.8/site-packages (from bertopic) (1.24.3)\r\n",
      "Collecting hdbscan>=0.8.29\r\n",
      "  Downloading hdbscan-0.8.29.tar.gz (5.2 MB)\r\n",
      "\u001B[2K     \u001B[90m━━━━━━━━━━━━━━━━━━━━━━━━━━━━━━━━━━━━━━━━\u001B[0m \u001B[32m5.2/5.2 MB\u001B[0m \u001B[31m20.0 MB/s\u001B[0m eta \u001B[36m0:00:00\u001B[0m00:01\u001B[0m00:01\u001B[0m\r\n",
      "\u001B[?25h  Installing build dependencies ... \u001B[?25ldone\r\n",
      "\u001B[?25h  Getting requirements to build wheel ... \u001B[?25ldone\r\n",
      "\u001B[?25h  Preparing metadata (pyproject.toml) ... \u001B[?25ldone\r\n",
      "\u001B[?25hRequirement already satisfied: tqdm>=4.41.1 in /home/adrien/anaconda3/envs/usualEnv/lib/python3.8/site-packages (from bertopic) (4.65.0)\r\n",
      "Requirement already satisfied: plotly>=4.7.0 in /home/adrien/anaconda3/envs/usualEnv/lib/python3.8/site-packages (from bertopic) (5.9.0)\r\n",
      "Collecting cython>=0.27\r\n",
      "  Using cached Cython-0.29.35-cp38-cp38-manylinux_2_17_x86_64.manylinux2014_x86_64.manylinux_2_24_x86_64.whl (2.0 MB)\r\n",
      "Requirement already satisfied: scipy>=1.0 in /home/adrien/anaconda3/envs/usualEnv/lib/python3.8/site-packages (from hdbscan>=0.8.29->bertopic) (1.10.1)\r\n",
      "Requirement already satisfied: joblib>=1.0 in /home/adrien/anaconda3/envs/usualEnv/lib/python3.8/site-packages (from hdbscan>=0.8.29->bertopic) (1.1.1)\r\n",
      "Requirement already satisfied: python-dateutil>=2.8.1 in /home/adrien/anaconda3/envs/usualEnv/lib/python3.8/site-packages (from pandas>=1.1.5->bertopic) (2.8.2)\r\n",
      "Requirement already satisfied: pytz>=2020.1 in /home/adrien/anaconda3/envs/usualEnv/lib/python3.8/site-packages (from pandas>=1.1.5->bertopic) (2022.7)\r\n",
      "Requirement already satisfied: tenacity>=6.2.0 in /home/adrien/anaconda3/envs/usualEnv/lib/python3.8/site-packages (from plotly>=4.7.0->bertopic) (8.2.2)\r\n",
      "Requirement already satisfied: threadpoolctl>=2.0.0 in /home/adrien/anaconda3/envs/usualEnv/lib/python3.8/site-packages (from scikit-learn>=0.22.2.post1->bertopic) (2.2.0)\r\n",
      "Requirement already satisfied: transformers<5.0.0,>=4.6.0 in /home/adrien/anaconda3/envs/usualEnv/lib/python3.8/site-packages (from sentence-transformers>=0.4.1->bertopic) (4.29.2)\r\n",
      "Requirement already satisfied: torch>=1.6.0 in /home/adrien/anaconda3/envs/usualEnv/lib/python3.8/site-packages (from sentence-transformers>=0.4.1->bertopic) (2.0.1)\r\n",
      "Collecting torchvision\r\n",
      "  Downloading torchvision-0.15.2-cp38-cp38-manylinux1_x86_64.whl (33.8 MB)\r\n",
      "\u001B[2K     \u001B[90m━━━━━━━━━━━━━━━━━━━━━━━━━━━━━━━━━━━━━━━━\u001B[0m \u001B[32m33.8/33.8 MB\u001B[0m \u001B[31m18.7 MB/s\u001B[0m eta \u001B[36m0:00:00\u001B[0m00:01\u001B[0m00:01\u001B[0m\r\n",
      "\u001B[?25hRequirement already satisfied: nltk in /home/adrien/anaconda3/envs/usualEnv/lib/python3.8/site-packages (from sentence-transformers>=0.4.1->bertopic) (3.7)\r\n",
      "Collecting sentencepiece\r\n",
      "  Downloading sentencepiece-0.1.99-cp38-cp38-manylinux_2_17_x86_64.manylinux2014_x86_64.whl (1.3 MB)\r\n",
      "\u001B[2K     \u001B[90m━━━━━━━━━━━━━━━━━━━━━━━━━━━━━━━━━━━━━━━━\u001B[0m \u001B[32m1.3/1.3 MB\u001B[0m \u001B[31m20.6 MB/s\u001B[0m eta \u001B[36m0:00:00\u001B[0ma \u001B[36m0:00:01\u001B[0m\r\n",
      "\u001B[?25hRequirement already satisfied: huggingface-hub>=0.4.0 in /home/adrien/anaconda3/envs/usualEnv/lib/python3.8/site-packages (from sentence-transformers>=0.4.1->bertopic) (0.15.1)\r\n",
      "Collecting numba>=0.49\r\n",
      "  Downloading numba-0.57.0-cp38-cp38-manylinux2014_x86_64.manylinux_2_17_x86_64.whl (3.6 MB)\r\n",
      "\u001B[2K     \u001B[90m━━━━━━━━━━━━━━━━━━━━━━━━━━━━━━━━━━━━━━━━\u001B[0m \u001B[32m3.6/3.6 MB\u001B[0m \u001B[31m17.6 MB/s\u001B[0m eta \u001B[36m0:00:00\u001B[0ma \u001B[36m0:00:01\u001B[0m\r\n",
      "\u001B[?25hCollecting pynndescent>=0.5\r\n",
      "  Downloading pynndescent-0.5.10.tar.gz (1.1 MB)\r\n",
      "\u001B[2K     \u001B[90m━━━━━━━━━━━━━━━━━━━━━━━━━━━━━━━━━━━━━━━━\u001B[0m \u001B[32m1.1/1.1 MB\u001B[0m \u001B[31m15.3 MB/s\u001B[0m eta \u001B[36m0:00:00\u001B[0m00:01\u001B[0m00:01\u001B[0m\r\n",
      "\u001B[?25h  Preparing metadata (setup.py) ... \u001B[?25ldone\r\n",
      "\u001B[?25hRequirement already satisfied: typing-extensions>=3.7.4.3 in /home/adrien/anaconda3/envs/usualEnv/lib/python3.8/site-packages (from huggingface-hub>=0.4.0->sentence-transformers>=0.4.1->bertopic) (4.5.0)\r\n",
      "Requirement already satisfied: packaging>=20.9 in /home/adrien/anaconda3/envs/usualEnv/lib/python3.8/site-packages (from huggingface-hub>=0.4.0->sentence-transformers>=0.4.1->bertopic) (23.0)\r\n",
      "Requirement already satisfied: filelock in /home/adrien/anaconda3/envs/usualEnv/lib/python3.8/site-packages (from huggingface-hub>=0.4.0->sentence-transformers>=0.4.1->bertopic) (3.9.0)\r\n",
      "Requirement already satisfied: pyyaml>=5.1 in /home/adrien/anaconda3/envs/usualEnv/lib/python3.8/site-packages (from huggingface-hub>=0.4.0->sentence-transformers>=0.4.1->bertopic) (6.0)\r\n",
      "Requirement already satisfied: requests in /home/adrien/anaconda3/envs/usualEnv/lib/python3.8/site-packages (from huggingface-hub>=0.4.0->sentence-transformers>=0.4.1->bertopic) (2.29.0)\r\n",
      "Requirement already satisfied: fsspec in /home/adrien/anaconda3/envs/usualEnv/lib/python3.8/site-packages (from huggingface-hub>=0.4.0->sentence-transformers>=0.4.1->bertopic) (2023.4.0)\r\n",
      "Collecting llvmlite<0.41,>=0.40.0dev0\r\n",
      "  Downloading llvmlite-0.40.1rc1-cp38-cp38-manylinux_2_17_x86_64.manylinux2014_x86_64.whl (42.1 MB)\r\n",
      "\u001B[2K     \u001B[90m━━━━━━━━━━━━━━━━━━━━━━━━━━━━━━━━━━━━━━━━\u001B[0m \u001B[32m42.1/42.1 MB\u001B[0m \u001B[31m18.6 MB/s\u001B[0m eta \u001B[36m0:00:00\u001B[0m00:01\u001B[0m00:01\u001B[0m\r\n",
      "\u001B[?25hRequirement already satisfied: importlib-metadata in /home/adrien/anaconda3/envs/usualEnv/lib/python3.8/site-packages (from numba>=0.49->umap-learn>=0.5.0->bertopic) (6.0.0)\r\n",
      "Requirement already satisfied: six>=1.5 in /home/adrien/anaconda3/envs/usualEnv/lib/python3.8/site-packages (from python-dateutil>=2.8.1->pandas>=1.1.5->bertopic) (1.16.0)\r\n",
      "Requirement already satisfied: jinja2 in /home/adrien/anaconda3/envs/usualEnv/lib/python3.8/site-packages (from torch>=1.6.0->sentence-transformers>=0.4.1->bertopic) (3.1.2)\r\n",
      "Requirement already satisfied: nvidia-nccl-cu11==2.14.3 in /home/adrien/anaconda3/envs/usualEnv/lib/python3.8/site-packages (from torch>=1.6.0->sentence-transformers>=0.4.1->bertopic) (2.14.3)\r\n",
      "Requirement already satisfied: nvidia-curand-cu11==10.2.10.91 in /home/adrien/anaconda3/envs/usualEnv/lib/python3.8/site-packages (from torch>=1.6.0->sentence-transformers>=0.4.1->bertopic) (10.2.10.91)\r\n",
      "Requirement already satisfied: nvidia-cudnn-cu11==8.5.0.96 in /home/adrien/anaconda3/envs/usualEnv/lib/python3.8/site-packages (from torch>=1.6.0->sentence-transformers>=0.4.1->bertopic) (8.5.0.96)\r\n",
      "Requirement already satisfied: nvidia-cusparse-cu11==11.7.4.91 in /home/adrien/anaconda3/envs/usualEnv/lib/python3.8/site-packages (from torch>=1.6.0->sentence-transformers>=0.4.1->bertopic) (11.7.4.91)\r\n",
      "Requirement already satisfied: networkx in /home/adrien/anaconda3/envs/usualEnv/lib/python3.8/site-packages (from torch>=1.6.0->sentence-transformers>=0.4.1->bertopic) (3.0)\r\n",
      "Requirement already satisfied: triton==2.0.0 in /home/adrien/anaconda3/envs/usualEnv/lib/python3.8/site-packages (from torch>=1.6.0->sentence-transformers>=0.4.1->bertopic) (2.0.0)\r\n",
      "Requirement already satisfied: nvidia-cuda-nvrtc-cu11==11.7.99 in /home/adrien/anaconda3/envs/usualEnv/lib/python3.8/site-packages (from torch>=1.6.0->sentence-transformers>=0.4.1->bertopic) (11.7.99)\r\n",
      "Requirement already satisfied: sympy in /home/adrien/anaconda3/envs/usualEnv/lib/python3.8/site-packages (from torch>=1.6.0->sentence-transformers>=0.4.1->bertopic) (1.11.1)\r\n",
      "Requirement already satisfied: nvidia-cuda-cupti-cu11==11.7.101 in /home/adrien/anaconda3/envs/usualEnv/lib/python3.8/site-packages (from torch>=1.6.0->sentence-transformers>=0.4.1->bertopic) (11.7.101)\r\n",
      "Requirement already satisfied: nvidia-cublas-cu11==11.10.3.66 in /home/adrien/anaconda3/envs/usualEnv/lib/python3.8/site-packages (from torch>=1.6.0->sentence-transformers>=0.4.1->bertopic) (11.10.3.66)\r\n",
      "Requirement already satisfied: nvidia-cufft-cu11==10.9.0.58 in /home/adrien/anaconda3/envs/usualEnv/lib/python3.8/site-packages (from torch>=1.6.0->sentence-transformers>=0.4.1->bertopic) (10.9.0.58)\r\n",
      "Requirement already satisfied: nvidia-nvtx-cu11==11.7.91 in /home/adrien/anaconda3/envs/usualEnv/lib/python3.8/site-packages (from torch>=1.6.0->sentence-transformers>=0.4.1->bertopic) (11.7.91)\r\n",
      "Requirement already satisfied: nvidia-cusolver-cu11==11.4.0.1 in /home/adrien/anaconda3/envs/usualEnv/lib/python3.8/site-packages (from torch>=1.6.0->sentence-transformers>=0.4.1->bertopic) (11.4.0.1)\r\n",
      "Requirement already satisfied: nvidia-cuda-runtime-cu11==11.7.99 in /home/adrien/anaconda3/envs/usualEnv/lib/python3.8/site-packages (from torch>=1.6.0->sentence-transformers>=0.4.1->bertopic) (11.7.99)\r\n",
      "Requirement already satisfied: wheel in /home/adrien/anaconda3/envs/usualEnv/lib/python3.8/site-packages (from nvidia-cublas-cu11==11.10.3.66->torch>=1.6.0->sentence-transformers>=0.4.1->bertopic) (0.38.4)\r\n",
      "Requirement already satisfied: setuptools in /home/adrien/anaconda3/envs/usualEnv/lib/python3.8/site-packages (from nvidia-cublas-cu11==11.10.3.66->torch>=1.6.0->sentence-transformers>=0.4.1->bertopic) (66.0.0)\r\n",
      "Requirement already satisfied: lit in /home/adrien/anaconda3/envs/usualEnv/lib/python3.8/site-packages (from triton==2.0.0->torch>=1.6.0->sentence-transformers>=0.4.1->bertopic) (16.0.0)\r\n",
      "Requirement already satisfied: cmake in /home/adrien/anaconda3/envs/usualEnv/lib/python3.8/site-packages (from triton==2.0.0->torch>=1.6.0->sentence-transformers>=0.4.1->bertopic) (3.26.1)\r\n",
      "Requirement already satisfied: tokenizers!=0.11.3,<0.14,>=0.11.1 in /home/adrien/anaconda3/envs/usualEnv/lib/python3.8/site-packages (from transformers<5.0.0,>=4.6.0->sentence-transformers>=0.4.1->bertopic) (0.13.3)\r\n",
      "Requirement already satisfied: regex!=2019.12.17 in /home/adrien/anaconda3/envs/usualEnv/lib/python3.8/site-packages (from transformers<5.0.0,>=4.6.0->sentence-transformers>=0.4.1->bertopic) (2022.7.9)\r\n",
      "Requirement already satisfied: click in /home/adrien/anaconda3/envs/usualEnv/lib/python3.8/site-packages (from nltk->sentence-transformers>=0.4.1->bertopic) (8.0.4)\r\n",
      "Requirement already satisfied: pillow!=8.3.*,>=5.3.0 in /home/adrien/anaconda3/envs/usualEnv/lib/python3.8/site-packages (from torchvision->sentence-transformers>=0.4.1->bertopic) (9.4.0)\r\n",
      "Requirement already satisfied: zipp>=0.5 in /home/adrien/anaconda3/envs/usualEnv/lib/python3.8/site-packages (from importlib-metadata->numba>=0.49->umap-learn>=0.5.0->bertopic) (3.11.0)\r\n",
      "Requirement already satisfied: MarkupSafe>=2.0 in /home/adrien/anaconda3/envs/usualEnv/lib/python3.8/site-packages (from jinja2->torch>=1.6.0->sentence-transformers>=0.4.1->bertopic) (2.1.1)\r\n",
      "Requirement already satisfied: certifi>=2017.4.17 in /home/adrien/anaconda3/envs/usualEnv/lib/python3.8/site-packages (from requests->huggingface-hub>=0.4.0->sentence-transformers>=0.4.1->bertopic) (2023.5.7)\r\n",
      "Requirement already satisfied: idna<4,>=2.5 in /home/adrien/anaconda3/envs/usualEnv/lib/python3.8/site-packages (from requests->huggingface-hub>=0.4.0->sentence-transformers>=0.4.1->bertopic) (3.4)\r\n",
      "Requirement already satisfied: urllib3<1.27,>=1.21.1 in /home/adrien/anaconda3/envs/usualEnv/lib/python3.8/site-packages (from requests->huggingface-hub>=0.4.0->sentence-transformers>=0.4.1->bertopic) (1.26.15)\r\n",
      "Requirement already satisfied: charset-normalizer<4,>=2 in /home/adrien/anaconda3/envs/usualEnv/lib/python3.8/site-packages (from requests->huggingface-hub>=0.4.0->sentence-transformers>=0.4.1->bertopic) (2.0.4)\r\n",
      "Requirement already satisfied: mpmath>=0.19 in /home/adrien/anaconda3/envs/usualEnv/lib/python3.8/site-packages (from sympy->torch>=1.6.0->sentence-transformers>=0.4.1->bertopic) (1.3.0)\r\n",
      "Building wheels for collected packages: hdbscan, sentence-transformers, umap-learn, pynndescent\r\n",
      "  Building wheel for hdbscan (pyproject.toml) ... \u001B[?25ldone\r\n",
      "\u001B[?25h  Created wheel for hdbscan: filename=hdbscan-0.8.29-cp38-cp38-linux_x86_64.whl size=3732346 sha256=2d10c804e2decbe64018081f05866efc9a687533a8488c212949382db2455b64\r\n",
      "  Stored in directory: /home/adrien/.cache/pip/wheels/76/06/48/527e038689c581cc9e519c73840efdc7473805149e55bd7ffd\r\n",
      "  Building wheel for sentence-transformers (setup.py) ... \u001B[?25ldone\r\n",
      "\u001B[?25h  Created wheel for sentence-transformers: filename=sentence_transformers-2.2.2-py3-none-any.whl size=125925 sha256=1da9245da339f2c21bce206513ef568c6d9cb18ba58c504bbc9e364b07585752\r\n",
      "  Stored in directory: /home/adrien/.cache/pip/wheels/5e/6f/8c/d88aec621f3f542d26fac0342bef5e693335d125f4e54aeffe\r\n",
      "  Building wheel for umap-learn (setup.py) ... \u001B[?25ldone\r\n",
      "\u001B[?25h  Created wheel for umap-learn: filename=umap_learn-0.5.3-py3-none-any.whl size=82813 sha256=c72f2dc61aa043a17d90e34785e66b133e1fb6ea35bb3c6cc944c36ca2933c28\r\n",
      "  Stored in directory: /home/adrien/.cache/pip/wheels/a9/3a/67/06a8950e053725912e6a8c42c4a3a241410f6487b8402542ea\r\n",
      "  Building wheel for pynndescent (setup.py) ... \u001B[?25ldone\r\n",
      "\u001B[?25h  Created wheel for pynndescent: filename=pynndescent-0.5.10-py3-none-any.whl size=55623 sha256=c716deb69d52f4715419aeedde30347feeb40f34bb921ff2f16c3dec5192b72a\r\n",
      "  Stored in directory: /home/adrien/.cache/pip/wheels/f8/32/54/fa1fd0454e0441eaa32550ea2a86da3f64eb7c8e5a82436770\r\n",
      "Successfully built hdbscan sentence-transformers umap-learn pynndescent\r\n",
      "Installing collected packages: sentencepiece, llvmlite, cython, numba, pynndescent, hdbscan, umap-learn, torchvision, sentence-transformers, bertopic\r\n",
      "Successfully installed bertopic-0.15.0 cython-0.29.35 hdbscan-0.8.29 llvmlite-0.40.1rc1 numba-0.57.0 pynndescent-0.5.10 sentence-transformers-2.2.2 sentencepiece-0.1.99 torchvision-0.15.2 umap-learn-0.5.3\r\n",
      "Note: you may need to restart the kernel to use updated packages.\n"
     ]
    }
   ],
   "source": [
    "pip install bertopic"
   ]
  },
  {
   "attachments": {},
   "cell_type": "markdown",
   "metadata": {},
   "source": [
    "(1 point) What do you think about the results? How do you think it could impact a model trained on these data?"
   ]
  },
  {
   "attachments": {},
   "cell_type": "markdown",
   "metadata": {},
   "source": [
    "**Bonus** By default, BERTopic extracts single keywords. Play with the model to extract bigrams or more. See if you can go deeper in your analysis."
   ]
  }
 ],
 "metadata": {
  "language_info": {
   "name": "python"
  },
  "orig_nbformat": 4,
  "kernelspec": {
   "name": "python3",
   "language": "python",
   "display_name": "Python 3 (ipykernel)"
  }
 },
 "nbformat": 4,
 "nbformat_minor": 2
}
