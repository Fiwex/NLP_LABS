{
 "cells": [
  {
   "cell_type": "markdown",
   "metadata": {
    "collapsed": false
   },
   "source": [
    "# Lab 04\n",
    "# GloVe implementation of a sentiment analysis model\n",
    "\n",
    "## Adrien Giget, Tanguy Malandain, Denis Stojiljkovic"
   ]
  },
  {
   "cell_type": "markdown",
   "metadata": {
    "collapsed": false
   },
   "source": [
    "# Using GloVe for text classification\n",
    "\n",
    "In this pre-filled notebook, we use GloVe embeddings to train a classifier for sentiment analysis. For every review in the IMDB dataset we:\n",
    "1. Tokenize the review into tokens.\n",
    "2. Get the pre-trained GloVe vector for every token in the review (if they are in the voabulary of GloVe).\n",
    "3. Average the vectors over the full review.\n",
    "4. Send the vector through a logistic regression.\n",
    "\n",
    "This time, we will batch the inputs instead of updating the weights once per epoch.\n",
    "\n",
    "Before starting, to make your experiments reproducible, make sure to [force the random seed](https://pytorch.org/docs/stable/notes/randomness.html)."
   ]
  },
  {
   "cell_type": "code",
   "execution_count": null,
   "id": "f7e402d1-f6f5-4ee5-8cde-813c2a2b4ee1",
   "metadata": {
    "ExecuteTime": {
     "end_time": "2023-04-19T22:31:45.283418Z",
     "start_time": "2023-04-19T22:31:43.056551Z"
    }
   },
   "outputs": [],
   "source": [
    "from copy import deepcopy\n",
    "from functools import partial\n",
    "from typing import Callable, Generator, List, Tuple\n",
    "\n",
    "from datasets import load_dataset\n",
    "import matplotlib.pyplot as plt\n",
    "import numpy as np\n",
    "from sklearn.utils import shuffle\n",
    "import torch\n",
    "from torch import nn\n",
    "from torchtext import vocab\n",
    "from torchtext.vocab import GloVe\n",
    "from torchtext.data.utils import get_tokenizer\n",
    "\n",
    "from tqdm.auto import tqdm"
   ]
  },
  {
   "cell_type": "markdown",
   "id": "fce0cb2c-05a4-4c70-b2dc-84bcdfadbb6d",
   "metadata": {},
   "source": [
    "## Using GloVe (1 point)\n",
    "\n",
    "Let's get familier with GloVe embeddings. We download a small version of GloVe trained of 6 billion words, and use vectors of size 300.\n",
    "\n",
    "The [torchtext documentation](https://pytorch.org/text/stable/vocab.html#glove) being quite poor, you can find details on the different pre-trained vectors on the [Stanford page](https://nlp.stanford.edu/projects/glove/)."
   ]
  },
  {
   "cell_type": "code",
   "execution_count": 2,
   "id": "ab2391a1-f23b-4f98-bac4-651081d6c258",
   "metadata": {
    "ExecuteTime": {
     "end_time": "2023-04-19T22:31:45.658944Z",
     "start_time": "2023-04-19T22:31:45.285038Z"
    }
   },
   "outputs": [
    {
     "data": {
      "text/plain": [
       "400000"
      ]
     },
     "execution_count": 2,
     "metadata": {},
     "output_type": "execute_result"
    }
   ],
   "source": [
    "glove = GloVe(name=\"6B\", dim=300)\n",
    "len(glove.stoi)"
   ]
  },
  {
   "cell_type": "code",
   "execution_count": 3,
   "id": "f2630885-032e-44ee-9fb7-b7b571216f2a",
   "metadata": {
    "ExecuteTime": {
     "end_time": "2023-04-19T22:31:45.664439Z",
     "start_time": "2023-04-19T22:31:45.661152Z"
    }
   },
   "outputs": [
    {
     "data": {
      "text/plain": [
       "(5450, 'cat', torch.Size([300]))"
      ]
     },
     "execution_count": 3,
     "metadata": {},
     "output_type": "execute_result"
    }
   ],
   "source": [
    "glove.stoi[\"cat\"], glove.itos[5450], glove.vectors[glove.stoi[\"cat\"]].shape"
   ]
  },
  {
   "cell_type": "code",
   "execution_count": 4,
   "id": "b5ef6f37-1d1e-4b3a-82d4-ad09e975aa61",
   "metadata": {
    "ExecuteTime": {
     "end_time": "2023-04-19T22:31:45.677301Z",
     "start_time": "2023-04-19T22:31:45.664144Z"
    }
   },
   "outputs": [
    {
     "data": {
      "text/plain": [
       "['the', ',', '.', 'of', 'to']"
      ]
     },
     "execution_count": 4,
     "metadata": {},
     "output_type": "execute_result"
    }
   ],
   "source": [
    "glove.itos[:5]"
   ]
  },
  {
   "cell_type": "markdown",
   "id": "8def2d83-d256-4432-ab2a-ab9cf782b062",
   "metadata": {},
   "source": [
    "Notice that punctuations are part of GloVe's vocabulary.\n",
    "\n",
    "To compare two words, we can look at their cosine similarity."
   ]
  },
  {
   "cell_type": "code",
   "execution_count": 5,
   "id": "fca0941f-9e61-4cf0-8bb8-a9132d50f0b7",
   "metadata": {
    "ExecuteTime": {
     "end_time": "2023-04-19T22:31:45.692455Z",
     "start_time": "2023-04-19T22:31:45.680027Z"
    }
   },
   "outputs": [
    {
     "name": "stdout",
     "output_type": "stream",
     "text": [
      "cat x cats = 0.6815836429595947\n",
      "cat x dog = 0.6816746592521667\n",
      "cat x fridge = 0.09630905091762543\n"
     ]
    }
   ],
   "source": [
    "words = [\"cat\", \"cats\", \"dog\", \"fridge\"]\n",
    "for word in words[1:]:\n",
    "    similarity = torch.cosine_similarity(\n",
    "        glove.vectors[glove.stoi[words[0]]].reshape(1, -1),\n",
    "        glove.vectors[glove.stoi[word]].reshape(1, -1),\n",
    "    ).item()  # .item() is used to turn a tensor of a single value to a float\n",
    "    print(f\"{words[0]} x {word} = {similarity}\")"
   ]
  },
  {
   "cell_type": "markdown",
   "id": "0f960f72-be8e-4f35-8b71-7d188ad61a90",
   "metadata": {},
   "source": [
    "**\\[1 point\\] Find the closest word to \"cat\" in the whole vocabulary.**"
   ]
  },
  {
   "cell_type": "code",
   "execution_count": 6,
   "id": "a504e211-bb70-48ad-b365-e4ab5d0ed25f",
   "metadata": {
    "ExecuteTime": {
     "end_time": "2023-04-19T22:31:53.728313Z",
     "start_time": "2023-04-19T22:31:45.685819Z"
    }
   },
   "outputs": [
    {
     "name": "stdout",
     "output_type": "stream",
     "text": [
      "cat x dog = 0.6816746592521667\n",
      "CPU times: total: 12.5 s\n",
      "Wall time: 13.8 s\n"
     ]
    }
   ],
   "source": [
    "%%time\n",
    "\n",
    "word = \"cat\"\n",
    "#  Find the closest word to \"cat\" in the whole vocabulary\n",
    "\n",
    "test_value = 0\n",
    "closest_word = None\n",
    "for w in glove.stoi:\n",
    "    if w == word:\n",
    "        continue\n",
    "\n",
    "    similarity = torch.cosine_similarity(\n",
    "        glove.vectors[glove.stoi[w]].reshape(1, -1),\n",
    "        glove.vectors[glove.stoi[word]].reshape(1, -1),\n",
    "    ).item()\n",
    "\n",
    "    if similarity > test_value:\n",
    "        test_value = similarity\n",
    "        closest_word = w\n",
    "\n",
    "print(f\"{words[0]} x {closest_word} = {test_value}\")"
   ]
  },
  {
   "attachments": {},
   "cell_type": "markdown",
   "metadata": {
    "collapsed": false
   },
   "source": [
    "cat x dog = 0.6816746592521667 : on remarque que vis à vis du GloVe, le mot qui est le plus proche de cat, si l'on échange dans une phrase garde un sens le plus similaire sémantiquement, est dog."
   ]
  },
  {
   "cell_type": "markdown",
   "id": "2caa4d00-769b-4304-8010-3721bc926e68",
   "metadata": {},
   "source": [
    "## Dataset and split\n",
    "\n",
    "As we keep the test set for final evaluation, we need to split the training set into a training and validation set. We make sure the split is **stratified** by class (same proportion of class in each split)."
   ]
  },
  {
   "cell_type": "code",
   "execution_count": 7,
   "id": "ee47710f-8f8f-4e1b-a3e0-390de0a64d4e",
   "metadata": {
    "ExecuteTime": {
     "end_time": "2023-04-19T22:31:54.973388Z",
     "start_time": "2023-04-19T22:31:53.729440Z"
    }
   },
   "outputs": [
    {
     "data": {
      "text/plain": [
       "((20000, 2), (5000, 2), (25000, 2))"
      ]
     },
     "execution_count": 7,
     "metadata": {},
     "output_type": "execute_result"
    }
   ],
   "source": [
    "dataset = load_dataset(\"imdb\")\n",
    "train_dataset = dataset[\"train\"].train_test_split(\n",
    "    stratify_by_column=\"label\", test_size=0.2, seed=42\n",
    ")\n",
    "test_df = dataset[\"test\"]\n",
    "train_df = train_dataset[\"train\"]\n",
    "valid_df = train_dataset[\"test\"]\n",
    "train_df.shape, valid_df.shape, test_df.shape"
   ]
  },
  {
   "cell_type": "markdown",
   "id": "e8f188d7-9e67-4b03-bab1-00508db56399",
   "metadata": {},
   "source": [
    "## Prepare the inputs\n",
    "\n",
    "### Text processing pipeline (2 points)\n",
    "\n",
    "For a given entry, we want to\n",
    "1. Tokenize the text.\n",
    "2. Get the vectors for each token.\n",
    "3. Average them.\n",
    "\n",
    "For tokenization, let's use the \"basic_english\" tokenizer from torchtext."
   ]
  },
  {
   "cell_type": "code",
   "execution_count": 8,
   "id": "a9868b71-5bc5-429c-9cb1-4ddb9c331f97",
   "metadata": {
    "ExecuteTime": {
     "end_time": "2023-04-19T22:31:54.973498Z",
     "start_time": "2023-04-19T22:31:54.973035Z"
    }
   },
   "outputs": [],
   "source": [
    "tokenizer = get_tokenizer(\"basic_english\", language=\"en\")"
   ]
  },
  {
   "cell_type": "markdown",
   "id": "63219cef-b375-40de-b3ad-1401b6079c5a",
   "metadata": {},
   "source": [
    "**\\[2 points\\] Fill the `preprocess_text` function so it returns the mean of the GloVe vectors of all the tokens within a review.**\n",
    "\n",
    "The two following functions can help.\n",
    "* [torch.stack](https://pytorch.org/docs/stable/generated/torch.stack.html)\n",
    "* [torch.mean](https://pytorch.org/docs/stable/generated/torch.mean.html)"
   ]
  },
  {
   "cell_type": "code",
   "execution_count": 9,
   "id": "3ba4642e-fd7c-4dd1-9799-74360787976d",
   "metadata": {
    "ExecuteTime": {
     "end_time": "2023-04-19T22:31:54.973587Z",
     "start_time": "2023-04-19T22:31:54.973126Z"
    }
   },
   "outputs": [],
   "source": [
    "def vectorize_text(\n",
    "    text: str, vocabulary: vocab.Vocab, tokenizer: Callable[[str], List[str]]\n",
    ") -> torch.Tensor:\n",
    "    \"\"\"\n",
    "    Turn a string into the average of the vectors of its tokens.\n",
    "    Args:\n",
    "        text: the input text.\n",
    "        vocabulary: a pre-trained Vocab object.\n",
    "        tokenizer: a tokenizer taking a text as input and returning a list of tokens.\n",
    "    Returns:\n",
    "        The average tensor over the tokens of the whole text.\n",
    "    \"\"\"\n",
    "    # 1. Tokenize the text.\n",
    "    tokens = tokenizer(text)\n",
    "\n",
    "    # 2. Get the vectors for each token.\n",
    "    vectors = [vocabulary.vectors[vocabulary.stoi[token]] for token in tokens if token in vocabulary.stoi]\n",
    "\n",
    "    # 3. Average them.\n",
    "    return torch.mean(torch.stack(vectors), dim=0)\n"
   ]
  },
  {
   "cell_type": "code",
   "execution_count": 10,
   "id": "9b6fa0c3-cb31-49d4-9869-fef8f1bb6a2d",
   "metadata": {
    "ExecuteTime": {
     "end_time": "2023-04-19T22:31:54.973640Z",
     "start_time": "2023-04-19T22:31:54.973204Z"
    },
    "scrolled": true,
    "tags": []
   },
   "outputs": [],
   "source": [
    "text_pipeline = partial(vectorize_text, vocabulary=glove, tokenizer=tokenizer)\n",
    "assert text_pipeline(\"some text.\").shape == torch.Size([300])"
   ]
  },
  {
   "cell_type": "markdown",
   "id": "c3caf280-7436-44b9-a223-c00012a590d2",
   "metadata": {},
   "source": [
    "Now we turn our 3 sets into vectors and labels.\n",
    "\n",
    "Our data are quite small, so we can keep everything in RAM."
   ]
  },
  {
   "cell_type": "code",
   "execution_count": 11,
   "id": "6a6f4e6e-6bc6-4bdf-831d-02b6f14a56b0",
   "metadata": {
    "ExecuteTime": {
     "end_time": "2023-04-19T22:32:23.212749Z",
     "start_time": "2023-04-19T22:31:54.973232Z"
    }
   },
   "outputs": [
    {
     "name": "stdout",
     "output_type": "stream",
     "text": [
      "100%|██████████| 20000/20000 [00:17<00:00, 1160.19it/s]\n",
      "100%|██████████| 5000/5000 [00:04<00:00, 1119.07it/s]\n",
      "100%|██████████| 25000/25000 [00:20<00:00, 1204.39it/s]\n"
     ]
    }
   ],
   "source": [
    "X_train = [text_pipeline(text) for text in tqdm(train_df[\"text\"])]\n",
    "y_train = train_df[\"label\"]\n",
    "X_valid = [text_pipeline(text) for text in tqdm(valid_df[\"text\"])]\n",
    "y_valid = valid_df[\"label\"]\n",
    "X_test = [text_pipeline(text) for text in tqdm(test_df[\"text\"])]\n",
    "y_test = test_df[\"label\"]"
   ]
  },
  {
   "cell_type": "markdown",
   "id": "928a5323-3f1e-4d1e-a5fa-2d752c5ae929",
   "metadata": {},
   "source": [
    "### Batch processing (1 point)\n",
    "\n",
    "Instead of doing one update per epoch, we feed the model batches of texts between each update. To do so, we use a simple data generator.\n",
    "\n",
    "**\\[1 point\\] Fill the generator function.**\n"
   ]
  },
  {
   "cell_type": "code",
   "execution_count": 12,
   "id": "014d3de9-94bb-4be8-9419-8d2aa59ba3c2",
   "metadata": {
    "ExecuteTime": {
     "end_time": "2023-04-19T22:32:23.212943Z",
     "start_time": "2023-04-19T22:32:23.212656Z"
    }
   },
   "outputs": [],
   "source": [
    "def data_generator(\n",
    "    X: List[torch.tensor], y: List[int], batch_size: int = 32\n",
    ") -> Generator[Tuple[torch.Tensor, torch.Tensor], None, None]:\n",
    "    \"\"\"\n",
    "    Yield batches from given input data and labels.\n",
    "    Args:\n",
    "        X: a list of tensor (input features).\n",
    "        y: the corresponding labels.\n",
    "        batch_size: the size of every batch [32].\n",
    "    Returns:\n",
    "        A tuple of tensors (features, labels).\n",
    "    \"\"\"\n",
    "    X, y = shuffle(X, y)\n",
    "\n",
    "    for i in range(0, len(X), batch_size):\n",
    "        yield torch.stack(X[i:i+batch_size]), torch.tensor(y[i:i+batch_size])"
   ]
  },
  {
   "cell_type": "code",
   "execution_count": 13,
   "id": "04ab809e-7363-4996-a064-291cd97b276e",
   "metadata": {
    "ExecuteTime": {
     "end_time": "2023-04-19T22:32:23.213062Z",
     "start_time": "2023-04-19T22:32:23.212718Z"
    }
   },
   "outputs": [],
   "source": [
    "train_gen = lambda: data_generator(X_train, y_train, batch_size=32)\n",
    "for X, y in train_gen():\n",
    "    assert X.shape == torch.Size([32, 300])\n",
    "    assert y.shape == torch.Size([32])\n",
    "    break"
   ]
  },
  {
   "cell_type": "markdown",
   "id": "ec152a5b-e80e-4d34-82dc-75012707a160",
   "metadata": {},
   "source": [
    "## The classifier (1 point)\n",
    "\n",
    "We create a very simple classifier corresponding a logistic regression.\n",
    "\n",
    "**\\[1 point\\] Fill the classifier's code. The forward function needs to return a logit and not the output of a sigmoid.**"
   ]
  },
  {
   "cell_type": "code",
   "execution_count": 14,
   "id": "09607378-c4a4-4e6b-8bf0-b1c40ef941c4",
   "metadata": {
    "ExecuteTime": {
     "end_time": "2023-04-19T22:32:23.213178Z",
     "start_time": "2023-04-19T22:32:23.212817Z"
    }
   },
   "outputs": [],
   "source": [
    "class SimpleClassifer(nn.Module):\n",
    "    \"\"\"\n",
    "    A simple linear classifier.\n",
    "    \"\"\"\n",
    "\n",
    "    def __init__(self, embedding_size: int, nb_classes: int, *args, **kwargs) -> None:\n",
    "        \"\"\"\n",
    "        Args:\n",
    "            embedding_size: the dimension of the input embeddings.\n",
    "        nb_classes: the output dimension.\n",
    "        \"\"\"\n",
    "        super().__init__(*args, **kwargs)\n",
    "        self.linear = nn.Linear(embedding_size, nb_classes)\n",
    "\n",
    "    def forward(self, x: torch.Tensor) -> torch.Tensor:\n",
    "        \"\"\"\n",
    "        Args:\n",
    "            x: an input tensor\n",
    "        Returns:\n",
    "            Logits.\n",
    "        \"\"\"\n",
    "        return self.linear(x)"
   ]
  },
  {
   "cell_type": "markdown",
   "id": "5482c601-8ad2-4244-aa49-380df76091c1",
   "metadata": {},
   "source": [
    "## Training (3 points)\n",
    "\n",
    "We put everything above together and train the classifier."
   ]
  },
  {
   "cell_type": "code",
   "execution_count": 15,
   "id": "0e6a6da3-d538-4ebc-9bc9-cdec010de29f",
   "metadata": {
    "ExecuteTime": {
     "end_time": "2023-04-19T22:32:24.471757Z",
     "start_time": "2023-04-19T22:32:23.212848Z"
    }
   },
   "outputs": [
    {
     "data": {
      "text/plain": [
       "'cpu'"
      ]
     },
     "execution_count": 15,
     "metadata": {},
     "output_type": "execute_result"
    }
   ],
   "source": [
    "device = \"cuda:0\" if torch.cuda.is_available() else \"cpu\"\n",
    "device"
   ]
  },
  {
   "cell_type": "code",
   "execution_count": 16,
   "id": "47d80e77-75dc-4aa6-b0cf-0f4619bb8b52",
   "metadata": {
    "ExecuteTime": {
     "end_time": "2023-04-19T22:32:24.512797Z",
     "start_time": "2023-04-19T22:32:24.472091Z"
    }
   },
   "outputs": [],
   "source": [
    "train_gen = lambda: data_generator(X_train, y_train)\n",
    "valid_gen = lambda: data_generator(X_valid, y_valid)\n",
    "test_gen = lambda: data_generator(X_test, y_test)"
   ]
  },
  {
   "cell_type": "markdown",
   "id": "18ddcbc0-a8a0-433f-86d6-63d51f1877c6",
   "metadata": {},
   "source": [
    "**\\[3 points\\] Fill the following cells. Make sure you save the best model evaluated on the validation set.**\n",
    "* The `deepcopy` function might help."
   ]
  },
  {
   "cell_type": "code",
   "execution_count": 17,
   "id": "c4ea0bd2-d156-48e4-ab10-82dae2a880f1",
   "metadata": {
    "ExecuteTime": {
     "end_time": "2023-04-19T22:32:25.381542Z",
     "start_time": "2023-04-19T22:32:24.514605Z"
    }
   },
   "outputs": [],
   "source": [
    "model = SimpleClassifer(300, 1).to(device)\n",
    "criterion = nn.BCEWithLogitsLoss()\n",
    "# You can use another optimizer if you want.\n",
    "optimizer = torch.optim.Adam(model.parameters())"
   ]
  },
  {
   "cell_type": "code",
   "execution_count": 18,
   "id": "262b4d32-9d63-4764-92e1-fa7ee27891f4",
   "metadata": {
    "ExecuteTime": {
     "end_time": "2023-04-19T22:32:44.316595Z",
     "start_time": "2023-04-19T22:32:25.388811Z"
    }
   },
   "outputs": [
    {
     "name": "stdout",
     "output_type": "stream",
     "text": [
      "100%|██████████| 50/50 [00:12<00:00,  4.08it/s]\n"
     ]
    }
   ],
   "source": [
    "nb_epochs = 50\n",
    "train_losses, valid_losses = [], []\n",
    "\n",
    "best_model = model\n",
    "best_validation_loss = np.Inf\n",
    "\n",
    "for epoch in tqdm(range(nb_epochs)):\n",
    "\n",
    "    # training\n",
    "    model.train()\n",
    "\n",
    "    # training loop\n",
    "    train_loss = 0.0\n",
    "    for X, y in train_gen():\n",
    "        X, y = X.to(device), y.to(device)\n",
    "\n",
    "        optimizer.zero_grad()\n",
    "\n",
    "        logits = model(X)\n",
    "        loss = criterion(logits, y.unsqueeze(1).float())\n",
    "        loss.backward()\n",
    "\n",
    "        optimizer.step()\n",
    "        train_loss += loss.item()\n",
    "    \n",
    "    train_loss /= len(X_train)\n",
    "    train_losses.append(train_loss)\n",
    "\n",
    "    # validation\n",
    "    model.eval()\n",
    "\n",
    "    # validation loop\n",
    "    with torch.no_grad():\n",
    "        valid_loss = 0.0\n",
    "        for X, y in valid_gen():\n",
    "            X, y = X.to(device), y.to(device)\n",
    "\n",
    "            logits = model(X)\n",
    "            loss = criterion(logits, y.unsqueeze(1).float())\n",
    "            valid_loss += loss.item()\n",
    "\n",
    "        valid_loss /= len(X_valid)\n",
    "        valid_losses.append(valid_loss)\n",
    "\n",
    "    # save the best model\n",
    "    if valid_loss < best_validation_loss:\n",
    "        best_validation_loss = valid_loss\n",
    "        best_model = deepcopy(model)\n",
    "\n"
   ]
  },
  {
   "cell_type": "code",
   "execution_count": 19,
   "id": "7907de12-1fc2-4597-980b-87d79baeb807",
   "metadata": {
    "ExecuteTime": {
     "end_time": "2023-04-19T22:32:44.603455Z",
     "start_time": "2023-04-19T22:32:44.318309Z"
    }
   },
   "outputs": [
    {
     "data": {
      "text/plain": [
       "<matplotlib.legend.Legend at 0x25b07439390>"
      ]
     },
     "execution_count": 19,
     "metadata": {},
     "output_type": "execute_result"
    },
    {
     "data": {
      "image/png": "[encoded data removed]",
      "text/plain": [
       "<Figure size 640x480 with 1 Axes>"
      ]
     },
     "metadata": {},
     "output_type": "display_data"
    }
   ],
   "source": [
    "plt.plot(train_losses, label=\"train loss\")\n",
    "plt.plot(valid_losses, label=\"valid loss\")\n",
    "plt.legend()"
   ]
  },
  {
   "cell_type": "markdown",
   "metadata": {
    "collapsed": false
   },
   "source": [
    "Le résultat semble cohérent et plutôt bon."
   ]
  },
  {
   "cell_type": "markdown",
   "id": "3020533b-0522-42ff-bcdc-6d1cd991d332",
   "metadata": {},
   "source": [
    "## Evaluation (3 point)\n",
    "\n",
    "**\\[1 point\\] Compute the accuracy for the 3 splits (training, validation, test).**"
   ]
  },
  {
   "cell_type": "code",
   "execution_count": 20,
   "id": "73674e1e-0be6-49b0-af23-a0a9b518d170",
   "metadata": {
    "ExecuteTime": {
     "end_time": "2023-04-19T22:32:44.858862Z",
     "start_time": "2023-04-19T22:32:44.610771Z"
    }
   },
   "outputs": [
    {
     "name": "stdout",
     "output_type": "stream",
     "text": [
      "Training accuracy: 0.8349\n",
      "Validation accuracy: 0.8280\n",
      "Test accuracy: 0.8253\n"
     ]
    }
   ],
   "source": [
    "def compute_accuracy(model: nn.Module, data_gen: Callable[[], Generator]) -> float:\n",
    "    \"\"\"\n",
    "    Compute the accuracy of the model on the given data.\n",
    "    :param model: the model to evaluate : nn.Module\n",
    "    :param data_gen: a generator function returning batches of data : Callable[[], Generator]\n",
    "    :return: the accuracy : float\n",
    "    \"\"\"\n",
    "    model.eval()\n",
    "    correct = 0\n",
    "    total = 0\n",
    "\n",
    "    with torch.no_grad():\n",
    "        for X, y in data_gen():\n",
    "            X, y = X.to(device), y.to(device)\n",
    "            logits = model(X)\n",
    "            predictions = torch.round(torch.sigmoid(logits))\n",
    "            correct += (predictions == y.unsqueeze(1)).sum().item()\n",
    "            total += len(y)\n",
    "\n",
    "    return correct / total\n",
    "\n",
    "print(f\"Training accuracy: {compute_accuracy(model, train_gen):.4f}\")\n",
    "print(f\"Validation accuracy: {compute_accuracy(model, valid_gen):.4f}\")\n",
    "print(f\"Test accuracy: {compute_accuracy(model, test_gen):.4f}\")"
   ]
  },
  {
   "cell_type": "markdown",
   "metadata": {
    "collapsed": false
   },
   "source": [
    "**\\[1 point\\] For two wrongly classified samples, try guessing why the model was wrong.**\n"
   ]
  },
  {
   "cell_type": "markdown",
   "metadata": {
    "collapsed": false
   },
   "source": [
    "On réutilise et adapte la fonction `get_wrongly_classified` définie dans le lab précédant."
   ]
  },
  {
   "cell_type": "code",
   "execution_count": 21,
   "metadata": {
    "ExecuteTime": {
     "end_time": "2023-04-19T22:32:45.507341Z",
     "start_time": "2023-04-19T22:32:44.861325Z"
    },
    "collapsed": false
   },
   "outputs": [
    {
     "name": "stdout",
     "output_type": "stream",
     "text": [
      "Number of wrong predictions: 4368\n"
     ]
    }
   ],
   "source": [
    "def get_wrongly_classified(model: nn.Module, data_gen: Callable[[], Generator]) -> List[Tuple[str, int, float]]:\n",
    "    \"\"\"\n",
    "    Get the wrong predictions of the model on the given data.\n",
    "    :param model: the model to evaluate : nn.Module\n",
    "    :param data_gen: a generator function returning batches of data : Callable[[], Generator]\n",
    "    :return: a list of tuples (text, label, score) : List[Tuple[str, int, float]]\n",
    "    \"\"\"\n",
    "    model.eval()\n",
    "    wrong_predictions = []\n",
    "\n",
    "    with torch.no_grad():\n",
    "        index = 0\n",
    "        for X, y in data_gen():\n",
    "            X, y = X.to(device), y.to(device)\n",
    "            predictions = torch.round(torch.sigmoid(model(X)))\n",
    "            wrong_predictions += [\n",
    "                (text, int(label), index)\n",
    "                for text, label, prediction in zip(X_test, y, predictions)\n",
    "                if prediction != label\n",
    "            ]\n",
    "            index += 1\n",
    "\n",
    "    return wrong_predictions\n",
    "\n",
    "wrong_classified = get_wrongly_classified(model, test_gen)\n",
    "print(f\"Number of wrong predictions: {len(wrong_classified)}\")"
   ]
  },
  {
   "cell_type": "code",
   "execution_count": 22,
   "metadata": {
    "ExecuteTime": {
     "end_time": "2023-04-19T22:32:45.509987Z",
     "start_time": "2023-04-19T22:32:45.507422Z"
    },
    "collapsed": false
   },
   "outputs": [],
   "source": [
    "# instantiate a Pseudo-random number generator (PRNG)\n",
    "rng = np.random.default_rng(420)"
   ]
  },
  {
   "cell_type": "code",
   "execution_count": 23,
   "metadata": {
    "ExecuteTime": {
     "end_time": "2023-04-19T22:32:45.543857Z",
     "start_time": "2023-04-19T22:32:45.510234Z"
    },
    "collapsed": false
   },
   "outputs": [
    {
     "name": "stdout",
     "output_type": "stream",
     "text": [
      "Correct label : 0\n",
      "Text: \n",
      "The 1935 version of \"Enchanted April\" manages to be simultaneously tedious<br /><br />and perfunctory. It is difficult to show the transformative magic of Italy shooting in a studio with only stereotypical Italian behavior to belabor. The transformation of the four strangers fleeing London is instantaneous in the cut from the first day to a week later. Rather than develop, the screenplay flips a switch and the<br /><br />characters are different.<br /><br />The husbands are boring enough in flashbacks without turning up, even if their presence does not drive the four women back into their shells and/or hostilities.<br /><br />Jessie Ralph has the most fun (moving instead of entirely chewing up the<br /><br />scenery) and Katharine Alexander has some poignant charm out of her<br /><br />husband's shadow (and away from his hideous droning). Ann Harding is<br /><br />unremarkable here (with the Production Code being enforced). She had an<br /><br />appropriate line in an earlier (pre-Code) movie, \"When Ladies Meet\": \"You're<br /><br />not worth a minute of one anxious hour that either one of us has given you,\" but in \"Enchanted April\" can only look hurt, rush out, and proclaim fealty to her errant husband.\n"
     ]
    }
   ],
   "source": [
    "infos_1 = wrong_classified[int(rng.random() * len(wrong_classified))]\n",
    "print(f\"Correct label : {infos_1[1]}\\nText: \\n{test_df['text'][infos_1[2]]}\")"
   ]
  },
  {
   "attachments": {},
   "cell_type": "markdown",
   "metadata": {
    "collapsed": false
   },
   "source": [
    "On peut expliquer l'erreur parce que l'auteur fait une critique en utilisant peu de phrases négatives. De plus, l'auteur construit une argumentation, il donne donc des points positifs et négatifs pour analyser ce film. (Pos: \"Jessie Ralph has the most fun\" ou \"Katharine Alexander has some poignant charm\". Neg : \"only look hurt, rush out\"). Ceci a pu induire le modèle en erreur."
   ]
  },
  {
   "cell_type": "code",
   "execution_count": 24,
   "metadata": {
    "ExecuteTime": {
     "end_time": "2023-04-19T22:32:45.579565Z",
     "start_time": "2023-04-19T22:32:45.575497Z"
    },
    "collapsed": false
   },
   "outputs": [
    {
     "name": "stdout",
     "output_type": "stream",
     "text": [
      "Correct label : 0\n",
      "Text: \n",
      "Ho humm - - - More of nothing. If you are a long-time Rush fan you know what this video contains: loathsome songs from the past, the \"BIG 3\" hits from the 80's and their \"last-ditch\" efforts to remain contemporary. They do succeed in making fun of themselves by beating the critics to the punch by portraying themselves as \"dinosaurs.\" Unfortunately, they FAIL at protecting themselves from embarrassment. Close-ups of their faces only add to the fact that these guys HAVE BEEN.<br /><br />If you are have been following (as much as you can stomach) the band for a couple of decades from the 70's, then you know there is no new material here. Same old, same OLD: 1) Neil avoids the press, 2) no real behind-the-scenes (Geddy looses his SHOES?! Give me a break! Even HE thinks it's absurd!) 3) no new insights.<br /><br />A better video would have been to show the CREW setting up for 3 or 4 hours  just let the camera run. And stop changing camera angles every 2 seconds! I understand the director wants to try to do something artsy. But then offer a full concert version of 2 or 3 shots the VIEWER can choose. We know what the band looks like  let us see what WE REALLY want to see.<br /><br />Do yourself a BIG favor: RENT this movie first.\n"
     ]
    }
   ],
   "source": [
    "infos_2 = wrong_classified[int(rng.random() * len(wrong_classified))]\n",
    "print(f\"Correct label : {infos_2[1]}\\nText: \\n{test_df['text'][infos_2[2]]}\")"
   ]
  },
  {
   "attachments": {},
   "cell_type": "markdown",
   "metadata": {
    "collapsed": false
   },
   "source": [
    "Bien que le commentaire exprime clairement des critiques et des déceptions à l'égard du contenu de la vidéo, il peut ne pas contenir suffisamment de marqueurs émotionnels forts, tels que des mots forts ou des expressions émotionnelles explicites, pour indiquer clairement une tonalité négative au modèle. Le commentaire utilise des phrases complexes et des négations, ce qui peut rendre la tonalité générale difficile à interpréter. Par exemple, la phrase \"Unfortunately, they FAIL at protecting themselves from embarrassment\" peut sembler négative à première vue, mais elle peut être mal comprise si le modèle ne prend pas en compte le contexte global."
   ]
  },
  {
   "cell_type": "markdown",
   "id": "ac0b7102-fb1d-4a27-a400-ff0e40e1a685",
   "metadata": {},
   "source": [
    "**\\[1 point\\] Code a `predict` function which take some text as input and returns a prediction class and score (the output of the sigmoid).**"
   ]
  },
  {
   "cell_type": "code",
   "execution_count": 26,
   "id": "094f7ac3-ad53-43e3-a1f6-90ed3a61259c",
   "metadata": {
    "ExecuteTime": {
     "end_time": "2023-04-19T22:32:45.651956Z",
     "start_time": "2023-04-19T22:32:45.651536Z"
    }
   },
   "outputs": [],
   "source": [
    "def predict(\n",
    "    text: str,\n",
    "    text_pipeline: Callable[[str], torch.Tensor],\n",
    "    model: nn.Module,\n",
    "    device: str,\n",
    ") -> Tuple[int, float]:\n",
    "    \"\"\"\n",
    "    Return the predicted class and score for a given input.\n",
    "    Args:\n",
    "        text: a given review.\n",
    "        text_pipeline: a function taking a text as input and returning a tensor (model's input).\n",
    "        model: a pre-trained model.\n",
    "        device: the device on which the computation occurs.\n",
    "    Returns:\n",
    "        A tuple (label, score).\n",
    "    \"\"\"\n",
    "    model.eval()\n",
    "    X = text_pipeline(text).to(device)\n",
    "    with torch.no_grad():\n",
    "        logits = model(X)\n",
    "        probs = torch.sigmoid(logits)\n",
    "        return int(torch.round(probs)), float(probs)"
   ]
  },
  {
   "cell_type": "code",
   "execution_count": 27,
   "id": "84e7130f-ce7f-41ed-a7d2-bcc6f65482f5",
   "metadata": {
    "ExecuteTime": {
     "end_time": "2023-04-19T22:32:45.652310Z",
     "start_time": "2023-04-19T22:32:45.651585Z"
    }
   },
   "outputs": [
    {
     "data": {
      "text/plain": [
       "(0, 0.32509440183639526)"
      ]
     },
     "execution_count": 27,
     "metadata": {},
     "output_type": "execute_result"
    }
   ],
   "source": [
    "text = \"In my long years as a movie reviewers, I have seen good and bad movies. But nothing as controversially in the middle.\"\n",
    "predict(text, text_pipeline, model, device)"
   ]
  },
  {
   "cell_type": "markdown",
   "id": "c44f2dff-da04-466e-bf2c-32f9e84d10a3",
   "metadata": {},
   "source": [
    "## Bonus\n",
    "\n",
    "Modify the classifier. Instead of using a simple logistic regression, create a multilayer perceptron. Something like `input -> linear(embedding_size, 128) -> activation function -> linear(128, nb_classes) -> output`, for a two layer perceptron.\n",
    "\n",
    "For the activation function, you can use [ReLU](https://pytorch.org/docs/stable/generated/torch.nn.ReLU.html#torch.nn.ReLU) or [another non-linear activation function](https://pytorch.org/docs/stable/nn.html#non-linear-activations-weighted-sum-nonlinearity) of your choice.\n",
    "\n",
    "Train your new classifier, look at the loss, and compare its accuracy with the logistic regression. Keep the model with the best validation loss."
   ]
  },
  {
   "cell_type": "code",
   "execution_count": 28,
   "metadata": {
    "ExecuteTime": {
     "end_time": "2023-04-19T22:32:45.652399Z",
     "start_time": "2023-04-19T22:32:45.651616Z"
    },
    "collapsed": false
   },
   "outputs": [],
   "source": [
    "class MLPPerceptron(nn.Module):\n",
    "    \"\"\"\n",
    "    A two-layer multilayer perceptron.\n",
    "    \"\"\"\n",
    "\n",
    "    def __init__(self, embedding_size: int, nb_classes: int, hidden_size : int = 128, *args, **kwargs) -> None:\n",
    "        \"\"\"\n",
    "        :param embedding_size: the dimension of the input embeddings : int\n",
    "        :param nb_classes: the output dimension : int\n",
    "        :param hidden_size: the size of the hidden layer : int\n",
    "        \"\"\"\n",
    "        super().__init__(*args, **kwargs)\n",
    "        self.linear1 = nn.Linear(embedding_size, hidden_size)\n",
    "        self.linear2 = nn.Linear(hidden_size, nb_classes)\n",
    "        self.relu = nn.ReLU()\n",
    "\n",
    "    def forward(self, x: torch.Tensor) -> torch.Tensor:\n",
    "        \"\"\"\n",
    "        :param x: an input tensor: torch.Tensor\n",
    "        :return: the logits: torch.Tensor\n",
    "        \"\"\"\n",
    "        x1 = self.relu(self.linear1(x))\n",
    "        return self.linear2(x1)"
   ]
  },
  {
   "cell_type": "code",
   "execution_count": 29,
   "metadata": {
    "ExecuteTime": {
     "end_time": "2023-04-19T22:32:45.652462Z",
     "start_time": "2023-04-19T22:32:45.651641Z"
    },
    "collapsed": false
   },
   "outputs": [],
   "source": [
    "device = \"cuda:0\" if torch.cuda.is_available() else \"cpu\""
   ]
  },
  {
   "cell_type": "code",
   "execution_count": 30,
   "metadata": {
    "ExecuteTime": {
     "end_time": "2023-04-19T22:32:45.652516Z",
     "start_time": "2023-04-19T22:32:45.651667Z"
    },
    "collapsed": false
   },
   "outputs": [],
   "source": [
    "train_gen = lambda: data_generator(X_train, y_train)\n",
    "valid_gen = lambda: data_generator(X_valid, y_valid)\n",
    "test_gen = lambda: data_generator(X_test, y_test)"
   ]
  },
  {
   "cell_type": "code",
   "execution_count": 31,
   "id": "8975c53d-2707-4d3c-ab8e-6962d5256136",
   "metadata": {
    "ExecuteTime": {
     "end_time": "2023-04-19T22:33:10.058177Z",
     "start_time": "2023-04-19T22:32:45.651773Z"
    }
   },
   "outputs": [
    {
     "name": "stdout",
     "output_type": "stream",
     "text": [
      "100%|██████████| 50/50 [00:29<00:00,  1.68it/s]\n"
     ]
    }
   ],
   "source": [
    "model = MLPPerceptron(300, 1).to(device)\n",
    "criterion = nn.BCEWithLogitsLoss()\n",
    "optimizer = torch.optim.Adam(model.parameters())\n",
    "\n",
    "nb_epochs = 50\n",
    "train_losses, valid_losses = [], []\n",
    "\n",
    "best_model = model\n",
    "best_validation_loss = np.Inf\n",
    "\n",
    "for epoch in tqdm(range(nb_epochs)):\n",
    "    # training\n",
    "    model.train()\n",
    "\n",
    "    # training loop\n",
    "    train_loss = 0.0\n",
    "    for X, y in train_gen():\n",
    "        X, y = X.to(device), y.to(device)\n",
    "\n",
    "        optimizer.zero_grad()\n",
    "\n",
    "        logits = model(X)\n",
    "        loss = criterion(logits, y.unsqueeze(1).float())\n",
    "        loss.backward()\n",
    "\n",
    "        optimizer.step()\n",
    "        train_loss += loss.item()\n",
    "    \n",
    "    train_loss /= len(X_train)\n",
    "    train_losses.append(train_loss)\n",
    "\n",
    "    # validation\n",
    "    model.eval()\n",
    "\n",
    "    # validation loop\n",
    "    with torch.no_grad():\n",
    "        valid_loss = 0.0\n",
    "        for X, y in valid_gen():\n",
    "            X, y = X.to(device), y.to(device)\n",
    "\n",
    "            logits = model(X)\n",
    "            loss = criterion(logits, y.unsqueeze(1).float())\n",
    "            valid_loss += loss.item()\n",
    "\n",
    "        valid_loss /= len(X_valid)\n",
    "        valid_losses.append(valid_loss)\n",
    "\n",
    "    # save the best model\n",
    "    if valid_loss < best_validation_loss:\n",
    "        best_validation_loss = valid_loss\n",
    "        best_model = deepcopy(model)"
   ]
  },
  {
   "cell_type": "code",
   "execution_count": 32,
   "metadata": {
    "ExecuteTime": {
     "end_time": "2023-04-19T22:33:10.153043Z",
     "start_time": "2023-04-19T22:33:10.070102Z"
    },
    "collapsed": false
   },
   "outputs": [
    {
     "data": {
      "image/png": "[encoded data removed]",
      "text/plain": [
       "<Figure size 640x480 with 1 Axes>"
      ]
     },
     "metadata": {},
     "output_type": "display_data"
    }
   ],
   "source": [
    "plt.plot(train_losses, label=\"train loss\")\n",
    "plt.plot(valid_losses, label=\"valid loss\")\n",
    "plt.legend()\n",
    "plt.show()"
   ]
  },
  {
   "cell_type": "code",
   "execution_count": 33,
   "metadata": {
    "ExecuteTime": {
     "end_time": "2023-04-19T22:33:10.487661Z",
     "start_time": "2023-04-19T22:33:10.158140Z"
    },
    "collapsed": false
   },
   "outputs": [
    {
     "name": "stdout",
     "output_type": "stream",
     "text": [
      "Training accuracy: 0.8629\n",
      "Validation accuracy: 0.8404\n",
      "Test accuracy: 0.8418\n"
     ]
    },
    {
     "data": {
      "text/plain": [
       "(0, 0.2466152310371399)"
      ]
     },
     "execution_count": 33,
     "metadata": {},
     "output_type": "execute_result"
    }
   ],
   "source": [
    "print(f\"Training accuracy: {compute_accuracy(model, train_gen):.4f}\")\n",
    "print(f\"Validation accuracy: {compute_accuracy(model, valid_gen):.4f}\")\n",
    "print(f\"Test accuracy: {compute_accuracy(model, test_gen):.4f}\")\n",
    "\n",
    "text = \"In my long years as a movie reviewers, I have seen good and bad movies. But nothing as controversially in the middle.\"\n",
    "predict(text, text_pipeline, model, device)"
   ]
  }
 ],
 "metadata": {
  "kernelspec": {
   "display_name": "Python 3 (ipykernel)",
   "language": "python",
   "name": "python3"
  },
  "language_info": {
   "codemirror_mode": {
    "name": "ipython",
    "version": 3
   },
   "file_extension": ".py",
   "mimetype": "text/x-python",
   "name": "python",
   "nbconvert_exporter": "python",
   "pygments_lexer": "ipython3",
   "version": "3.11.3"
  }
 },
 "nbformat": 4,
 "nbformat_minor": 5
}
