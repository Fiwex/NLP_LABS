{
 "cells": [
  {
   "cell_type": "markdown",
   "source": [
    "# NLP 2 - Lab 07\n",
    "## Adrien Giget, Tanguy Malandain, Denis Stojiljkovic"
   ],
   "metadata": {
    "collapsed": false
   }
  },
  {
   "cell_type": "markdown",
   "source": [
    "### Imports & Data"
   ],
   "metadata": {
    "collapsed": false
   }
  },
  {
   "cell_type": "code",
   "execution_count": 16,
   "outputs": [],
   "source": [
    "import transformers\n",
    "import torch\n",
    "import numpy as np\n",
    "from transformers import AutoModelForSequenceClassification, AutoTokenizer, Trainer, TrainingArguments\n",
    "from datasets import load_dataset\n",
    "import evaluate"
   ],
   "metadata": {
    "collapsed": false
   }
  },
  {
   "cell_type": "code",
   "execution_count": 2,
   "metadata": {
    "id": "uY8RTOSBA_v7",
    "colab": {
     "base_uri": "https://localhost:8080/",
     "height": 86,
     "referenced_widgets": [
      "f96cf96e9841487886c3ad08dc4339db",
      "675062d897a848e58adc4ad2b004ab6a",
      "0cc2369e7bfe4e30b98093446245a3e6",
      "1c4efd54e7a74ea4ae3fed3662b7adec",
      "3ccf6ac9b8bd4758be19370738024a86",
      "ca836f65c02d40a298563024ebd264d9",
      "fd64c3b05d53438786e4cee0248eac2e",
      "4fbcec870b73442d9c9d76da11cb8821",
      "81e164583cf94439867981cd5eb6e8fe",
      "86472f6c5a194bc5a1427820e0102f57",
      "e7b9bd26ddeb46c1816d46338c31b708"
     ]
    },
    "outputId": "839a2a3f-b20b-4c17-e78b-b5b9ef863795"
   },
   "outputs": [
    {
     "output_type": "stream",
     "name": "stderr",
     "text": [
      "WARNING:datasets.builder:Found cached dataset imdb (/root/.cache/huggingface/datasets/imdb/plain_text/1.0.0/d613c88cf8fa3bab83b4ded3713f1f74830d1100e171db75bbddb80b3345c9c0)\n"
     ]
    },
    {
     "output_type": "display_data",
     "data": {
      "text/plain": [
       "  0%|          | 0/3 [00:00<?, ?it/s]"
      ],
      "application/vnd.jupyter.widget-view+json": {
       "version_major": 2,
       "version_minor": 0,
       "model_id": "f96cf96e9841487886c3ad08dc4339db"
      }
     },
     "metadata": {}
    }
   ],
   "source": [
    "# Load the IMDB dataset\n",
    "dataset = load_dataset('imdb')"
   ]
  },
  {
   "cell_type": "markdown",
   "source": [
    "### Model"
   ],
   "metadata": {
    "collapsed": false
   }
  },
  {
   "cell_type": "code",
   "execution_count": 36,
   "metadata": {
    "id": "WHgqV0GTA_v8",
    "outputId": "4dc0c3eb-ae73-45d3-855c-a9f892c8b76d",
    "colab": {
     "base_uri": "https://localhost:8080/"
    }
   },
   "outputs": [
    {
     "output_type": "stream",
     "name": "stderr",
     "text": [
      "Some weights of the model checkpoint at distilbert-base-uncased were not used when initializing DistilBertForSequenceClassification: ['vocab_transform.bias', 'vocab_layer_norm.bias', 'vocab_transform.weight', 'vocab_projector.bias', 'vocab_projector.weight', 'vocab_layer_norm.weight']\n",
      "- This IS expected if you are initializing DistilBertForSequenceClassification from the checkpoint of a model trained on another task or with another architecture (e.g. initializing a BertForSequenceClassification model from a BertForPreTraining model).\n",
      "- This IS NOT expected if you are initializing DistilBertForSequenceClassification from the checkpoint of a model that you expect to be exactly identical (initializing a BertForSequenceClassification model from a BertForSequenceClassification model).\n",
      "Some weights of DistilBertForSequenceClassification were not initialized from the model checkpoint at distilbert-base-uncased and are newly initialized: ['pre_classifier.bias', 'classifier.weight', 'pre_classifier.weight', 'classifier.bias']\n",
      "You should probably TRAIN this model on a down-stream task to be able to use it for predictions and inference.\n"
     ]
    }
   ],
   "source": [
    "# Choose the model\n",
    "checkpoint = \"distilbert-base-uncased\"\n",
    "\n",
    "# Load the model and tokenizer\n",
    "tokenizer = AutoTokenizer.from_pretrained(checkpoint)\n",
    "model = AutoModelForSequenceClassification.from_pretrained(checkpoint)"
   ]
  },
  {
   "cell_type": "code",
   "execution_count": 4,
   "metadata": {
    "id": "1PtwpJxaA_v8"
   },
   "outputs": [],
   "source": [
    "# Tokenize the dataset\n",
    "def tokenize_function(examples):\n",
    "    return tokenizer(examples[\"text\"], padding=\"max_length\", truncation=True)"
   ]
  },
  {
   "cell_type": "code",
   "execution_count": 5,
   "metadata": {
    "id": "qWD1k8bwA_v8",
    "outputId": "c7f156ef-8774-4e9d-a968-ec6779a595fc",
    "colab": {
     "referenced_widgets": [
      "537f1825714c446297b2b2a69cf65be6",
      "d91488f88b3949e785106e4c8c78d98a",
      "c451d3c5116743cc905dd180dca8eb46",
      "e874af9735214f538240fafe7a0f963d",
      "ff3bd0e3a0d14d68993b079b260f2069",
      "bb75a8bb29554847ba8ed1f8cad7531e",
      "224724a2573b4cda83b07d4fdf7b50bf",
      "3ff4a8a561424c76b2ed8b1e002ba55d",
      "fbc98f8722e8476fb2ff16ca8af8952f",
      "a64aae03b3544b41a222dc7a3d1900bc",
      "79de67c9a2414c8193168ce04b5b55ec"
     ],
     "base_uri": "https://localhost:8080/",
     "height": 72
    }
   },
   "outputs": [
    {
     "output_type": "stream",
     "name": "stderr",
     "text": [
      "WARNING:datasets.arrow_dataset:Loading cached processed dataset at /root/.cache/huggingface/datasets/imdb/plain_text/1.0.0/d613c88cf8fa3bab83b4ded3713f1f74830d1100e171db75bbddb80b3345c9c0/cache-fda3cc6a5c4b3462.arrow\n"
     ]
    },
    {
     "output_type": "display_data",
     "data": {
      "text/plain": [
       "Map:   0%|          | 0/25000 [00:00<?, ? examples/s]"
      ],
      "application/vnd.jupyter.widget-view+json": {
       "version_major": 2,
       "version_minor": 0,
       "model_id": "537f1825714c446297b2b2a69cf65be6"
      }
     },
     "metadata": {}
    },
    {
     "output_type": "stream",
     "name": "stderr",
     "text": [
      "WARNING:datasets.arrow_dataset:Loading cached processed dataset at /root/.cache/huggingface/datasets/imdb/plain_text/1.0.0/d613c88cf8fa3bab83b4ded3713f1f74830d1100e171db75bbddb80b3345c9c0/cache-f9f844f0fd2b12a6.arrow\n"
     ]
    }
   ],
   "source": [
    "tokenized_datasets = dataset.map(tokenize_function, batched=True)"
   ]
  },
  {
   "cell_type": "markdown",
   "source": [
    "## 1. (3 points) Fine-tune the model on the training data."
   ],
   "metadata": {
    "id": "WC6kDIe5iHG8"
   }
  },
  {
   "cell_type": "code",
   "execution_count": 6,
   "metadata": {
    "id": "MrYeg-1UA_v8"
   },
   "outputs": [],
   "source": [
    "# Define the training arguments\n",
    "training_args = TrainingArguments(\n",
    "    \"test_trainer\",\n",
    "    evaluation_strategy = \"epoch\",\n",
    "    learning_rate=2e-5,\n",
    "    per_device_train_batch_size=16,\n",
    "    per_device_eval_batch_size=16,\n",
    "    num_train_epochs=1,\n",
    "    weight_decay=0.01,\n",
    ")"
   ]
  },
  {
   "cell_type": "code",
   "execution_count": 7,
   "metadata": {
    "id": "uO-rjW1CA_v8"
   },
   "outputs": [],
   "source": [
    "# Define the trainer\n",
    "trainer = Trainer(\n",
    "    model=model,\n",
    "    args=training_args,\n",
    "    train_dataset=tokenized_datasets[\"train\"],\n",
    "    eval_dataset=tokenized_datasets[\"test\"],\n",
    "    tokenizer=tokenizer,\n",
    ")"
   ]
  },
  {
   "cell_type": "markdown",
   "source": [
    "The chosen parameters dictate a training process where the model is evaluated after each complete pass (epoch) over the training dataset. The learning rate and weight decay are set to typical values for Transformer models, providing a balance between training speed and model stability. The batch size is selected to manage computational resources effectively. The datasets provided to the trainer have been tokenized to be suitable for the model."
   ],
   "metadata": {
    "collapsed": false
   }
  },
  {
   "cell_type": "code",
   "execution_count": 8,
   "metadata": {
    "id": "js34ao7pA_v9",
    "outputId": "e98fa3da-557b-472d-808e-88d86b6a14e8",
    "colab": {
     "base_uri": "https://localhost:8080/",
     "height": 231
    }
   },
   "outputs": [
    {
     "output_type": "stream",
     "name": "stderr",
     "text": [
      "/usr/local/lib/python3.10/dist-packages/transformers/optimization.py:407: FutureWarning: This implementation of AdamW is deprecated and will be removed in a future version. Use the PyTorch implementation torch.optim.AdamW instead, or set `no_deprecation_warning=True` to disable this warning\n",
      "  warnings.warn(\n",
      "You're using a DistilBertTokenizerFast tokenizer. Please note that with a fast tokenizer, using the `__call__` method is faster than using a method to encode the text followed by a call to the `pad` method to get a padded encoding.\n"
     ]
    },
    {
     "output_type": "display_data",
     "data": {
      "text/plain": [
       "<IPython.core.display.HTML object>"
      ],
      "text/html": [
       "\n",
       "    <div>\n",
       "      \n",
       "      <progress value='1563' max='1563' style='width:300px; height:20px; vertical-align: middle;'></progress>\n",
       "      [1563/1563 28:53, Epoch 1/1]\n",
       "    </div>\n",
       "    <table border=\"1\" class=\"dataframe\">\n",
       "  <thead>\n",
       " <tr style=\"text-align: left;\">\n",
       "      <th>Epoch</th>\n",
       "      <th>Training Loss</th>\n",
       "      <th>Validation Loss</th>\n",
       "    </tr>\n",
       "  </thead>\n",
       "  <tbody>\n",
       "    <tr>\n",
       "      <td>1</td>\n",
       "      <td>0.222900</td>\n",
       "      <td>0.194862</td>\n",
       "    </tr>\n",
       "  </tbody>\n",
       "</table><p>"
      ]
     },
     "metadata": {}
    },
    {
     "output_type": "execute_result",
     "data": {
      "text/plain": [
       "TrainOutput(global_step=1563, training_loss=0.2585421493247161, metrics={'train_runtime': 1737.8992, 'train_samples_per_second': 14.385, 'train_steps_per_second': 0.899, 'total_flos': 3311684966400000.0, 'train_loss': 0.2585421493247161, 'epoch': 1.0})"
      ]
     },
     "metadata": {},
     "execution_count": 8
    }
   ],
   "source": [
    "# Train the model\n",
    "trainer.train()"
   ]
  },
  {
   "cell_type": "code",
   "execution_count": 9,
   "metadata": {
    "id": "n8QGo9AcA_v9",
    "colab": {
     "base_uri": "https://localhost:8080/"
    },
    "outputId": "8a9a27d6-99df-4349-d786-bf243efc8596"
   },
   "outputs": [
    {
     "output_type": "stream",
     "name": "stdout",
     "text": [
      "cuda:0\n"
     ]
    }
   ],
   "source": [
    "# Check if the model is on GPU\n",
    "print(model.device) # should print 'cuda' if on GPU"
   ]
  },
  {
   "cell_type": "markdown",
   "source": [
    "## 2. **\\[Bonus\\]** Fine-tune your model using the accuracy as evaluation instead of the loss (default)."
   ],
   "metadata": {
    "id": "kBvpxFf7iOab"
   }
  },
  {
   "cell_type": "code",
   "execution_count": 17,
   "metadata": {
    "id": "5PQZidY8A_v9",
    "colab": {
     "base_uri": "https://localhost:8080/",
     "height": 49,
     "referenced_widgets": [
      "5aaa550072194c1abe93a0060eb2401f",
      "1dab5940926947919e521e9318309672",
      "6fca327a1a554ef7b0a70c7a124b29fa",
      "6d1d6af095db4ca89c46c22a90a9eb34",
      "a5f6251ec9bd499fb9c9c3b1d1736200",
      "8cf331f5f3e241e4a635f2559dbc798c",
      "9f34b58726164a2a808716a5a5e07e30",
      "62549960a30b4ff29d3b98f302cc59f6",
      "1112a575f79a4ebea817300bffd05261",
      "a33e161bc2614979b4bf59000e9ce55e",
      "3d57592b479b43f2a47fed260fd979f9"
     ]
    },
    "outputId": "22ced939-a7e4-43d3-c45e-450c163ac584"
   },
   "outputs": [
    {
     "output_type": "display_data",
     "data": {
      "text/plain": [
       "Downloading builder script:   0%|          | 0.00/4.20k [00:00<?, ?B/s]"
      ],
      "application/vnd.jupyter.widget-view+json": {
       "version_major": 2,
       "version_minor": 0,
       "model_id": "5aaa550072194c1abe93a0060eb2401f"
      }
     },
     "metadata": {}
    }
   ],
   "source": [
    "# Load the accuracy metric from HuggingFace's datasets module\n",
    "accuracy_metric = evaluate.load(\"accuracy\")\n",
    "\n",
    "def compute_metrics(eval_pred):\n",
    "    logits, labels = eval_pred\n",
    "    predictions = np.argmax(logits, axis=-1)\n",
    "    return accuracy_metric.compute(predictions=predictions, references=labels)"
   ]
  },
  {
   "cell_type": "code",
   "source": [
    "# Define the trainer\n",
    "trainer_accuracy_eval = Trainer(\n",
    "    model=model,\n",
    "    args=training_args,\n",
    "    train_dataset=tokenized_datasets[\"train\"],\n",
    "    eval_dataset=tokenized_datasets[\"test\"],\n",
    "    tokenizer=tokenizer,\n",
    "    compute_metrics=compute_metrics,  # Add the compute_metrics function here\n",
    ")"
   ],
   "metadata": {
    "id": "MEjEl3jOMgNe"
   },
   "execution_count": 18,
   "outputs": []
  },
  {
   "cell_type": "markdown",
   "source": [
    "Advantages:\n",
    "- Simplicity and Direct Interpretation: Accuracy provides a direct quantification of the proportion of instances correctly classified by the model.\n",
    "- Effectiveness in Balanced Datasets: In scenarios where classes are equitably represented, accuracy can effectively reflect model performance.\n",
    "\n",
    "Disadvantages:\n",
    "- Ineffectiveness in Imbalanced Datasets: Accuracy fails to deliver reliable performance insights in the presence of class imbalance. This is due to its inability to distinguish between the model's capacity to identify minority and majority classes.\n",
    "- Lack of Discrimination Among Error Types: Accuracy equally penalizes all errors, disregarding the model's confidence level associated with each prediction.\n",
    "- Absence of Gradual Reward System: Accuracy does not provide any partial credits. In multi-class scenarios, it does not acknowledge near-correct classifications."
   ],
   "metadata": {
    "collapsed": false
   }
  },
  {
   "cell_type": "code",
   "source": [
    "# Train the model\n",
    "trainer_accuracy_eval.train()"
   ],
   "metadata": {
    "colab": {
     "base_uri": "https://localhost:8080/",
     "height": 213
    },
    "id": "oG85i29IMhMp",
    "outputId": "fee37061-fab6-45c9-9e9d-1527837c70ae"
   },
   "execution_count": 19,
   "outputs": [
    {
     "output_type": "stream",
     "name": "stderr",
     "text": [
      "/usr/local/lib/python3.10/dist-packages/transformers/optimization.py:407: FutureWarning: This implementation of AdamW is deprecated and will be removed in a future version. Use the PyTorch implementation torch.optim.AdamW instead, or set `no_deprecation_warning=True` to disable this warning\n",
      "  warnings.warn(\n"
     ]
    },
    {
     "output_type": "display_data",
     "data": {
      "text/plain": [
       "<IPython.core.display.HTML object>"
      ],
      "text/html": [
       "\n",
       "    <div>\n",
       "      \n",
       "      <progress value='1563' max='1563' style='width:300px; height:20px; vertical-align: middle;'></progress>\n",
       "      [1563/1563 29:04, Epoch 1/1]\n",
       "    </div>\n",
       "    <table border=\"1\" class=\"dataframe\">\n",
       "  <thead>\n",
       " <tr style=\"text-align: left;\">\n",
       "      <th>Epoch</th>\n",
       "      <th>Training Loss</th>\n",
       "      <th>Validation Loss</th>\n",
       "      <th>Accuracy</th>\n",
       "    </tr>\n",
       "  </thead>\n",
       "  <tbody>\n",
       "    <tr>\n",
       "      <td>1</td>\n",
       "      <td>0.191400</td>\n",
       "      <td>0.222480</td>\n",
       "      <td>0.927280</td>\n",
       "    </tr>\n",
       "  </tbody>\n",
       "</table><p>"
      ]
     },
     "metadata": {}
    },
    {
     "output_type": "execute_result",
     "data": {
      "text/plain": [
       "TrainOutput(global_step=1563, training_loss=0.1695261532422906, metrics={'train_runtime': 1745.4719, 'train_samples_per_second': 14.323, 'train_steps_per_second': 0.895, 'total_flos': 3311684966400000.0, 'train_loss': 0.1695261532422906, 'epoch': 1.0})"
      ]
     },
     "metadata": {},
     "execution_count": 19
    }
   ]
  },
  {
   "cell_type": "markdown",
   "source": [
    "## 3. (2 points) Evaluate the model in term of accuracy on the test data."
   ],
   "metadata": {
    "id": "ykk06HDriV2q"
   }
  },
  {
   "cell_type": "code",
   "source": [
    "# Evaluate the model\n",
    "eval_results = trainer.evaluate()\n",
    "\n",
    "# Print the evaluation results\n",
    "print(eval_results)"
   ],
   "metadata": {
    "colab": {
     "base_uri": "https://localhost:8080/",
     "height": 74
    },
    "id": "fC8aoFziNvv9",
    "outputId": "8d5933a6-12c4-4633-fc68-2a486e3408aa"
   },
   "execution_count": 20,
   "outputs": [
    {
     "output_type": "display_data",
     "data": {
      "text/plain": [
       "<IPython.core.display.HTML object>"
      ],
      "text/html": [
       "\n",
       "    <div>\n",
       "      \n",
       "      <progress value='1563' max='1563' style='width:300px; height:20px; vertical-align: middle;'></progress>\n",
       "      [1563/1563 07:47]\n",
       "    </div>\n",
       "    "
      ]
     },
     "metadata": {}
    },
    {
     "output_type": "stream",
     "name": "stdout",
     "text": [
      "{'eval_loss': 0.22247962653636932, 'eval_runtime': 467.207, 'eval_samples_per_second': 53.509, 'eval_steps_per_second': 3.345, 'epoch': 1.0}\n"
     ]
    }
   ]
  },
  {
   "cell_type": "code",
   "source": [
    "# Evaluate the model\n",
    "eval_acc_results = trainer_accuracy_eval.evaluate()\n",
    "\n",
    "# Print the evaluation results\n",
    "print(eval_acc_results)"
   ],
   "metadata": {
    "colab": {
     "base_uri": "https://localhost:8080/",
     "height": 74
    },
    "id": "rcU0MhYFUpiT",
    "outputId": "84ae3b03-d6f6-41b5-d7d9-4e0e5e0fb78a"
   },
   "execution_count": 21,
   "outputs": [
    {
     "output_type": "display_data",
     "data": {
      "text/plain": [
       "<IPython.core.display.HTML object>"
      ],
      "text/html": [
       "\n",
       "    <div>\n",
       "      \n",
       "      <progress value='1563' max='1563' style='width:300px; height:20px; vertical-align: middle;'></progress>\n",
       "      [1563/1563 07:49]\n",
       "    </div>\n",
       "    "
      ]
     },
     "metadata": {}
    },
    {
     "output_type": "stream",
     "name": "stdout",
     "text": [
      "{'eval_loss': 0.22247962653636932, 'eval_accuracy': 0.92728, 'eval_runtime': 469.5925, 'eval_samples_per_second': 53.238, 'eval_steps_per_second': 3.328, 'epoch': 1.0}\n"
     ]
    }
   ]
  },
  {
   "cell_type": "markdown",
   "source": [
    " The high accuracy score and the small loos score suggests that the model correctly predicted the class of the input in about 92.73% of the test samples.\n",
    "\n",
    "This is a strong result, indicating that the model has learned to make effective predictions from the training data."
   ],
   "metadata": {
    "collapsed": false
   }
  },
  {
   "cell_type": "markdown",
   "source": [
    "## 4. (2 points) For at least 2 samples which have been wrongly classified in the test set, try explaining why the model could have been wrong."
   ],
   "metadata": {
    "id": "zXzTl-_6iafg"
   }
  },
  {
   "cell_type": "code",
   "source": [
    "# Get the predictions\n",
    "predictions, _, _ = trainer.predict(tokenized_datasets[\"test\"])\n",
    "\n",
    "# The predictions are in a one-hot format. Get the label id with the highest value\n",
    "predicted_label_ids = np.argmax(predictions, axis=-1)\n",
    "\n",
    "# Get the actual label ids\n",
    "actual_label_ids = tokenized_datasets[\"test\"][\"label\"]\n",
    "\n",
    "# Find the indices of the wrongly classified samples\n",
    "wrong_indices = [i for i, (predicted, actual) in enumerate(zip(predicted_label_ids, actual_label_ids)) if predicted != actual]"
   ],
   "metadata": {
    "colab": {
     "base_uri": "https://localhost:8080/",
     "height": 17
    },
    "id": "q6LdceWrWpVA",
    "outputId": "7e959c6e-b1a3-46f0-f538-a919bdf21f89"
   },
   "execution_count": 22,
   "outputs": [
    {
     "output_type": "display_data",
     "data": {
      "text/plain": [
       "<IPython.core.display.HTML object>"
      ],
      "text/html": []
     },
     "metadata": {}
    }
   ]
  },
  {
   "cell_type": "code",
   "source": [
    "wrongly_classified_texts = []\n",
    "# Print two wrongly classified samples\n",
    "for i in wrong_indices[:2]:\n",
    "    print(f\"Text: {tokenized_datasets['test']['text'][i]}\")\n",
    "    print(f\"Predicted: {predicted_label_ids[i]}, Actual: {actual_label_ids[i]}\")\n",
    "    wrongly_classified_texts.append([tokenized_datasets['test']['text'][i],\n",
    "                                     predicted_label_ids[i],\n",
    "                                     actual_label_ids[i]])"
   ],
   "metadata": {
    "colab": {
     "base_uri": "https://localhost:8080/"
    },
    "id": "CVcIqr5LZQQD",
    "outputId": "2a5e96a8-9376-43f6-c9b5-7358e178e2a9"
   },
   "execution_count": 26,
   "outputs": [
    {
     "output_type": "stream",
     "name": "stdout",
     "text": [
      "Text: First off let me say, If you haven't enjoyed a Van Damme movie since bloodsport, you probably will not like this movie. Most of these movies may not have the best plots or best actors but I enjoy these kinds of movies for what they are. This movie is much better than any of the movies the other action guys (Segal and Dolph) have thought about putting out the past few years. Van Damme is good in the movie, the movie is only worth watching to Van Damme fans. It is not as good as Wake of Death (which i highly recommend to anyone of likes Van Damme) or In hell but, in my opinion it's worth watching. It has the same type of feel to it as Nowhere to Run. Good fun stuff!\n",
      "Predicted: 1, Actual: 0\n",
      "Text: Ben, (Rupert Grint), is a deeply unhappy adolescent, the son of his unhappily married parents. His father, (Nicholas Farrell), is a vicar and his mother, (Laura Linney), is ... well, let's just say she's a somewhat hypocritical soldier in Jesus' army. It's only when he takes a summer job as an assistant to a foul-mouthed, eccentric, once-famous and now-forgotten actress Evie Walton, (Julie Walters), that he finally finds himself in true 'Harold and Maude' fashion. Of course, Evie is deeply unhappy herself and it's only when these two sad sacks find each other that they can put their mutual misery aside and hit the road to happiness.<br /><br />Of course it's corny and sentimental and very predictable but it has a hard side to it, too and Walters, who could sleep-walk her way through this sort of thing if she wanted, is excellent. It's when she puts the craziness to one side and finds the pathos in the character, (like hitting the bottle and throwing up in the sink), that she's at her best. The problem is she's the only interesting character in the film (and it's not because of the script which doesn't do anybody any favours). Grint, on the other hand, isn't just unhappy; he's a bit of a bore as well while Linney's starched bitch is completely one-dimensional. (Still, she's got the English accent off pat). The best that can be said for it is that it's mildly enjoyable - with the emphasis on the mildly.\n",
      "Predicted: 1, Actual: 0\n"
     ]
    }
   ]
  },
  {
   "cell_type": "markdown",
   "source": [
    "Texte 1:\n",
    "\"First off let me say, If you haven't enjoyed a Van Damme movie since bloodsport, you probably will not like this movie. Most of these movies may not have the best plots or best actors but I enjoy these kinds of movies for what they are. This movie is much better than any of the movies the other action guys (Segal and Dolph) have thought about putting out the past few years. Van Damme is good in the movie, the movie is only worth watching to Van Damme fans. It is not as good as Wake of Death (which i highly recommend to anyone of likes Van Damme) or In hell but, in my opinion it's worth watching. It has the same type of feel to it as Nowhere to Run. Good fun stuff!\"\n",
    "\n",
    "Prediction: 1, Actuel: 0"
   ],
   "metadata": {
    "id": "Oh9jByWyfRT3"
   }
  },
  {
   "cell_type": "markdown",
   "source": [
    "Ce texte est un cas complexe. L'auteur utilise un langage relativement positif pour décrire le film (\"Van Damme est bon dans ce film\", \"il vaut la peine d'être vu\", \"C'est un bon film !\") et recommande même un autre film du même acteur. Cependant, l'auteur indique également que ce film n'est pas aussi bon que d'autres films de Van Damme, et note qu'il ne vaut la peine d'être vu que par les fans de l'acteur. La critique commence également par un sentiment négatif (\"Si vous n'avez pas aimé un film de Van Damme depuis Bloodsport, vous n'aimerez probablement pas ce film\"). Ce sentiment mitigé aurait pu empêcher le modèle de classer correctement la critique."
   ],
   "metadata": {
    "id": "uMmhSqxWfRKm"
   }
  },
  {
   "cell_type": "markdown",
   "source": [
    "Texte 2:\n",
    "\"Ben, (Rupert Grint), is a deeply unhappy adolescent, the son of his unhappily married parents. His father, (Nicholas Farrell), is a vicar and his mother, (Laura Linney), is ... well, let's just say she's a somewhat hypocritical soldier in Jesus' army. It's only when he takes a summer job as an assistant to a foul-mouthed, eccentric, once-famous and now-forgotten actress Evie Walton, (Julie Walters), that he finally finds himself in true 'Harold and Maude' fashion. Of course, Evie is deeply unhappy herself and it's only when these two sad sacks find each other that they can put their mutual misery aside and hit the road to happiness.<br /><br />Of course it's corny and sentimental and very predictable but it has a hard side to it, too and Walters, who could sleep-walk her way through this sort of thing if she wanted, is excellent. It's when she puts the craziness to one side and finds the pathos in the character, (like hitting the bottle and throwing up in the sink), that she's at her best. The problem is she's the only interesting character in the film (and it's not because of the script which doesn't do anybody any favours). Grint, on the other hand, isn't just unhappy; he's a bit of a bore as well while Linney's starched bitch is completely one-dimensional. (Still, she's got the English accent off pat). The best that can be said for it is that it's mildly enjoyable - with the emphasis on the mildly.\"\n",
    "\n",
    "Prediction: 1, Actuel: 0"
   ],
   "metadata": {
    "id": "pPfPka8Wfdzq"
   }
  },
  {
   "cell_type": "markdown",
   "source": [
    "Cette critique est également assez mitigée. L'auteur utilise des termes positifs pour décrire le film (\"Walters, qui pourrait traverser ce genre de choses en somnambule si elle le voulait, est excellente\", \"elle est à son meilleur\", \"c'est légèrement agréable\") mais critique également d'autres aspects du film (le décrivant comme \"ringard, sentimental et très prévisible\", \"Grint, quant à lui, n'est pas seulement malheureux, il est un peu ennuyeux\", \"la garce amidonnée de Linney est complètement unidimensionnelle\"). Ce mélange de sentiments positifs et négatifs aurait pu perturber le modèle."
   ],
   "metadata": {
    "id": "IJ3DAR7Tfdpf"
   }
  },
  {
   "cell_type": "markdown",
   "source": [
    "Ces deux exemples illustrent un problème courant dans l'analyse des sentiments : les critiques contiennent souvent un mélange de sentiments positifs et négatifs, et il peut être difficile de déterminer le sentiment général de la critique. Les Transformers, comme d'autres modèles d'apprentissage automatique, font des prédictions basées sur des modèles qu'ils ont appris à partir des données d'apprentissage. Si les données d'apprentissage ne contiennent pas suffisamment d'exemples d'avis mitigés similaires, ou si le modèle n'a pas appris à interpréter correctement ces cas complexes, il risque de commettre des erreurs.\n",
    "\n",
    "En outre, l'analyse des sentiments est une tâche difficile sur laquelle même les humains peuvent être en désaccord. Par exemple, différentes personnes peuvent interpréter différemment le sentiment général de ces avis. Certains peuvent les considérer comme plus positifs parce qu'ils contiennent des éléments positifs, tandis que d'autres peuvent se concentrer davantage sur les éléments négatifs. Il n'est donc pas surprenant qu'un modèle d'apprentissage automatique puisse également éprouver des difficultés dans de tels cas."
   ],
   "metadata": {
    "id": "IPiNqO9JgcHU"
   }
  },
  {
   "cell_type": "markdown",
   "source": [
    "## 5. (3 points) What are the advantages and inconvenient of using this model in production compared to the naive Bayes we implemented in the first part of the course? And compared to a recurrent model like an RNN or an LSTM?"
   ],
   "metadata": {
    "id": "14XKA-0Kievu"
   }
  },
  {
   "cell_type": "markdown",
   "source": [
    "Avantages de Transformer (DistilBERT) par rapport à Naive Bayes :\n",
    "\n",
    "- Meilleures performances : Les transformers sont généralement plus performants que les modèles d'apprentissage automatique traditionnels tels que Naive Bayes dans les tâches de classification de texte. En effet, ils sont capables de modéliser des modèles complexes dans les données et de saisir le contexte d'une manière que Naive Bayes ne peut pas faire.\n",
    "\n",
    "- Intégrations contextuels : Les transformers génèrent des enchâssements contextuels de mots, ce qui signifie qu'un même mot peut avoir des représentations différentes en fonction de son contexte. Il s'agit d'un avantage significatif par rapport à des méthodes telles que les sacs de mots utilisés dans Naive Bayes, qui traitent chaque occurrence d'un mot comme étant la même, quel que soit le contexte.\n",
    "\n",
    "- Apprentissage par transfert : Les transformers sont généralement pré-entraînés sur de grandes quantités de données, et ce pré-entraînement peut être exploité pour des tâches spécifiques avec une plus petite quantité de données spécifiques à la tâche. Cela permet d'économiser beaucoup de temps et de ressources informatiques par rapport à la formation d'un modèle à partir de zéro.\n",
    "\n",
    "Inconvénients de Transformer (DistilBERT) par rapport à Naive Bayes :\n",
    "\n",
    "- Exigences informatiques : Les transformers sont des modèles beaucoup plus grands et nécessitent plus de ressources informatiques (mémoire, puissance de traitement) que Naive Bayes. Il peut donc être plus difficile de les former et de les utiliser dans un environnement de production, en particulier si les ressources sont limitées.\n",
    "\n",
    "- Interprétabilité : Les Transformers, comme d'autres modèles d'apprentissage profond, sont souvent considérés comme des modèles \"boîte noire\", ce qui signifie qu'il est difficile de comprendre pourquoi ils font les prédictions qu'ils font. Naive Bayes, en revanche, est un modèle plus simple et plus facile à interpréter."
   ],
   "metadata": {
    "id": "jm3YTtvohf54"
   }
  },
  {
   "cell_type": "markdown",
   "source": [
    "Avantages du transformer (DistilBERT) par rapport aux RNNs/LSTMs :\n",
    "\n",
    "- Parallélisation : Les transformers peuvent traiter simultanément toutes les données d'entrée, ce qui les rend plus rapides et plus efficaces en termes de calcul que les RNN, qui traitent les données de manière séquentielle.\n",
    "\n",
    "- Traitement des dépendances à long terme : Bien que les LSTM soient conçues pour atténuer le problème du gradient qui s'évanouit et capturer les dépendances à long terme, dans la pratique, elles peuvent encore éprouver des difficultés à cet égard pour les séquences très longues. Les transformateurs utilisent des mécanismes d'auto-attention qui leur permettent de capturer les dépendances quelle que soit la distance dans la séquence d'entrée.\n",
    "\n",
    "Inconvénients du transformer (DistilBERT) par rapport aux RNN/LSTM :\n",
    "\n",
    "- Consommation de ressources : Les transformers ont généralement plus de paramètres que les RNN/LSTM, ce qui les rend plus gourmands en ressources.\n",
    "\n",
    "- Complexité : Les transformers sont des modèles plus complexes, ce qui peut les rendre plus difficiles à mettre en œuvre et à optimiser par rapport à des modèles plus simples comme les RNN/LSTM.\n",
    "\n",
    "En conclusion, le choix du modèle dépend des exigences spécifiques de votre application, y compris la quantité de données disponibles, les ressources informatiques, la complexité de la tâche et le besoin d'interprétabilité."
   ],
   "metadata": {
    "id": "cWHZymsShfvO"
   }
  },
  {
   "cell_type": "markdown",
   "source": [
    "## 7. **\\[Bonus\\]** The model only accepts inputs of maximum 512 tokens. Propose and implement a solution that goes around that."
   ],
   "metadata": {
    "id": "24YeygNKkEVQ"
   }
  },
  {
   "cell_type": "code",
   "source": [
    "def sliding_window_inference(text, model, tokenizer, stride=64, max_length=512):\n",
    "    # Tokenize the text\n",
    "    tokenized_text = tokenizer.encode(text, truncation=False)\n",
    "\n",
    "    # Get the number of tokens\n",
    "    num_tokens = len(tokenized_text)\n",
    "    \n",
    "    # Initialize the list to store the predictions\n",
    "    predictions = []\n",
    "    \n",
    "    # Slide the window over the tokenized text\n",
    "    for i in range(0, num_tokens, stride):\n",
    "        # Get the end index of the tokens for the current window\n",
    "        end_index = min(i + max_length, num_tokens)\n",
    "        \n",
    "        # Extract the tokens for the current window\n",
    "        tokens = tokenized_text[i:end_index]\n",
    "        \n",
    "        # Convert the tokens to input tensors\n",
    "        input_tensors = torch.tensor([tokens]).to(model.device)\n",
    "        \n",
    "        # Perform inference with the model\n",
    "        with torch.no_grad():\n",
    "            outputs = model(input_tensors)\n",
    "        \n",
    "        # Get the probabilities of the positive class\n",
    "        proba = torch.softmax(outputs.logits, dim=-1)[:, 1].item()\n",
    "        \n",
    "        # Append the probability to the list of predictions\n",
    "        predictions.append(proba)\n",
    "    \n",
    "    # Return the average prediction\n",
    "    if predictions:\n",
    "        return 1 if sum(predictions) / len(predictions) >= 0.5 else 0\n",
    "    else:\n",
    "        return 0\n"
   ],
   "metadata": {
    "id": "GC7ozf7IZZLj"
   },
   "execution_count": 40,
   "outputs": []
  },
  {
   "cell_type": "code",
   "source": [
    "long_review_text = \"\"\n",
    "\n",
    "# Iterate over the reviews in the training set\n",
    "for i, example in enumerate(dataset[\"train\"]):\n",
    "    # Tokenize the review and count the number of tokens\n",
    "    num_tokens = len(tokenizer.encode(example[\"text\"], truncation=False))\n",
    "    \n",
    "    # If the review has more than 512 tokens, print it and break the loop\n",
    "    if num_tokens > 512:\n",
    "        long_review_text = example[\"text\"]\n",
    "        trainer.predict(tokenized_datasets[\"test\"])\n",
    "        break"
   ],
   "metadata": {
    "colab": {
     "base_uri": "https://localhost:8080/",
     "height": 54
    },
    "id": "KXFZZ9oLp8iH",
    "outputId": "aa9f8416-4714-4b1f-810c-ac606f05de4e"
   },
   "execution_count": 42,
   "outputs": [
    {
     "output_type": "stream",
     "name": "stderr",
     "text": [
      "Token indices sequence length is longer than the specified maximum sequence length for this model (720 > 512). Running this sequence through the model will result in indexing errors\n"
     ]
    },
    {
     "output_type": "display_data",
     "data": {
      "text/plain": [
       "<IPython.core.display.HTML object>"
      ],
      "text/html": []
     },
     "metadata": {}
    }
   ]
  },
  {
   "cell_type": "code",
   "source": [
    "# Perform sliding window inference on the long review text\n",
    "prediction = sliding_window_inference(long_review_text, model, tokenizer)\n",
    "print(\"Prediction:\", prediction)"
   ],
   "metadata": {
    "colab": {
     "base_uri": "https://localhost:8080/"
    },
    "id": "7jOVDWB5kb3D",
    "outputId": "8ba03e15-dc1e-4a28-e177-6d60a21b770c"
   },
   "execution_count": 43,
   "outputs": [
    {
     "output_type": "stream",
     "name": "stdout",
     "text": [
      "Prediction: 1\n"
     ]
    }
   ]
  },
  {
   "cell_type": "markdown",
   "source": [
    "Notre modèle arrive donc bien à traiter des textes de plus de 512 tokens."
   ],
   "metadata": {
    "collapsed": false
   }
  }
 ],
 "metadata": {
  "kernelspec": {
   "display_name": "Python 3",
   "name": "python3"
  },
  "language_info": {
   "codemirror_mode": {
    "name": "ipython",
    "version": 3
   },
   "file_extension": ".py",
   "mimetype": "text/x-python",
   "name": "python",
   "nbconvert_exporter": "python",
   "pygments_lexer": "ipython3",
   "version": "3.9.12"
  },
  "colab": {
   "provenance": [],
   "gpuType": "T4"
  },
  "accelerator": "GPU",
  "widgets": {
   "application/vnd.jupyter.widget-state+json": {
    "f96cf96e9841487886c3ad08dc4339db": {
     "model_module": "@jupyter-widgets/controls",
     "model_name": "HBoxModel",
     "model_module_version": "1.5.0",
     "state": {
      "_dom_classes": [],
      "_model_module": "@jupyter-widgets/controls",
      "_model_module_version": "1.5.0",
      "_model_name": "HBoxModel",
      "_view_count": null,
      "_view_module": "@jupyter-widgets/controls",
      "_view_module_version": "1.5.0",
      "_view_name": "HBoxView",
      "box_style": "",
      "children": [
       "IPY_MODEL_675062d897a848e58adc4ad2b004ab6a",
       "IPY_MODEL_0cc2369e7bfe4e30b98093446245a3e6",
       "IPY_MODEL_1c4efd54e7a74ea4ae3fed3662b7adec"
      ],
      "layout": "IPY_MODEL_3ccf6ac9b8bd4758be19370738024a86"
     }
    },
    "675062d897a848e58adc4ad2b004ab6a": {
     "model_module": "@jupyter-widgets/controls",
     "model_name": "HTMLModel",
     "model_module_version": "1.5.0",
     "state": {
      "_dom_classes": [],
      "_model_module": "@jupyter-widgets/controls",
      "_model_module_version": "1.5.0",
      "_model_name": "HTMLModel",
      "_view_count": null,
      "_view_module": "@jupyter-widgets/controls",
      "_view_module_version": "1.5.0",
      "_view_name": "HTMLView",
      "description": "",
      "description_tooltip": null,
      "layout": "IPY_MODEL_ca836f65c02d40a298563024ebd264d9",
      "placeholder": "​",
      "style": "IPY_MODEL_fd64c3b05d53438786e4cee0248eac2e",
      "value": "100%"
     }
    },
    "0cc2369e7bfe4e30b98093446245a3e6": {
     "model_module": "@jupyter-widgets/controls",
     "model_name": "FloatProgressModel",
     "model_module_version": "1.5.0",
     "state": {
      "_dom_classes": [],
      "_model_module": "@jupyter-widgets/controls",
      "_model_module_version": "1.5.0",
      "_model_name": "FloatProgressModel",
      "_view_count": null,
      "_view_module": "@jupyter-widgets/controls",
      "_view_module_version": "1.5.0",
      "_view_name": "ProgressView",
      "bar_style": "success",
      "description": "",
      "description_tooltip": null,
      "layout": "IPY_MODEL_4fbcec870b73442d9c9d76da11cb8821",
      "max": 3,
      "min": 0,
      "orientation": "horizontal",
      "style": "IPY_MODEL_81e164583cf94439867981cd5eb6e8fe",
      "value": 3
     }
    },
    "1c4efd54e7a74ea4ae3fed3662b7adec": {
     "model_module": "@jupyter-widgets/controls",
     "model_name": "HTMLModel",
     "model_module_version": "1.5.0",
     "state": {
      "_dom_classes": [],
      "_model_module": "@jupyter-widgets/controls",
      "_model_module_version": "1.5.0",
      "_model_name": "HTMLModel",
      "_view_count": null,
      "_view_module": "@jupyter-widgets/controls",
      "_view_module_version": "1.5.0",
      "_view_name": "HTMLView",
      "description": "",
      "description_tooltip": null,
      "layout": "IPY_MODEL_86472f6c5a194bc5a1427820e0102f57",
      "placeholder": "​",
      "style": "IPY_MODEL_e7b9bd26ddeb46c1816d46338c31b708",
      "value": " 3/3 [00:00&lt;00:00, 87.03it/s]"
     }
    },
    "3ccf6ac9b8bd4758be19370738024a86": {
     "model_module": "@jupyter-widgets/base",
     "model_name": "LayoutModel",
     "model_module_version": "1.2.0",
     "state": {
      "_model_module": "@jupyter-widgets/base",
      "_model_module_version": "1.2.0",
      "_model_name": "LayoutModel",
      "_view_count": null,
      "_view_module": "@jupyter-widgets/base",
      "_view_module_version": "1.2.0",
      "_view_name": "LayoutView",
      "align_content": null,
      "align_items": null,
      "align_self": null,
      "border": null,
      "bottom": null,
      "display": null,
      "flex": null,
      "flex_flow": null,
      "grid_area": null,
      "grid_auto_columns": null,
      "grid_auto_flow": null,
      "grid_auto_rows": null,
      "grid_column": null,
      "grid_gap": null,
      "grid_row": null,
      "grid_template_areas": null,
      "grid_template_columns": null,
      "grid_template_rows": null,
      "height": null,
      "justify_content": null,
      "justify_items": null,
      "left": null,
      "margin": null,
      "max_height": null,
      "max_width": null,
      "min_height": null,
      "min_width": null,
      "object_fit": null,
      "object_position": null,
      "order": null,
      "overflow": null,
      "overflow_x": null,
      "overflow_y": null,
      "padding": null,
      "right": null,
      "top": null,
      "visibility": null,
      "width": null
     }
    },
    "ca836f65c02d40a298563024ebd264d9": {
     "model_module": "@jupyter-widgets/base",
     "model_name": "LayoutModel",
     "model_module_version": "1.2.0",
     "state": {
      "_model_module": "@jupyter-widgets/base",
      "_model_module_version": "1.2.0",
      "_model_name": "LayoutModel",
      "_view_count": null,
      "_view_module": "@jupyter-widgets/base",
      "_view_module_version": "1.2.0",
      "_view_name": "LayoutView",
      "align_content": null,
      "align_items": null,
      "align_self": null,
      "border": null,
      "bottom": null,
      "display": null,
      "flex": null,
      "flex_flow": null,
      "grid_area": null,
      "grid_auto_columns": null,
      "grid_auto_flow": null,
      "grid_auto_rows": null,
      "grid_column": null,
      "grid_gap": null,
      "grid_row": null,
      "grid_template_areas": null,
      "grid_template_columns": null,
      "grid_template_rows": null,
      "height": null,
      "justify_content": null,
      "justify_items": null,
      "left": null,
      "margin": null,
      "max_height": null,
      "max_width": null,
      "min_height": null,
      "min_width": null,
      "object_fit": null,
      "object_position": null,
      "order": null,
      "overflow": null,
      "overflow_x": null,
      "overflow_y": null,
      "padding": null,
      "right": null,
      "top": null,
      "visibility": null,
      "width": null
     }
    },
    "fd64c3b05d53438786e4cee0248eac2e": {
     "model_module": "@jupyter-widgets/controls",
     "model_name": "DescriptionStyleModel",
     "model_module_version": "1.5.0",
     "state": {
      "_model_module": "@jupyter-widgets/controls",
      "_model_module_version": "1.5.0",
      "_model_name": "DescriptionStyleModel",
      "_view_count": null,
      "_view_module": "@jupyter-widgets/base",
      "_view_module_version": "1.2.0",
      "_view_name": "StyleView",
      "description_width": ""
     }
    },
    "4fbcec870b73442d9c9d76da11cb8821": {
     "model_module": "@jupyter-widgets/base",
     "model_name": "LayoutModel",
     "model_module_version": "1.2.0",
     "state": {
      "_model_module": "@jupyter-widgets/base",
      "_model_module_version": "1.2.0",
      "_model_name": "LayoutModel",
      "_view_count": null,
      "_view_module": "@jupyter-widgets/base",
      "_view_module_version": "1.2.0",
      "_view_name": "LayoutView",
      "align_content": null,
      "align_items": null,
      "align_self": null,
      "border": null,
      "bottom": null,
      "display": null,
      "flex": null,
      "flex_flow": null,
      "grid_area": null,
      "grid_auto_columns": null,
      "grid_auto_flow": null,
      "grid_auto_rows": null,
      "grid_column": null,
      "grid_gap": null,
      "grid_row": null,
      "grid_template_areas": null,
      "grid_template_columns": null,
      "grid_template_rows": null,
      "height": null,
      "justify_content": null,
      "justify_items": null,
      "left": null,
      "margin": null,
      "max_height": null,
      "max_width": null,
      "min_height": null,
      "min_width": null,
      "object_fit": null,
      "object_position": null,
      "order": null,
      "overflow": null,
      "overflow_x": null,
      "overflow_y": null,
      "padding": null,
      "right": null,
      "top": null,
      "visibility": null,
      "width": null
     }
    },
    "81e164583cf94439867981cd5eb6e8fe": {
     "model_module": "@jupyter-widgets/controls",
     "model_name": "ProgressStyleModel",
     "model_module_version": "1.5.0",
     "state": {
      "_model_module": "@jupyter-widgets/controls",
      "_model_module_version": "1.5.0",
      "_model_name": "ProgressStyleModel",
      "_view_count": null,
      "_view_module": "@jupyter-widgets/base",
      "_view_module_version": "1.2.0",
      "_view_name": "StyleView",
      "bar_color": null,
      "description_width": ""
     }
    },
    "86472f6c5a194bc5a1427820e0102f57": {
     "model_module": "@jupyter-widgets/base",
     "model_name": "LayoutModel",
     "model_module_version": "1.2.0",
     "state": {
      "_model_module": "@jupyter-widgets/base",
      "_model_module_version": "1.2.0",
      "_model_name": "LayoutModel",
      "_view_count": null,
      "_view_module": "@jupyter-widgets/base",
      "_view_module_version": "1.2.0",
      "_view_name": "LayoutView",
      "align_content": null,
      "align_items": null,
      "align_self": null,
      "border": null,
      "bottom": null,
      "display": null,
      "flex": null,
      "flex_flow": null,
      "grid_area": null,
      "grid_auto_columns": null,
      "grid_auto_flow": null,
      "grid_auto_rows": null,
      "grid_column": null,
      "grid_gap": null,
      "grid_row": null,
      "grid_template_areas": null,
      "grid_template_columns": null,
      "grid_template_rows": null,
      "height": null,
      "justify_content": null,
      "justify_items": null,
      "left": null,
      "margin": null,
      "max_height": null,
      "max_width": null,
      "min_height": null,
      "min_width": null,
      "object_fit": null,
      "object_position": null,
      "order": null,
      "overflow": null,
      "overflow_x": null,
      "overflow_y": null,
      "padding": null,
      "right": null,
      "top": null,
      "visibility": null,
      "width": null
     }
    },
    "e7b9bd26ddeb46c1816d46338c31b708": {
     "model_module": "@jupyter-widgets/controls",
     "model_name": "DescriptionStyleModel",
     "model_module_version": "1.5.0",
     "state": {
      "_model_module": "@jupyter-widgets/controls",
      "_model_module_version": "1.5.0",
      "_model_name": "DescriptionStyleModel",
      "_view_count": null,
      "_view_module": "@jupyter-widgets/base",
      "_view_module_version": "1.2.0",
      "_view_name": "StyleView",
      "description_width": ""
     }
    },
    "537f1825714c446297b2b2a69cf65be6": {
     "model_module": "@jupyter-widgets/controls",
     "model_name": "HBoxModel",
     "model_module_version": "1.5.0",
     "state": {
      "_dom_classes": [],
      "_model_module": "@jupyter-widgets/controls",
      "_model_module_version": "1.5.0",
      "_model_name": "HBoxModel",
      "_view_count": null,
      "_view_module": "@jupyter-widgets/controls",
      "_view_module_version": "1.5.0",
      "_view_name": "HBoxView",
      "box_style": "",
      "children": [
       "IPY_MODEL_d91488f88b3949e785106e4c8c78d98a",
       "IPY_MODEL_c451d3c5116743cc905dd180dca8eb46",
       "IPY_MODEL_e874af9735214f538240fafe7a0f963d"
      ],
      "layout": "IPY_MODEL_ff3bd0e3a0d14d68993b079b260f2069"
     }
    },
    "d91488f88b3949e785106e4c8c78d98a": {
     "model_module": "@jupyter-widgets/controls",
     "model_name": "HTMLModel",
     "model_module_version": "1.5.0",
     "state": {
      "_dom_classes": [],
      "_model_module": "@jupyter-widgets/controls",
      "_model_module_version": "1.5.0",
      "_model_name": "HTMLModel",
      "_view_count": null,
      "_view_module": "@jupyter-widgets/controls",
      "_view_module_version": "1.5.0",
      "_view_name": "HTMLView",
      "description": "",
      "description_tooltip": null,
      "layout": "IPY_MODEL_bb75a8bb29554847ba8ed1f8cad7531e",
      "placeholder": "​",
      "style": "IPY_MODEL_224724a2573b4cda83b07d4fdf7b50bf",
      "value": "Map: 100%"
     }
    },
    "c451d3c5116743cc905dd180dca8eb46": {
     "model_module": "@jupyter-widgets/controls",
     "model_name": "FloatProgressModel",
     "model_module_version": "1.5.0",
     "state": {
      "_dom_classes": [],
      "_model_module": "@jupyter-widgets/controls",
      "_model_module_version": "1.5.0",
      "_model_name": "FloatProgressModel",
      "_view_count": null,
      "_view_module": "@jupyter-widgets/controls",
      "_view_module_version": "1.5.0",
      "_view_name": "ProgressView",
      "bar_style": "",
      "description": "",
      "description_tooltip": null,
      "layout": "IPY_MODEL_3ff4a8a561424c76b2ed8b1e002ba55d",
      "max": 25000,
      "min": 0,
      "orientation": "horizontal",
      "style": "IPY_MODEL_fbc98f8722e8476fb2ff16ca8af8952f",
      "value": 25000
     }
    },
    "e874af9735214f538240fafe7a0f963d": {
     "model_module": "@jupyter-widgets/controls",
     "model_name": "HTMLModel",
     "model_module_version": "1.5.0",
     "state": {
      "_dom_classes": [],
      "_model_module": "@jupyter-widgets/controls",
      "_model_module_version": "1.5.0",
      "_model_name": "HTMLModel",
      "_view_count": null,
      "_view_module": "@jupyter-widgets/controls",
      "_view_module_version": "1.5.0",
      "_view_name": "HTMLView",
      "description": "",
      "description_tooltip": null,
      "layout": "IPY_MODEL_a64aae03b3544b41a222dc7a3d1900bc",
      "placeholder": "​",
      "style": "IPY_MODEL_79de67c9a2414c8193168ce04b5b55ec",
      "value": " 25000/25000 [00:30&lt;00:00, 1292.77 examples/s]"
     }
    },
    "ff3bd0e3a0d14d68993b079b260f2069": {
     "model_module": "@jupyter-widgets/base",
     "model_name": "LayoutModel",
     "model_module_version": "1.2.0",
     "state": {
      "_model_module": "@jupyter-widgets/base",
      "_model_module_version": "1.2.0",
      "_model_name": "LayoutModel",
      "_view_count": null,
      "_view_module": "@jupyter-widgets/base",
      "_view_module_version": "1.2.0",
      "_view_name": "LayoutView",
      "align_content": null,
      "align_items": null,
      "align_self": null,
      "border": null,
      "bottom": null,
      "display": null,
      "flex": null,
      "flex_flow": null,
      "grid_area": null,
      "grid_auto_columns": null,
      "grid_auto_flow": null,
      "grid_auto_rows": null,
      "grid_column": null,
      "grid_gap": null,
      "grid_row": null,
      "grid_template_areas": null,
      "grid_template_columns": null,
      "grid_template_rows": null,
      "height": null,
      "justify_content": null,
      "justify_items": null,
      "left": null,
      "margin": null,
      "max_height": null,
      "max_width": null,
      "min_height": null,
      "min_width": null,
      "object_fit": null,
      "object_position": null,
      "order": null,
      "overflow": null,
      "overflow_x": null,
      "overflow_y": null,
      "padding": null,
      "right": null,
      "top": null,
      "visibility": "hidden",
      "width": null
     }
    },
    "bb75a8bb29554847ba8ed1f8cad7531e": {
     "model_module": "@jupyter-widgets/base",
     "model_name": "LayoutModel",
     "model_module_version": "1.2.0",
     "state": {
      "_model_module": "@jupyter-widgets/base",
      "_model_module_version": "1.2.0",
      "_model_name": "LayoutModel",
      "_view_count": null,
      "_view_module": "@jupyter-widgets/base",
      "_view_module_version": "1.2.0",
      "_view_name": "LayoutView",
      "align_content": null,
      "align_items": null,
      "align_self": null,
      "border": null,
      "bottom": null,
      "display": null,
      "flex": null,
      "flex_flow": null,
      "grid_area": null,
      "grid_auto_columns": null,
      "grid_auto_flow": null,
      "grid_auto_rows": null,
      "grid_column": null,
      "grid_gap": null,
      "grid_row": null,
      "grid_template_areas": null,
      "grid_template_columns": null,
      "grid_template_rows": null,
      "height": null,
      "justify_content": null,
      "justify_items": null,
      "left": null,
      "margin": null,
      "max_height": null,
      "max_width": null,
      "min_height": null,
      "min_width": null,
      "object_fit": null,
      "object_position": null,
      "order": null,
      "overflow": null,
      "overflow_x": null,
      "overflow_y": null,
      "padding": null,
      "right": null,
      "top": null,
      "visibility": null,
      "width": null
     }
    },
    "224724a2573b4cda83b07d4fdf7b50bf": {
     "model_module": "@jupyter-widgets/controls",
     "model_name": "DescriptionStyleModel",
     "model_module_version": "1.5.0",
     "state": {
      "_model_module": "@jupyter-widgets/controls",
      "_model_module_version": "1.5.0",
      "_model_name": "DescriptionStyleModel",
      "_view_count": null,
      "_view_module": "@jupyter-widgets/base",
      "_view_module_version": "1.2.0",
      "_view_name": "StyleView",
      "description_width": ""
     }
    },
    "3ff4a8a561424c76b2ed8b1e002ba55d": {
     "model_module": "@jupyter-widgets/base",
     "model_name": "LayoutModel",
     "model_module_version": "1.2.0",
     "state": {
      "_model_module": "@jupyter-widgets/base",
      "_model_module_version": "1.2.0",
      "_model_name": "LayoutModel",
      "_view_count": null,
      "_view_module": "@jupyter-widgets/base",
      "_view_module_version": "1.2.0",
      "_view_name": "LayoutView",
      "align_content": null,
      "align_items": null,
      "align_self": null,
      "border": null,
      "bottom": null,
      "display": null,
      "flex": null,
      "flex_flow": null,
      "grid_area": null,
      "grid_auto_columns": null,
      "grid_auto_flow": null,
      "grid_auto_rows": null,
      "grid_column": null,
      "grid_gap": null,
      "grid_row": null,
      "grid_template_areas": null,
      "grid_template_columns": null,
      "grid_template_rows": null,
      "height": null,
      "justify_content": null,
      "justify_items": null,
      "left": null,
      "margin": null,
      "max_height": null,
      "max_width": null,
      "min_height": null,
      "min_width": null,
      "object_fit": null,
      "object_position": null,
      "order": null,
      "overflow": null,
      "overflow_x": null,
      "overflow_y": null,
      "padding": null,
      "right": null,
      "top": null,
      "visibility": null,
      "width": null
     }
    },
    "fbc98f8722e8476fb2ff16ca8af8952f": {
     "model_module": "@jupyter-widgets/controls",
     "model_name": "ProgressStyleModel",
     "model_module_version": "1.5.0",
     "state": {
      "_model_module": "@jupyter-widgets/controls",
      "_model_module_version": "1.5.0",
      "_model_name": "ProgressStyleModel",
      "_view_count": null,
      "_view_module": "@jupyter-widgets/base",
      "_view_module_version": "1.2.0",
      "_view_name": "StyleView",
      "bar_color": null,
      "description_width": ""
     }
    },
    "a64aae03b3544b41a222dc7a3d1900bc": {
     "model_module": "@jupyter-widgets/base",
     "model_name": "LayoutModel",
     "model_module_version": "1.2.0",
     "state": {
      "_model_module": "@jupyter-widgets/base",
      "_model_module_version": "1.2.0",
      "_model_name": "LayoutModel",
      "_view_count": null,
      "_view_module": "@jupyter-widgets/base",
      "_view_module_version": "1.2.0",
      "_view_name": "LayoutView",
      "align_content": null,
      "align_items": null,
      "align_self": null,
      "border": null,
      "bottom": null,
      "display": null,
      "flex": null,
      "flex_flow": null,
      "grid_area": null,
      "grid_auto_columns": null,
      "grid_auto_flow": null,
      "grid_auto_rows": null,
      "grid_column": null,
      "grid_gap": null,
      "grid_row": null,
      "grid_template_areas": null,
      "grid_template_columns": null,
      "grid_template_rows": null,
      "height": null,
      "justify_content": null,
      "justify_items": null,
      "left": null,
      "margin": null,
      "max_height": null,
      "max_width": null,
      "min_height": null,
      "min_width": null,
      "object_fit": null,
      "object_position": null,
      "order": null,
      "overflow": null,
      "overflow_x": null,
      "overflow_y": null,
      "padding": null,
      "right": null,
      "top": null,
      "visibility": null,
      "width": null
     }
    },
    "79de67c9a2414c8193168ce04b5b55ec": {
     "model_module": "@jupyter-widgets/controls",
     "model_name": "DescriptionStyleModel",
     "model_module_version": "1.5.0",
     "state": {
      "_model_module": "@jupyter-widgets/controls",
      "_model_module_version": "1.5.0",
      "_model_name": "DescriptionStyleModel",
      "_view_count": null,
      "_view_module": "@jupyter-widgets/base",
      "_view_module_version": "1.2.0",
      "_view_name": "StyleView",
      "description_width": ""
     }
    },
    "5aaa550072194c1abe93a0060eb2401f": {
     "model_module": "@jupyter-widgets/controls",
     "model_name": "HBoxModel",
     "model_module_version": "1.5.0",
     "state": {
      "_dom_classes": [],
      "_model_module": "@jupyter-widgets/controls",
      "_model_module_version": "1.5.0",
      "_model_name": "HBoxModel",
      "_view_count": null,
      "_view_module": "@jupyter-widgets/controls",
      "_view_module_version": "1.5.0",
      "_view_name": "HBoxView",
      "box_style": "",
      "children": [
       "IPY_MODEL_1dab5940926947919e521e9318309672",
       "IPY_MODEL_6fca327a1a554ef7b0a70c7a124b29fa",
       "IPY_MODEL_6d1d6af095db4ca89c46c22a90a9eb34"
      ],
      "layout": "IPY_MODEL_a5f6251ec9bd499fb9c9c3b1d1736200"
     }
    },
    "1dab5940926947919e521e9318309672": {
     "model_module": "@jupyter-widgets/controls",
     "model_name": "HTMLModel",
     "model_module_version": "1.5.0",
     "state": {
      "_dom_classes": [],
      "_model_module": "@jupyter-widgets/controls",
      "_model_module_version": "1.5.0",
      "_model_name": "HTMLModel",
      "_view_count": null,
      "_view_module": "@jupyter-widgets/controls",
      "_view_module_version": "1.5.0",
      "_view_name": "HTMLView",
      "description": "",
      "description_tooltip": null,
      "layout": "IPY_MODEL_8cf331f5f3e241e4a635f2559dbc798c",
      "placeholder": "​",
      "style": "IPY_MODEL_9f34b58726164a2a808716a5a5e07e30",
      "value": "Downloading builder script: 100%"
     }
    },
    "6fca327a1a554ef7b0a70c7a124b29fa": {
     "model_module": "@jupyter-widgets/controls",
     "model_name": "FloatProgressModel",
     "model_module_version": "1.5.0",
     "state": {
      "_dom_classes": [],
      "_model_module": "@jupyter-widgets/controls",
      "_model_module_version": "1.5.0",
      "_model_name": "FloatProgressModel",
      "_view_count": null,
      "_view_module": "@jupyter-widgets/controls",
      "_view_module_version": "1.5.0",
      "_view_name": "ProgressView",
      "bar_style": "success",
      "description": "",
      "description_tooltip": null,
      "layout": "IPY_MODEL_62549960a30b4ff29d3b98f302cc59f6",
      "max": 4203,
      "min": 0,
      "orientation": "horizontal",
      "style": "IPY_MODEL_1112a575f79a4ebea817300bffd05261",
      "value": 4203
     }
    },
    "6d1d6af095db4ca89c46c22a90a9eb34": {
     "model_module": "@jupyter-widgets/controls",
     "model_name": "HTMLModel",
     "model_module_version": "1.5.0",
     "state": {
      "_dom_classes": [],
      "_model_module": "@jupyter-widgets/controls",
      "_model_module_version": "1.5.0",
      "_model_name": "HTMLModel",
      "_view_count": null,
      "_view_module": "@jupyter-widgets/controls",
      "_view_module_version": "1.5.0",
      "_view_name": "HTMLView",
      "description": "",
      "description_tooltip": null,
      "layout": "IPY_MODEL_a33e161bc2614979b4bf59000e9ce55e",
      "placeholder": "​",
      "style": "IPY_MODEL_3d57592b479b43f2a47fed260fd979f9",
      "value": " 4.20k/4.20k [00:00&lt;00:00, 45.7kB/s]"
     }
    },
    "a5f6251ec9bd499fb9c9c3b1d1736200": {
     "model_module": "@jupyter-widgets/base",
     "model_name": "LayoutModel",
     "model_module_version": "1.2.0",
     "state": {
      "_model_module": "@jupyter-widgets/base",
      "_model_module_version": "1.2.0",
      "_model_name": "LayoutModel",
      "_view_count": null,
      "_view_module": "@jupyter-widgets/base",
      "_view_module_version": "1.2.0",
      "_view_name": "LayoutView",
      "align_content": null,
      "align_items": null,
      "align_self": null,
      "border": null,
      "bottom": null,
      "display": null,
      "flex": null,
      "flex_flow": null,
      "grid_area": null,
      "grid_auto_columns": null,
      "grid_auto_flow": null,
      "grid_auto_rows": null,
      "grid_column": null,
      "grid_gap": null,
      "grid_row": null,
      "grid_template_areas": null,
      "grid_template_columns": null,
      "grid_template_rows": null,
      "height": null,
      "justify_content": null,
      "justify_items": null,
      "left": null,
      "margin": null,
      "max_height": null,
      "max_width": null,
      "min_height": null,
      "min_width": null,
      "object_fit": null,
      "object_position": null,
      "order": null,
      "overflow": null,
      "overflow_x": null,
      "overflow_y": null,
      "padding": null,
      "right": null,
      "top": null,
      "visibility": null,
      "width": null
     }
    },
    "8cf331f5f3e241e4a635f2559dbc798c": {
     "model_module": "@jupyter-widgets/base",
     "model_name": "LayoutModel",
     "model_module_version": "1.2.0",
     "state": {
      "_model_module": "@jupyter-widgets/base",
      "_model_module_version": "1.2.0",
      "_model_name": "LayoutModel",
      "_view_count": null,
      "_view_module": "@jupyter-widgets/base",
      "_view_module_version": "1.2.0",
      "_view_name": "LayoutView",
      "align_content": null,
      "align_items": null,
      "align_self": null,
      "border": null,
      "bottom": null,
      "display": null,
      "flex": null,
      "flex_flow": null,
      "grid_area": null,
      "grid_auto_columns": null,
      "grid_auto_flow": null,
      "grid_auto_rows": null,
      "grid_column": null,
      "grid_gap": null,
      "grid_row": null,
      "grid_template_areas": null,
      "grid_template_columns": null,
      "grid_template_rows": null,
      "height": null,
      "justify_content": null,
      "justify_items": null,
      "left": null,
      "margin": null,
      "max_height": null,
      "max_width": null,
      "min_height": null,
      "min_width": null,
      "object_fit": null,
      "object_position": null,
      "order": null,
      "overflow": null,
      "overflow_x": null,
      "overflow_y": null,
      "padding": null,
      "right": null,
      "top": null,
      "visibility": null,
      "width": null
     }
    },
    "9f34b58726164a2a808716a5a5e07e30": {
     "model_module": "@jupyter-widgets/controls",
     "model_name": "DescriptionStyleModel",
     "model_module_version": "1.5.0",
     "state": {
      "_model_module": "@jupyter-widgets/controls",
      "_model_module_version": "1.5.0",
      "_model_name": "DescriptionStyleModel",
      "_view_count": null,
      "_view_module": "@jupyter-widgets/base",
      "_view_module_version": "1.2.0",
      "_view_name": "StyleView",
      "description_width": ""
     }
    },
    "62549960a30b4ff29d3b98f302cc59f6": {
     "model_module": "@jupyter-widgets/base",
     "model_name": "LayoutModel",
     "model_module_version": "1.2.0",
     "state": {
      "_model_module": "@jupyter-widgets/base",
      "_model_module_version": "1.2.0",
      "_model_name": "LayoutModel",
      "_view_count": null,
      "_view_module": "@jupyter-widgets/base",
      "_view_module_version": "1.2.0",
      "_view_name": "LayoutView",
      "align_content": null,
      "align_items": null,
      "align_self": null,
      "border": null,
      "bottom": null,
      "display": null,
      "flex": null,
      "flex_flow": null,
      "grid_area": null,
      "grid_auto_columns": null,
      "grid_auto_flow": null,
      "grid_auto_rows": null,
      "grid_column": null,
      "grid_gap": null,
      "grid_row": null,
      "grid_template_areas": null,
      "grid_template_columns": null,
      "grid_template_rows": null,
      "height": null,
      "justify_content": null,
      "justify_items": null,
      "left": null,
      "margin": null,
      "max_height": null,
      "max_width": null,
      "min_height": null,
      "min_width": null,
      "object_fit": null,
      "object_position": null,
      "order": null,
      "overflow": null,
      "overflow_x": null,
      "overflow_y": null,
      "padding": null,
      "right": null,
      "top": null,
      "visibility": null,
      "width": null
     }
    },
    "1112a575f79a4ebea817300bffd05261": {
     "model_module": "@jupyter-widgets/controls",
     "model_name": "ProgressStyleModel",
     "model_module_version": "1.5.0",
     "state": {
      "_model_module": "@jupyter-widgets/controls",
      "_model_module_version": "1.5.0",
      "_model_name": "ProgressStyleModel",
      "_view_count": null,
      "_view_module": "@jupyter-widgets/base",
      "_view_module_version": "1.2.0",
      "_view_name": "StyleView",
      "bar_color": null,
      "description_width": ""
     }
    },
    "a33e161bc2614979b4bf59000e9ce55e": {
     "model_module": "@jupyter-widgets/base",
     "model_name": "LayoutModel",
     "model_module_version": "1.2.0",
     "state": {
      "_model_module": "@jupyter-widgets/base",
      "_model_module_version": "1.2.0",
      "_model_name": "LayoutModel",
      "_view_count": null,
      "_view_module": "@jupyter-widgets/base",
      "_view_module_version": "1.2.0",
      "_view_name": "LayoutView",
      "align_content": null,
      "align_items": null,
      "align_self": null,
      "border": null,
      "bottom": null,
      "display": null,
      "flex": null,
      "flex_flow": null,
      "grid_area": null,
      "grid_auto_columns": null,
      "grid_auto_flow": null,
      "grid_auto_rows": null,
      "grid_column": null,
      "grid_gap": null,
      "grid_row": null,
      "grid_template_areas": null,
      "grid_template_columns": null,
      "grid_template_rows": null,
      "height": null,
      "justify_content": null,
      "justify_items": null,
      "left": null,
      "margin": null,
      "max_height": null,
      "max_width": null,
      "min_height": null,
      "min_width": null,
      "object_fit": null,
      "object_position": null,
      "order": null,
      "overflow": null,
      "overflow_x": null,
      "overflow_y": null,
      "padding": null,
      "right": null,
      "top": null,
      "visibility": null,
      "width": null
     }
    },
    "3d57592b479b43f2a47fed260fd979f9": {
     "model_module": "@jupyter-widgets/controls",
     "model_name": "DescriptionStyleModel",
     "model_module_version": "1.5.0",
     "state": {
      "_model_module": "@jupyter-widgets/controls",
      "_model_module_version": "1.5.0",
      "_model_name": "DescriptionStyleModel",
      "_view_count": null,
      "_view_module": "@jupyter-widgets/base",
      "_view_module_version": "1.2.0",
      "_view_name": "StyleView",
      "description_width": ""
     }
    }
   }
  }
 },
 "nbformat": 4,
 "nbformat_minor": 0
}
