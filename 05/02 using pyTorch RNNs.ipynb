{
 "cells": [
  {
   "cell_type": "markdown",
   "id": "97cf9568-cd60-4dc6-aaa8-096ee6e0156e",
   "metadata": {},
   "source": [
    "# Using pyTorch implementation\n",
    "\n",
    "In this second part, we use pyTorch's implementation of RNNs and LSTMs. Again, as we are focusing on understanding the model and library, we will keep using the IMDB dataset. The good news is training is much faster using pyTorch's implementations."
   ]
  },
  {
   "cell_type": "markdown",
   "id": "9bcc80f0-e4e1-4ba3-bbda-582167fb43dc",
   "metadata": {},
   "source": [
    "## From dataset to batch inputs\n",
    "\n",
    "You already know what to do here, it's the same as in the previous notebook."
   ]
  },
  {
   "cell_type": "code",
   "execution_count": 1,
   "id": "d09389ff",
   "metadata": {},
   "outputs": [],
   "source": [
    "from copy import deepcopy\n",
    "from functools import partial\n",
    "from typing import Callable, Dict, Generator, List, Tuple\n",
    "from collections import Counter, OrderedDict\n",
    "from matplotlib import pyplot as plt\n",
    "\n",
    "from datasets import load_dataset\n",
    "import numpy as np\n",
    "from sklearn.utils import shuffle\n",
    "import torch\n",
    "from torch import nn\n",
    "from torchtext.vocab import vocab, Vocab\n",
    "from torchtext.data.utils import get_tokenizer\n",
    "\n",
    "from tqdm.auto import tqdm"
   ]
  },
  {
   "cell_type": "code",
   "execution_count": 2,
   "id": "8add44d5",
   "metadata": {},
   "outputs": [
    {
     "name": "stderr",
     "output_type": "stream",
     "text": [
      "Found cached dataset imdb (C:/Users/denis/.cache/huggingface/datasets/imdb/plain_text/1.0.0/d613c88cf8fa3bab83b4ded3713f1f74830d1100e171db75bbddb80b3345c9c0)\n"
     ]
    },
    {
     "data": {
      "application/vnd.jupyter.widget-view+json": {
       "model_id": "2fa1359cef454bcba644899c08405c16",
       "version_major": 2,
       "version_minor": 0
      },
      "text/plain": [
       "  0%|          | 0/3 [00:00<?, ?it/s]"
      ]
     },
     "metadata": {},
     "output_type": "display_data"
    },
    {
     "name": "stderr",
     "output_type": "stream",
     "text": [
      "Loading cached split indices for dataset at C:\\Users\\denis\\.cache\\huggingface\\datasets\\imdb\\plain_text\\1.0.0\\d613c88cf8fa3bab83b4ded3713f1f74830d1100e171db75bbddb80b3345c9c0\\cache-5f37fd0866e4f89f.arrow and C:\\Users\\denis\\.cache\\huggingface\\datasets\\imdb\\plain_text\\1.0.0\\d613c88cf8fa3bab83b4ded3713f1f74830d1100e171db75bbddb80b3345c9c0\\cache-dd5732a0e6ac784c.arrow\n"
     ]
    },
    {
     "data": {
      "text/plain": [
       "((20000, 2), (5000, 2), (25000, 2))"
      ]
     },
     "execution_count": 2,
     "metadata": {},
     "output_type": "execute_result"
    }
   ],
   "source": [
    "dataset = load_dataset(\"imdb\")\n",
    "train_dataset = dataset[\"train\"].train_test_split(\n",
    "    stratify_by_column=\"label\", test_size=0.2, seed=42\n",
    ")\n",
    "test_df = dataset[\"test\"]\n",
    "train_df = train_dataset[\"train\"]\n",
    "valid_df = train_dataset[\"test\"]\n",
    "train_df.shape, valid_df.shape, test_df.shape"
   ]
  },
  {
   "cell_type": "code",
   "execution_count": 3,
   "id": "e0bcdb0d",
   "metadata": {},
   "outputs": [
    {
     "data": {
      "text/plain": [
       "42465"
      ]
     },
     "execution_count": 3,
     "metadata": {},
     "output_type": "execute_result"
    }
   ],
   "source": [
    "tokenizer = get_tokenizer(\"basic_english\", language=\"en\")\n",
    "counter = Counter([word for row in train_df[\"text\"] for word in row.split()])\n",
    "sorted_items = sorted(counter.items(), key=lambda item: item[1], reverse=True)\n",
    "ordered = OrderedDict(sorted_items)\n",
    "vocabulary = vocab(ordered, min_freq=5, specials=[\"<unk>\", \"<pad>\"])\n",
    "vocabulary.set_default_index(vocabulary[\"<unk>\"])\n",
    "len(vocabulary)"
   ]
  },
  {
   "cell_type": "code",
   "execution_count": 4,
   "id": "43ecdc88",
   "metadata": {},
   "outputs": [],
   "source": [
    "def vectorize_text(\n",
    "    text: str, vocabulary: Vocab, tokenizer: Callable[[str], List[str]]\n",
    ") -> torch.Tensor:\n",
    "    \"\"\"\n",
    "    Generate a tensor of vocabluary IDs for a given text.\n",
    "    Args:\n",
    "        text: the input text.\n",
    "        vocabulary: a Vocab objects.\n",
    "        tokenizer: a text tokenizer.\n",
    "    Returns:\n",
    "        A tensor of IDs (torch.long).\n",
    "    \"\"\"\n",
    "    return torch.tensor([vocabulary[token] for token in tokenizer(text)], dtype=torch.long)"
   ]
  },
  {
   "cell_type": "code",
   "execution_count": 5,
   "id": "ae4cf151",
   "metadata": {},
   "outputs": [],
   "source": [
    "text_pipeline = partial(vectorize_text, vocabulary=vocabulary, tokenizer=tokenizer)"
   ]
  },
  {
   "cell_type": "code",
   "execution_count": 6,
   "id": "e8a11535",
   "metadata": {},
   "outputs": [
    {
     "data": {
      "application/vnd.jupyter.widget-view+json": {
       "model_id": "9012b56553d941fc90ef13a3b64c3d4e",
       "version_major": 2,
       "version_minor": 0
      },
      "text/plain": [
       "  0%|          | 0/20000 [00:00<?, ?it/s]"
      ]
     },
     "metadata": {},
     "output_type": "display_data"
    },
    {
     "data": {
      "application/vnd.jupyter.widget-view+json": {
       "model_id": "9e7ff97efb4f4750bfec44293640df3e",
       "version_major": 2,
       "version_minor": 0
      },
      "text/plain": [
       "  0%|          | 0/5000 [00:00<?, ?it/s]"
      ]
     },
     "metadata": {},
     "output_type": "display_data"
    },
    {
     "data": {
      "application/vnd.jupyter.widget-view+json": {
       "model_id": "5566379f71ee48098db2ccb88d9627a7",
       "version_major": 2,
       "version_minor": 0
      },
      "text/plain": [
       "  0%|          | 0/25000 [00:00<?, ?it/s]"
      ]
     },
     "metadata": {},
     "output_type": "display_data"
    }
   ],
   "source": [
    "X_train = [text_pipeline(text) for text in tqdm(train_df[\"text\"])]\n",
    "y_train = train_df[\"label\"]\n",
    "X_valid = [text_pipeline(text) for text in tqdm(valid_df[\"text\"])]\n",
    "y_valid = valid_df[\"label\"]\n",
    "X_test = [text_pipeline(text) for text in tqdm(test_df[\"text\"])]\n",
    "y_test = test_df[\"label\"]"
   ]
  },
  {
   "cell_type": "code",
   "execution_count": 7,
   "id": "7aaddf66",
   "metadata": {},
   "outputs": [],
   "source": [
    "def data_generator(\n",
    "    X: List[torch.tensor], y: List[int], pad_id: int, batch_size: int = 32\n",
    ") -> Generator[Tuple[torch.Tensor, torch.Tensor], None, None]:\n",
    "    \"\"\"\n",
    "    Yield batches from given input data and labels.\n",
    "    Args:\n",
    "        X: a list of tensor (input features).\n",
    "        y: the corresponding labels.\n",
    "        batch_size: the size of every batch [32].\n",
    "    Returns:\n",
    "        A tuple of tensors (features, labels).\n",
    "    \"\"\"\n",
    "    X, y = shuffle(X, y)\n",
    "    for i in range(0, len(X), batch_size):\n",
    "        batch_X = X[i : i + batch_size]\n",
    "        batch_y = y[i : i + batch_size]\n",
    "        max_len = max([len(x) for x in batch_X])\n",
    "        batch_X = torch.stack(\n",
    "            [torch.nn.functional.pad(x, (0, max_len - len(x)), value=pad_id) for x in batch_X]\n",
    "        )\n",
    "        yield batch_X, torch.tensor(batch_y, dtype=torch.long)"
   ]
  },
  {
   "cell_type": "code",
   "execution_count": 8,
   "id": "1c175fdd",
   "metadata": {},
   "outputs": [],
   "source": [
    "train_gen = lambda: data_generator(X_train, y_train, vocabulary[\"<pad>\"])\n",
    "valid_gen = lambda: data_generator(X_valid, y_valid, vocabulary[\"<pad>\"])\n",
    "test_gen = lambda: data_generator(X_test, y_test, vocabulary[\"<pad>\"])"
   ]
  },
  {
   "cell_type": "markdown",
   "id": "55cecf52-8386-4dc1-9600-0f03554fe082",
   "metadata": {},
   "source": [
    "## The classifier\n",
    "\n",
    "The implementation behind shows how to use the [RNN](https://pytorch.org/docs/stable/generated/torch.nn.RNN.html) implementation provided by pyTorch to code a simple RNN."
   ]
  },
  {
   "cell_type": "code",
   "execution_count": 9,
   "id": "f4e78187-f53f-42b9-92c1-b94d23f9d28b",
   "metadata": {},
   "outputs": [],
   "source": [
    "class RNN(nn.Module):\n",
    "    \"\"\"A simple RNN module with word embeddings.\n",
    "    \"\"\"\n",
    "    def __init__(self, vocab_size: int, embed_size: int, hidden_size: int, n_layers: int, n_outputs: int) -> None:\n",
    "        \"\"\"\n",
    "        Args:\n",
    "            vocab_size: vocabulary size.\n",
    "            embed_size: embedding dimensions.\n",
    "            hidden_size: hidden layer size.\n",
    "            n_layers: the number of layers.\n",
    "            n_outputs: the number of output classes.\n",
    "        \"\"\"\n",
    "        super().__init__()\n",
    "        self.vocab_size = vocab_size\n",
    "        self.embed_size = embed_size\n",
    "        self.hidden_size = hidden_size\n",
    "        self.n_layers = n_layers\n",
    "        self.n_outputs = n_outputs\n",
    "\n",
    "\n",
    "        # The word embedding layer.\n",
    "        self.embed = nn.Embedding(self.vocab_size, self.embed_size)\n",
    "        # The RNN\n",
    "        self.rnn = nn.RNN(\n",
    "            input_size = self.embed_size,\n",
    "            hidden_size = self.hidden_size,\n",
    "            num_layers = self.n_layers,\n",
    "            batch_first = True, # Changes the order of dimension to put the batches first.\n",
    "        )\n",
    "        # A fully connected layer to project the RNN's output to only one output used for classification.\n",
    "        self.fc = nn.Linear(self.hidden_size, self.n_outputs)\n",
    "\n",
    "    def forward(self, X: torch.Tensor) -> torch.Tensor:\n",
    "        \"\"\"Function called when the model is called with data as input.\n",
    "        Args:\n",
    "            X: the input tensor of dimensions batch_size, sequence length, vocab size (actually just an int).\n",
    "        Returns:\n",
    "            The resulting tensor of dimension batch_size, sequence length, output dimensions.\n",
    "        \"\"\"\n",
    "        h0 = torch.zeros(self.n_layers, X.size(0), self.hidden_size).to(device)\n",
    "\n",
    "        out = self.embed(X)\n",
    "        # out contains the output layer of all words in the sequence.\n",
    "        # First dim is batch, second the word in the sequence, third is the vector itself.\n",
    "        # The second output value is the last vector of all intermediate layer.\n",
    "        # Only use it if you want to access the intermediate layer values of a\n",
    "        # multilayer model.\n",
    "        out, _ = self.rnn(out, h0)\n",
    "        # Getting the last value only.\n",
    "        out = out[:, -1, :]\n",
    "    \n",
    "        # Linear projection.\n",
    "        out = self.fc(out)\n",
    "\n",
    "        return out"
   ]
  },
  {
   "cell_type": "markdown",
   "id": "5c590a0c-69f0-48b5-9336-f7f33df481af",
   "metadata": {},
   "source": [
    "## Training (1 point)"
   ]
  },
  {
   "cell_type": "markdown",
   "id": "aa17a3c8-640d-41bd-be8d-8976e935a274",
   "metadata": {},
   "source": [
    "**\\[1 point\\]** Code the training function.\n",
    "* Note that we are using a function, as we will use it on several models here.\n",
    "* The RNN implementation of pyTorch doesn't need to be manually looped. As commented in the `forward` function above, `out` contains the ouptut layer for all words in the sequence, and taking its last value is what we needed."
   ]
  },
  {
   "cell_type": "code",
   "execution_count": 22,
   "id": "528c1bf6-386d-4db4-9c85-001bd3379568",
   "metadata": {},
   "outputs": [],
   "source": [
    "# [TODO] c'est long, pas bien compris mais normalement cest beaucoup plus petit a faire, a bien relire la fonction forward\n",
    "\n",
    "batch_size = 32\n",
    "\n",
    "def train(\n",
    "    model: nn.Module,\n",
    "    criterion: Callable,\n",
    "    optimizer: torch.optim.Optimizer,\n",
    "    n_epochs: int,\n",
    "    train_gen: Callable,\n",
    "    valid_gen: Callable,\n",
    ") -> Tuple[nn.Module, List[float], List[float]]:\n",
    "    \"\"\"Train a model using a batch gradient descent.\n",
    "    Args:\n",
    "        model: a class inheriting from nn.Module.\n",
    "        criterion: a loss criterion.\n",
    "        optimizer: an optimizer (e.g. Adam, RMSprop, ...).\n",
    "        n_epochs: the number of training epochs.\n",
    "        train_gen: a callable function returing a batch (data, labels).\n",
    "        valid_gen: a callable function returing a batch (data, labels).\n",
    "    Returns:\n",
    "        A tuple:[best_model (by validation loss), training losses, validation losses].\n",
    "    \"\"\"\n",
    "\n",
    "    # Initialize losses.\n",
    "    train_losses = []\n",
    "    valid_losses = []\n",
    "    best_model = None\n",
    "    best_loss = float(\"inf\")\n",
    "\n",
    "    for epoch in tqdm(range(n_epochs)):\n",
    "        # Training.\n",
    "        model.train()\n",
    "        train_loss = 0.0\n",
    "        for X, y in train_gen():\n",
    "            # Forward pass.\n",
    "            y_pred = model(X)\n",
    "            # Loss computation.\n",
    "            loss = criterion(y_pred, y.unsqueeze(1).float())\n",
    "            # Backward pass.\n",
    "            optimizer.zero_grad()\n",
    "            loss.backward()\n",
    "            optimizer.step()\n",
    "            # Update train loss.\n",
    "            train_loss += loss.item() * X.size(0)\n",
    "        # Update training loss.\n",
    "        train_loss /= len(X_train)\n",
    "        train_losses.append(train_loss)\n",
    "\n",
    "        # Validation.\n",
    "        model.eval()\n",
    "        valid_loss = 0.0\n",
    "        for X, y in valid_gen():\n",
    "            # Forward pass.\n",
    "            y_pred = model(X)\n",
    "            # Loss computation.\n",
    "            loss = criterion(y_pred, y.unsqueeze(1).float())\n",
    "            # Update validation loss.\n",
    "            valid_loss += loss.item() * X.size(0)\n",
    "        # Update validation loss.\n",
    "        valid_loss /= len(X_valid)\n",
    "        valid_losses.append(valid_loss)\n",
    "\n",
    "        # Save the best model so far.\n",
    "        if valid_loss < best_loss:\n",
    "            best_loss = valid_loss\n",
    "            best_model = deepcopy(model.state_dict())\n",
    "\n",
    "        # Print training loss and validation loss.\n",
    "        print(f\"[{epoch+1}/{n_epochs}] train loss: {train_loss:.3f} - valid loss: {valid_loss:.3f}\")\n",
    "\n",
    "    # Load the best model.\n",
    "    model.load_state_dict(best_model)\n",
    "\n",
    "    return model, train_losses, valid_losses"
   ]
  },
  {
   "cell_type": "code",
   "execution_count": 23,
   "id": "f548c3bc",
   "metadata": {},
   "outputs": [
    {
     "data": {
      "text/plain": [
       "'cpu'"
      ]
     },
     "execution_count": 23,
     "metadata": {},
     "output_type": "execute_result"
    }
   ],
   "source": [
    "device = \"cuda:0\" if torch.cuda.is_available() else \"cpu\"\n",
    "device"
   ]
  },
  {
   "cell_type": "code",
   "execution_count": 24,
   "id": "dab8bdab-8072-45e5-a1d8-90041fa49936",
   "metadata": {},
   "outputs": [],
   "source": [
    "model = RNN(len(vocabulary), 32, 64, 1, 1).to(device)\n",
    "criterion = nn.BCEWithLogitsLoss()\n",
    "optimizer = torch.optim.Adam(model.parameters())"
   ]
  },
  {
   "cell_type": "code",
   "execution_count": 25,
   "id": "32881f1e-f71f-463e-8f86-b0b6a16bd919",
   "metadata": {},
   "outputs": [
    {
     "data": {
      "application/vnd.jupyter.widget-view+json": {
       "model_id": "e747c9e3193a40439858f8ff156f3e8b",
       "version_major": 2,
       "version_minor": 0
      },
      "text/plain": [
       "  0%|          | 0/20 [00:00<?, ?it/s]"
      ]
     },
     "metadata": {},
     "output_type": "display_data"
    },
    {
     "name": "stdout",
     "output_type": "stream",
     "text": [
      "[1/20] train loss: 0.695 - valid loss: 0.696\n",
      "[2/20] train loss: 0.694 - valid loss: 0.695\n",
      "[3/20] train loss: 0.694 - valid loss: 0.695\n",
      "[4/20] train loss: 0.694 - valid loss: 0.693\n",
      "[5/20] train loss: 0.693 - valid loss: 0.693\n",
      "[6/20] train loss: 0.692 - valid loss: 0.693\n",
      "[7/20] train loss: 0.691 - valid loss: 0.693\n",
      "[8/20] train loss: 0.690 - valid loss: 0.697\n",
      "[9/20] train loss: 0.691 - valid loss: 0.696\n",
      "[10/20] train loss: 0.689 - valid loss: 0.696\n",
      "[11/20] train loss: 0.688 - valid loss: 0.695\n",
      "[12/20] train loss: 0.687 - valid loss: 0.700\n",
      "[13/20] train loss: 0.691 - valid loss: 0.693\n",
      "[14/20] train loss: 0.692 - valid loss: 0.694\n",
      "[15/20] train loss: 0.689 - valid loss: 0.696\n",
      "[16/20] train loss: 0.686 - valid loss: 0.697\n",
      "[17/20] train loss: 0.686 - valid loss: 0.696\n",
      "[18/20] train loss: 0.685 - valid loss: 0.699\n",
      "[19/20] train loss: 0.685 - valid loss: 0.697\n",
      "[20/20] train loss: 0.682 - valid loss: 0.702\n"
     ]
    }
   ],
   "source": [
    "best_model, train_losses, valid_losses = train(model, criterion, optimizer, 20, train_gen, valid_gen)"
   ]
  },
  {
   "cell_type": "code",
   "execution_count": 26,
   "id": "87db1d40-187a-40cd-a940-89a1af1e6b0c",
   "metadata": {},
   "outputs": [
    {
     "data": {
      "text/plain": [
       "<matplotlib.legend.Legend at 0x28701551520>"
      ]
     },
     "execution_count": 26,
     "metadata": {},
     "output_type": "execute_result"
    },
    {
     "data": {
      "image/png": "[encoded data removed]",
      "text/plain": [
       "<Figure size 432x288 with 1 Axes>"
      ]
     },
     "metadata": {
      "needs_background": "light"
     },
     "output_type": "display_data"
    }
   ],
   "source": [
    "plt.plot(train_losses, label=\"Training loss\")\n",
    "plt.plot(valid_losses, label=\"Validation loss\")\n",
    "plt.legend()"
   ]
  },
  {
   "cell_type": "markdown",
   "id": "cf154e66-6ba3-411e-80c9-6b0eebf122e3",
   "metadata": {},
   "source": [
    "## Do the following (5 points)\n",
    "* **\\[1 point\\]** Add an accuracy function and report the accuracy of the training, validation, and test set.\n",
    "* **\\[2 points\\]** Create an LSTM class which uses an LSTM instead of an RNN. Compare its results with the RNN.\n",
    "  * Look at the [LSTM documentation of pyTorch](https://pytorch.org/docs/stable/generated/torch.nn.LSTM.html).\n",
    "* **\\[1 point\\]** Implement a function which takes any text and returns the model's prediction.\n",
    "    * The function should have a string as input and return a class (0 or 1) and its confidence (between 0 and 1).\n",
    "* **\\[Bonus\\]** Create a bidirectional LSTM (BiLSTM) class to classify your sentences. Report the accuracy on the training and test data.\n",
    "    * **Beware of the behaviour of the output layer.** For a bidirectional LSTM, the output layer concatenates the forward and backward vector of each token. But we need to use the forward output of the last token, and the backward output of the first token, as input to our output layer.\n",
    "* **\\[1 point\\]** With your best classifier, look at two wrongly classified examples on the test set. Try explaining why the model was wrong.\n",
    "* **\\[Bonus\\]** Try finding better hyperparameters (dimensions, number of layers, ...). Document your experiments and results."
   ]
  },
  {
   "cell_type": "code",
   "execution_count": 31,
   "id": "eec85aa0-2afa-4007-b68c-b8359addc1ca",
   "metadata": {},
   "outputs": [],
   "source": [
    "# Compute the accuracy for all 3 splits.\n",
    "\n",
    "def accuracy(\n",
    "    model: nn.Module,\n",
    "    data_gen: Generator[Tuple[torch.Tensor, torch.Tensor], None, None],\n",
    "    device: str = \"cpu\",\n",
    ") -> float:\n",
    "    \"\"\"\n",
    "    Compute the accuracy of a model.\n",
    "    Args:\n",
    "        model: a PyTorch Module.\n",
    "        data_gen: a generator returning batches.\n",
    "        device: the device to run the computation on.\n",
    "    Returns:\n",
    "        The accuracy of the model on the data from the generator.\n",
    "    \"\"\"\n",
    "    model.eval()\n",
    "    correct = 0\n",
    "    total = 0\n",
    "    \n",
    "    with torch.no_grad():\n",
    "        for X, y in data_gen():\n",
    "            X, y = X.to(device), y.to(device)\n",
    "            outputs = model(X)\n",
    "            predictions = torch.round(torch.sigmoid(outputs)).squeeze(1)  # to get the class prediction\n",
    "\n",
    "            correct += (predictions == y).sum().item()\n",
    "            total += y.size(0)\n",
    "\n",
    "    return correct / total"
   ]
  },
  {
   "cell_type": "code",
   "execution_count": 33,
   "id": "ba1b2072",
   "metadata": {},
   "outputs": [
    {
     "name": "stdout",
     "output_type": "stream",
     "text": [
      "Accuracy of the training set: 0.50355\n",
      "Accuracy of the validation set: 0.5004\n",
      "Accuracy of the test set: 0.50048\n"
     ]
    }
   ],
   "source": [
    "train_accuracy = accuracy(best_model, train_gen)\n",
    "valid_accuracy = accuracy(best_model, valid_gen)\n",
    "test_accuracy = accuracy(best_model, test_gen)\n",
    "print(f'RNN Accuracy of the training set: {train_accuracy}')\n",
    "print(f'RNN Accuracy of the validation set: {valid_accuracy}')\n",
    "print(f'RNN Accuracy of the test set: {test_accuracy}')"
   ]
  },
  {
   "cell_type": "code",
   "execution_count": 34,
   "id": "9e81f16d",
   "metadata": {},
   "outputs": [],
   "source": [
    "class LSTM(nn.Module):\n",
    "    def __init__(self, vocabulary_size: int, embedding_size: int, hidden_size: int, output_size: int = 1):\n",
    "        super().__init__()\n",
    "        self.embedding = nn.Embedding(vocabulary_size, embedding_size)\n",
    "        self.lstm = nn.LSTM(embedding_size, hidden_size, batch_first=True)\n",
    "        self.fc = nn.Linear(hidden_size, output_size)\n",
    "\n",
    "    def forward(self, x):\n",
    "        x = self.embedding(x)\n",
    "        _, (hidden, _) = self.lstm(x)\n",
    "        output = self.fc(hidden[-1])\n",
    "        return output"
   ]
  },
  {
   "cell_type": "code",
   "execution_count": 39,
   "id": "97c9ce76",
   "metadata": {},
   "outputs": [],
   "source": [
    "lstm_model = LSTM(len(vocabulary), 32, 64, 1).to(device)\n",
    "lstm_criterion = nn.BCEWithLogitsLoss()\n",
    "lstm_optimizer = torch.optim.Adam(model.parameters())"
   ]
  },
  {
   "cell_type": "code",
   "execution_count": null,
   "id": "4136bfed",
   "metadata": {},
   "outputs": [],
   "source": [
    "best_lstm_model, train_lstm_losses, valid_lstm_losses = train(lstm_model, lstm_criterion,\n",
    "                                                              lstm_optimizer, 20, train_gen, valid_gen)"
   ]
  },
  {
   "cell_type": "code",
   "execution_count": null,
   "id": "398ddc0f",
   "metadata": {},
   "outputs": [],
   "source": [
    "train_accuracy = accuracy(best_lstm_model, train_gen)\n",
    "valid_accuracy = accuracy(best_lstm_model, valid_gen)\n",
    "test_accuracy = accuracy(best_lstm_model, test_gen)\n",
    "print(f'LSTM Accuracy of the training set: {train_accuracy}')\n",
    "print(f'LSTM Accuracy of the validation set: {valid_accuracy}')\n",
    "print(f'LSTM Accuracy of the test set: {test_accuracy}')"
   ]
  },
  {
   "cell_type": "code",
   "execution_count": null,
   "id": "a6a80573",
   "metadata": {},
   "outputs": [],
   "source": [
    "def predict(text: str, model: nn.Module, vocab: Vocab, device: str = \"cpu\") -> Tuple[int, float]:\n",
    "    \"\"\"\n",
    "    Predict the class of a text string.\n",
    "    Args:\n",
    "        text: a text string.\n",
    "        model: a PyTorch model.\n",
    "        vocab: a torchtext.vocab.Vocab object.\n",
    "        device: a string (\"cpu\" or \"cuda\").\n",
    "    Returns:\n",
    "        The predicted class (0 or 1) and its confidence (a float between 0 and 1).\n",
    "    \"\"\"\n",
    "    model.to(device)\n",
    "    model.eval()\n",
    "\n",
    "    tokenized_text = tokenizer(text)\n",
    "    numericalized_text = [vocab[token] for token in tokenized_text]\n",
    "    tensor_text = torch.LongTensor(numericalized_text).unsqueeze(0).to(device)\n",
    "\n",
    "    with torch.no_grad():\n",
    "        output = model(tensor_text)\n",
    "        output_prob = torch.sigmoid(output).item()\n",
    "        predicted_class = 1 if output_prob > 0.5 else 0\n",
    "        return predicted_class, output_prob"
   ]
  },
  {
   "cell_type": "code",
   "execution_count": null,
   "id": "32c1dde1",
   "metadata": {},
   "outputs": [],
   "source": [
    "predict(test_df['text'][0], best_lstm_model, vocabulary)"
   ]
  },
  {
   "cell_type": "code",
   "execution_count": null,
   "id": "1ee95c8e",
   "metadata": {},
   "outputs": [],
   "source": [
    "class BiLSTM(nn.Module):\n",
    "    def __init__(self, vocabulary_size: int, embedding_size: int, hidden_size: int, output_size: int = 1):\n",
    "        super().__init__()\n",
    "        self.embedding = nn.Embedding(vocabulary_size, embedding_size)\n",
    "        self.lstm = nn.LSTM(embedding_size, hidden_size, batch_first=True, bidirectional=True)\n",
    "        self.fc = nn.Linear(2 * hidden_size, output_size)\n",
    "\n",
    "    def forward(self, x):\n",
    "        x = self.embedding(x)\n",
    "        _, (hidden, _) = self.lstm(x)\n",
    "        forward_hidden = hidden[-2,:,:]\n",
    "        backward_hidden = hidden[-1,:,:]\n",
    "        hidden = torch.cat((forward_hidden, backward_hidden), dim=1)\n",
    "        output = self.fc(hidden)\n",
    "        return output"
   ]
  },
  {
   "cell_type": "code",
   "execution_count": null,
   "id": "71755b48",
   "metadata": {},
   "outputs": [],
   "source": [
    "model.eval()\n",
    "misclassified_examples = []\n",
    "with torch.no_grad():\n",
    "    for X, y in test_gen():\n",
    "        outputs = model(X)\n",
    "        predictions = torch.round(torch.sigmoid(outputs)).squeeze(1)\n",
    "        misclassified_indices = (predictions != y).nonzero().flatten()\n",
    "        for i in misclassified_indices:\n",
    "            misclassified_examples.append((X[i], y[i], predictions[i]))\n",
    "        if len(misclassified_examples) >= 2:\n",
    "            break"
   ]
  },
  {
   "cell_type": "code",
   "execution_count": null,
   "id": "03b9a404",
   "metadata": {},
   "outputs": [],
   "source": [
    "misclassified_examples[0], misclassified_examples[1]"
   ]
  },
  {
   "cell_type": "code",
   "execution_count": null,
   "id": "b2a9dce3",
   "metadata": {},
   "outputs": [],
   "source": []
  }
 ],
 "metadata": {
  "kernelspec": {
   "display_name": "Python 3 (ipykernel)",
   "language": "python",
   "name": "python3"
  },
  "language_info": {
   "codemirror_mode": {
    "name": "ipython",
    "version": 3
   },
   "file_extension": ".py",
   "mimetype": "text/x-python",
   "name": "python",
   "nbconvert_exporter": "python",
   "pygments_lexer": "ipython3",
   "version": "3.9.12"
  }
 },
 "nbformat": 4,
 "nbformat_minor": 5
}
