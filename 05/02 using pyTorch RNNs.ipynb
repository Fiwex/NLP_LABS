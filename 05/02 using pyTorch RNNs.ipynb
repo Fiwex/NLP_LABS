{
 "cells": [
  {
   "cell_type": "markdown",
   "id": "97cf9568-cd60-4dc6-aaa8-096ee6e0156e",
   "metadata": {},
   "source": [
    "# Using pyTorch implementation\n",
    "\n",
    "In this second part, we use pyTorch's implementation of RNNs and LSTMs. Again, as we are focusing on understanding the model and library, we will keep using the IMDB dataset. The good news is training is much faster using pyTorch's implementations."
   ]
  },
  {
   "cell_type": "markdown",
   "id": "9bcc80f0-e4e1-4ba3-bbda-582167fb43dc",
   "metadata": {},
   "source": [
    "## From dataset to batch inputs\n",
    "\n",
    "You already know what to do here, it's the same as in the previous notebook."
   ]
  },
  {
   "cell_type": "code",
   "execution_count": 1,
   "id": "d09389ff",
   "metadata": {},
   "outputs": [],
   "source": [
    "from copy import deepcopy\n",
    "from functools import partial\n",
    "from typing import Callable, Dict, Generator, List, Tuple\n",
    "from collections import Counter, OrderedDict\n",
    "from matplotlib import pyplot as plt\n",
    "\n",
    "from datasets import load_dataset\n",
    "import numpy as np\n",
    "from sklearn.utils import shuffle\n",
    "import torch\n",
    "from torch import nn\n",
    "from torchtext.vocab import vocab, Vocab\n",
    "from torchtext.data.utils import get_tokenizer\n",
    "\n",
    "from tqdm.auto import tqdm"
   ]
  },
  {
   "cell_type": "code",
   "execution_count": 2,
   "id": "8add44d5",
   "metadata": {},
   "outputs": [
    {
     "name": "stderr",
     "output_type": "stream",
     "text": [
      "Found cached dataset imdb (/home/adrien/.cache/huggingface/datasets/imdb/plain_text/1.0.0/d613c88cf8fa3bab83b4ded3713f1f74830d1100e171db75bbddb80b3345c9c0)\n"
     ]
    },
    {
     "data": {
      "text/plain": "  0%|          | 0/3 [00:00<?, ?it/s]",
      "application/vnd.jupyter.widget-view+json": {
       "version_major": 2,
       "version_minor": 0,
       "model_id": "1c98e0ee208c46609b692b596f4ee1bb"
      }
     },
     "metadata": {},
     "output_type": "display_data"
    },
    {
     "name": "stderr",
     "output_type": "stream",
     "text": [
      "Loading cached split indices for dataset at /home/adrien/.cache/huggingface/datasets/imdb/plain_text/1.0.0/d613c88cf8fa3bab83b4ded3713f1f74830d1100e171db75bbddb80b3345c9c0/cache-5f37fd0866e4f89f.arrow and /home/adrien/.cache/huggingface/datasets/imdb/plain_text/1.0.0/d613c88cf8fa3bab83b4ded3713f1f74830d1100e171db75bbddb80b3345c9c0/cache-dd5732a0e6ac784c.arrow\n"
     ]
    },
    {
     "data": {
      "text/plain": "((20000, 2), (5000, 2), (25000, 2))"
     },
     "execution_count": 2,
     "metadata": {},
     "output_type": "execute_result"
    }
   ],
   "source": [
    "dataset = load_dataset(\"imdb\")\n",
    "train_dataset = dataset[\"train\"].train_test_split(\n",
    "    stratify_by_column=\"label\", test_size=0.2, seed=42\n",
    ")\n",
    "test_df = dataset[\"test\"]\n",
    "train_df = train_dataset[\"train\"]\n",
    "valid_df = train_dataset[\"test\"]\n",
    "train_df.shape, valid_df.shape, test_df.shape"
   ]
  },
  {
   "cell_type": "code",
   "execution_count": 3,
   "id": "e0bcdb0d",
   "metadata": {},
   "outputs": [
    {
     "data": {
      "text/plain": "42465"
     },
     "execution_count": 3,
     "metadata": {},
     "output_type": "execute_result"
    }
   ],
   "source": [
    "tokenizer = get_tokenizer(\"basic_english\", language=\"en\")\n",
    "counter = Counter([word for row in train_df[\"text\"] for word in row.split()])\n",
    "sorted_items = sorted(counter.items(), key=lambda item: item[1], reverse=True)\n",
    "ordered = OrderedDict(sorted_items)\n",
    "vocabulary = vocab(ordered, min_freq=5, specials=[\"<unk>\", \"<pad>\"])\n",
    "vocabulary.set_default_index(vocabulary[\"<unk>\"])\n",
    "len(vocabulary)"
   ]
  },
  {
   "cell_type": "code",
   "execution_count": 4,
   "id": "43ecdc88",
   "metadata": {},
   "outputs": [],
   "source": [
    "def vectorize_text(\n",
    "    text: str, vocabulary: Vocab, tokenizer: Callable[[str], List[str]]\n",
    ") -> torch.Tensor:\n",
    "    \"\"\"\n",
    "    Generate a tensor of vocabluary IDs for a given text.\n",
    "    Args:\n",
    "        text: the input text.\n",
    "        vocabulary: a Vocab objects.\n",
    "        tokenizer: a text tokenizer.\n",
    "    Returns:\n",
    "        A tensor of IDs (torch.long).\n",
    "    \"\"\"\n",
    "    return torch.tensor([vocabulary[token] for token in tokenizer(text)], dtype=torch.long)"
   ]
  },
  {
   "cell_type": "code",
   "execution_count": 5,
   "id": "ae4cf151",
   "metadata": {},
   "outputs": [],
   "source": [
    "text_pipeline = partial(vectorize_text, vocabulary=vocabulary, tokenizer=tokenizer)"
   ]
  },
  {
   "cell_type": "code",
   "execution_count": 6,
   "id": "e8a11535",
   "metadata": {},
   "outputs": [
    {
     "data": {
      "text/plain": "  0%|          | 0/20000 [00:00<?, ?it/s]",
      "application/vnd.jupyter.widget-view+json": {
       "version_major": 2,
       "version_minor": 0,
       "model_id": "d26c4add55514813a9224ff7e9ee34cd"
      }
     },
     "metadata": {},
     "output_type": "display_data"
    },
    {
     "data": {
      "text/plain": "  0%|          | 0/5000 [00:00<?, ?it/s]",
      "application/vnd.jupyter.widget-view+json": {
       "version_major": 2,
       "version_minor": 0,
       "model_id": "8906bee774c74f35a30713c204e871b6"
      }
     },
     "metadata": {},
     "output_type": "display_data"
    },
    {
     "data": {
      "text/plain": "  0%|          | 0/25000 [00:00<?, ?it/s]",
      "application/vnd.jupyter.widget-view+json": {
       "version_major": 2,
       "version_minor": 0,
       "model_id": "29ba56e06390407ba14ac0cdabd0164b"
      }
     },
     "metadata": {},
     "output_type": "display_data"
    }
   ],
   "source": [
    "X_train = [text_pipeline(text) for text in tqdm(train_df[\"text\"])]\n",
    "y_train = train_df[\"label\"]\n",
    "X_valid = [text_pipeline(text) for text in tqdm(valid_df[\"text\"])]\n",
    "y_valid = valid_df[\"label\"]\n",
    "X_test = [text_pipeline(text) for text in tqdm(test_df[\"text\"])]\n",
    "y_test = test_df[\"label\"]"
   ]
  },
  {
   "cell_type": "code",
   "execution_count": 7,
   "id": "7aaddf66",
   "metadata": {},
   "outputs": [],
   "source": [
    "def data_generator(\n",
    "    X: List[torch.tensor], y: List[int], pad_id: int, batch_size: int = 32\n",
    ") -> Generator[Tuple[torch.Tensor, torch.Tensor], None, None]:\n",
    "    \"\"\"\n",
    "    Yield batches from given input data and labels.\n",
    "    Args:\n",
    "        X: a list of tensor (input features).\n",
    "        y: the corresponding labels.\n",
    "        batch_size: the size of every batch [32].\n",
    "    Returns:\n",
    "        A tuple of tensors (features, labels).\n",
    "    \"\"\"\n",
    "    X, y = shuffle(X, y)\n",
    "    for i in range(0, len(X), batch_size):\n",
    "        batch_X = X[i : i + batch_size]\n",
    "        batch_y = y[i : i + batch_size]\n",
    "        max_len = max([len(x) for x in batch_X])\n",
    "        batch_X = torch.stack(\n",
    "            [torch.nn.functional.pad(x, (0, max_len - len(x)), value=pad_id) for x in batch_X]\n",
    "        )\n",
    "        yield batch_X, torch.tensor(batch_y, dtype=torch.long)"
   ]
  },
  {
   "cell_type": "code",
   "execution_count": 8,
   "id": "1c175fdd",
   "metadata": {},
   "outputs": [],
   "source": [
    "train_gen = lambda: data_generator(X_train, y_train, vocabulary[\"<pad>\"])\n",
    "valid_gen = lambda: data_generator(X_valid, y_valid, vocabulary[\"<pad>\"])\n",
    "test_gen = lambda: data_generator(X_test, y_test, vocabulary[\"<pad>\"])"
   ]
  },
  {
   "cell_type": "markdown",
   "id": "55cecf52-8386-4dc1-9600-0f03554fe082",
   "metadata": {},
   "source": [
    "## The classifier\n",
    "\n",
    "The implementation behind shows how to use the [RNN](https://pytorch.org/docs/stable/generated/torch.nn.RNN.html) implementation provided by pyTorch to code a simple RNN."
   ]
  },
  {
   "cell_type": "code",
   "execution_count": 9,
   "id": "f4e78187-f53f-42b9-92c1-b94d23f9d28b",
   "metadata": {},
   "outputs": [],
   "source": [
    "class RNN(nn.Module):\n",
    "    \"\"\"A simple RNN module with word embeddings.\n",
    "    \"\"\"\n",
    "    def __init__(self, vocab_size: int, embed_size: int, hidden_size: int, n_layers: int, n_outputs: int) -> None:\n",
    "        \"\"\"\n",
    "        Args:\n",
    "            vocab_size: vocabulary size.\n",
    "            embed_size: embedding dimensions.\n",
    "            hidden_size: hidden layer size.\n",
    "            n_layers: the number of layers.\n",
    "            n_outputs: the number of output classes.\n",
    "        \"\"\"\n",
    "        super().__init__()\n",
    "        self.vocab_size = vocab_size\n",
    "        self.embed_size = embed_size\n",
    "        self.hidden_size = hidden_size\n",
    "        self.n_layers = n_layers\n",
    "        self.n_outputs = n_outputs\n",
    "\n",
    "\n",
    "        # The word embedding layer.\n",
    "        self.embed = nn.Embedding(self.vocab_size, self.embed_size)\n",
    "        # The RNN\n",
    "        self.rnn = nn.RNN(\n",
    "            input_size = self.embed_size,\n",
    "            hidden_size = self.hidden_size,\n",
    "            num_layers = self.n_layers,\n",
    "            batch_first = True, # Changes the order of dimension to put the batches first.\n",
    "        )\n",
    "        # A fully connected layer to project the RNN's output to only one output used for classification.\n",
    "        self.fc = nn.Linear(self.hidden_size, self.n_outputs)\n",
    "\n",
    "    def forward(self, X: torch.Tensor) -> torch.Tensor:\n",
    "        \"\"\"Function called when the model is called with data as input.\n",
    "        Args:\n",
    "            X: the input tensor of dimensions batch_size, sequence length, vocab size (actually just an int).\n",
    "        Returns:\n",
    "            The resulting tensor of dimension batch_size, sequence length, output dimensions.\n",
    "        \"\"\"\n",
    "        h0 = torch.zeros(self.n_layers, X.size(0), self.hidden_size).to(device)\n",
    "\n",
    "        out = self.embed(X)\n",
    "        # out contains the output layer of all words in the sequence.\n",
    "        # First dim is batch, second the word in the sequence, third is the vector itself.\n",
    "        # The second output value is the last vector of all intermediate layer.\n",
    "        # Only use it if you want to access the intermediate layer values of a\n",
    "        # multilayer model.\n",
    "        out, _ = self.rnn(out, h0)\n",
    "        # Getting the last value only.\n",
    "        out = out[:, -1, :]\n",
    "    \n",
    "        # Linear projection.\n",
    "        out = self.fc(out)\n",
    "\n",
    "        return out"
   ]
  },
  {
   "cell_type": "markdown",
   "id": "5c590a0c-69f0-48b5-9336-f7f33df481af",
   "metadata": {},
   "source": [
    "## Training (1 point)"
   ]
  },
  {
   "cell_type": "markdown",
   "id": "aa17a3c8-640d-41bd-be8d-8976e935a274",
   "metadata": {},
   "source": [
    "**\\[1 point\\]** Code the training function.\n",
    "* Note that we are using a function, as we will use it on several models here.\n",
    "* The RNN implementation of pyTorch doesn't need to be manually looped. As commented in the `forward` function above, `out` contains the ouptut layer for all words in the sequence, and taking its last value is what we needed."
   ]
  },
  {
   "cell_type": "code",
   "execution_count": 39,
   "outputs": [],
   "source": [
    "batch_size = 32\n",
    "epoch = 10"
   ],
   "metadata": {
    "collapsed": false,
    "ExecuteTime": {
     "end_time": "2023-05-18T19:44:47.470299544Z",
     "start_time": "2023-05-18T19:44:47.465370008Z"
    }
   }
  },
  {
   "cell_type": "code",
   "execution_count": 40,
   "outputs": [
    {
     "data": {
      "text/plain": "'cuda:0'"
     },
     "execution_count": 40,
     "metadata": {},
     "output_type": "execute_result"
    }
   ],
   "source": [
    "device = \"cuda:0\" if torch.cuda.is_available() else \"cpu\"\n",
    "device"
   ],
   "metadata": {
    "collapsed": false,
    "ExecuteTime": {
     "end_time": "2023-05-18T19:44:47.705973511Z",
     "start_time": "2023-05-18T19:44:47.701202055Z"
    }
   }
  },
  {
   "cell_type": "code",
   "execution_count": 41,
   "id": "528c1bf6-386d-4db4-9c85-001bd3379568",
   "metadata": {
    "ExecuteTime": {
     "end_time": "2023-05-18T19:44:47.958126486Z",
     "start_time": "2023-05-18T19:44:47.953360730Z"
    }
   },
   "outputs": [],
   "source": [
    "def train(\n",
    "    model: nn.Module,\n",
    "    criterion: Callable,\n",
    "    optimizer: torch.optim.Optimizer,\n",
    "    n_epochs: int,\n",
    "    train_gen: Callable,\n",
    "    valid_gen: Callable,\n",
    ") -> Tuple[nn.Module, List[float], List[float]]:\n",
    "    \"\"\"Train a model using a batch gradient descent.\n",
    "    Args:\n",
    "        model: a class inheriting from nn.Module.\n",
    "        criterion: a loss criterion.\n",
    "        optimizer: an optimizer (e.g. Adam, RMSprop, ...).\n",
    "        n_epochs: the number of training epochs.\n",
    "        train_gen: a callable function returing a batch (data, labels).\n",
    "        valid_gen: a callable function returing a batch (data, labels).\n",
    "    Returns:\n",
    "        A tuple:[best_model (by validation loss), training losses, validation losses].\n",
    "    \"\"\"\n",
    "\n",
    "    # Initialize losses.\n",
    "    train_losses = []\n",
    "    valid_losses = []\n",
    "    best_model = None\n",
    "    best_loss = float(\"inf\")\n",
    "\n",
    "    for epoch in tqdm(range(n_epochs)):\n",
    "        # Training.\n",
    "        model.train()\n",
    "        train_loss = 0.0\n",
    "        for X, y in train_gen():\n",
    "            X, y = X.to(device), y.to(device)\n",
    "            # Forward pass.\n",
    "            y_pred = model(X)\n",
    "            # Loss computation.\n",
    "            loss = criterion(y_pred, y.unsqueeze(1).float())\n",
    "            # Backward pass.\n",
    "            optimizer.zero_grad()\n",
    "            loss.backward()\n",
    "            optimizer.step()\n",
    "            # Update train loss.\n",
    "            train_loss += loss.item() * X.size(0)\n",
    "        # Update training loss.\n",
    "        train_loss /= len(X_train)\n",
    "        train_losses.append(train_loss)\n",
    "\n",
    "        # Validation.\n",
    "        model.eval()\n",
    "        valid_loss = 0.0\n",
    "        for X, y in valid_gen():\n",
    "            X, y = X.to(device), y.to(device)\n",
    "            # Forward pass.\n",
    "            y_pred = model(X)\n",
    "            # Loss computation.\n",
    "            loss = criterion(y_pred, y.unsqueeze(1).float())\n",
    "            # Update validation loss.\n",
    "            valid_loss += loss.item() * X.size(0)\n",
    "        # Update validation loss.\n",
    "        valid_loss /= len(X_valid)\n",
    "        valid_losses.append(valid_loss)\n",
    "\n",
    "        # Save the best model so far.\n",
    "        if valid_loss < best_loss:\n",
    "            best_loss = valid_loss\n",
    "            best_model = deepcopy(model.state_dict())\n",
    "\n",
    "        # Print training loss and validation loss.\n",
    "        print(f\"[{epoch+1}/{n_epochs}] train loss: {train_loss:.3f} - valid loss: {valid_loss:.3f}\")\n",
    "\n",
    "    # Load the best model.\n",
    "    model.load_state_dict(best_model)\n",
    "\n",
    "    return model, train_losses, valid_losses"
   ]
  },
  {
   "cell_type": "code",
   "execution_count": 42,
   "id": "dab8bdab-8072-45e5-a1d8-90041fa49936",
   "metadata": {
    "ExecuteTime": {
     "end_time": "2023-05-18T19:44:48.255385218Z",
     "start_time": "2023-05-18T19:44:48.235793546Z"
    }
   },
   "outputs": [],
   "source": [
    "model = RNN(len(vocabulary), 32, 64, 1, 1).to(device)\n",
    "criterion = nn.BCEWithLogitsLoss()\n",
    "optimizer = torch.optim.Adam(model.parameters())"
   ]
  },
  {
   "cell_type": "code",
   "execution_count": 43,
   "id": "32881f1e-f71f-463e-8f86-b0b6a16bd919",
   "metadata": {
    "ExecuteTime": {
     "end_time": "2023-05-18T19:45:24.342294949Z",
     "start_time": "2023-05-18T19:44:48.538269735Z"
    }
   },
   "outputs": [
    {
     "data": {
      "text/plain": "  0%|          | 0/10 [00:00<?, ?it/s]",
      "application/vnd.jupyter.widget-view+json": {
       "version_major": 2,
       "version_minor": 0,
       "model_id": "3868c3b13e9c4417ba7e19d7f44020e3"
      }
     },
     "metadata": {},
     "output_type": "display_data"
    },
    {
     "name": "stdout",
     "output_type": "stream",
     "text": [
      "[1/10] train loss: 0.695 - valid loss: 0.694\n",
      "[2/10] train loss: 0.694 - valid loss: 0.693\n",
      "[3/10] train loss: 0.693 - valid loss: 0.694\n",
      "[4/10] train loss: 0.695 - valid loss: 0.694\n",
      "[5/10] train loss: 0.695 - valid loss: 0.694\n",
      "[6/10] train loss: 0.695 - valid loss: 0.693\n",
      "[7/10] train loss: 0.695 - valid loss: 0.694\n",
      "[8/10] train loss: 0.694 - valid loss: 0.693\n",
      "[9/10] train loss: 0.694 - valid loss: 0.695\n",
      "[10/10] train loss: 0.694 - valid loss: 0.697\n"
     ]
    }
   ],
   "source": [
    "best_model, train_losses, valid_losses = train(model, criterion, optimizer, epoch, train_gen, valid_gen)"
   ]
  },
  {
   "cell_type": "code",
   "execution_count": 44,
   "id": "87db1d40-187a-40cd-a940-89a1af1e6b0c",
   "metadata": {
    "ExecuteTime": {
     "end_time": "2023-05-18T19:45:24.468758983Z",
     "start_time": "2023-05-18T19:45:24.358283785Z"
    }
   },
   "outputs": [
    {
     "data": {
      "text/plain": "<matplotlib.legend.Legend at 0x7f95aa8d4c10>"
     },
     "execution_count": 44,
     "metadata": {},
     "output_type": "execute_result"
    },
    {
     "data": {
      "text/plain": "<Figure size 640x480 with 1 Axes>",
      "image/png": "[encoded data removed]"
     },
     "metadata": {},
     "output_type": "display_data"
    }
   ],
   "source": [
    "plt.plot(train_losses, label=\"Training loss\")\n",
    "plt.plot(valid_losses, label=\"Validation loss\")\n",
    "plt.legend()"
   ]
  },
  {
   "cell_type": "markdown",
   "id": "cf154e66-6ba3-411e-80c9-6b0eebf122e3",
   "metadata": {},
   "source": [
    "## 2cd part (5 points)"
   ]
  },
  {
   "cell_type": "markdown",
   "source": [
    "* **\\[1 point\\]** Add an accuracy function and report the accuracy of the training, validation, and test set."
   ],
   "metadata": {
    "collapsed": false
   }
  },
  {
   "cell_type": "code",
   "execution_count": 45,
   "id": "eec85aa0-2afa-4007-b68c-b8359addc1ca",
   "metadata": {
    "ExecuteTime": {
     "end_time": "2023-05-18T19:45:24.534989027Z",
     "start_time": "2023-05-18T19:45:24.472522945Z"
    }
   },
   "outputs": [],
   "source": [
    "def accuracy(\n",
    "        model: nn.Module,\n",
    "        data_gen: Generator[Tuple[torch.Tensor, torch.Tensor], None, None],\n",
    "        device: str,\n",
    ") -> float:\n",
    "    \"\"\"\n",
    "    Compute the accuracy of a model.\n",
    "    Args:\n",
    "        model: a PyTorch Module.\n",
    "        data_gen: a generator returning batches.\n",
    "        device: the device to run the computation on.\n",
    "    Returns:\n",
    "        The accuracy of the model on the data from the generator.\n",
    "    \"\"\"\n",
    "    model.eval()\n",
    "    correct = 0\n",
    "    total = 0\n",
    "\n",
    "    with torch.no_grad():\n",
    "        for X, y in data_gen():\n",
    "            # Transfer X and y to the specified device\n",
    "            X, y = X.to(device), y.to(device)\n",
    "\n",
    "            # Call the model on X and get outputs on the same device as the model\n",
    "            outputs = model(X)\n",
    "\n",
    "            # Apply sigmoid and round to get class predictions, ensuring their on the same device as y\n",
    "            predictions = torch.round(torch.sigmoid(outputs)).squeeze(1).to(device)  # to get the class prediction\n",
    "\n",
    "            # Compute the number of correct predictions\n",
    "            correct += (predictions == y).sum().item()\n",
    "\n",
    "            # Keep track of the total number of predictions\n",
    "            total += y.size(0)\n",
    "\n",
    "    # Compute and return accuracy\n",
    "    return correct / total\n"
   ]
  },
  {
   "cell_type": "code",
   "execution_count": 47,
   "id": "ba1b2072",
   "metadata": {
    "ExecuteTime": {
     "end_time": "2023-05-18T19:47:04.706717947Z",
     "start_time": "2023-05-18T19:47:02.344003388Z"
    }
   },
   "outputs": [
    {
     "name": "stdout",
     "output_type": "stream",
     "text": [
      "RNN Accuracy of the training set: 0.50065\n",
      "RNN Accuracy of the validation set: 0.5\n",
      "RNN Accuracy of the test set: 0.50024\n"
     ]
    }
   ],
   "source": [
    "train_accuracy = accuracy(best_model, train_gen, device=device)\n",
    "valid_accuracy = accuracy(best_model, valid_gen, device=device)\n",
    "test_accuracy = accuracy(best_model, test_gen, device=device)\n",
    "print(f'RNN Accuracy of the training set: {train_accuracy}')\n",
    "print(f'RNN Accuracy of the validation set: {valid_accuracy}')\n",
    "print(f'RNN Accuracy of the test set: {test_accuracy}')"
   ]
  },
  {
   "cell_type": "markdown",
   "source": [
    "* **\\[2 points\\]** Create an LSTM class which uses an LSTM instead of an RNN. Compare its results with the RNN.\n",
    "\n",
    "Look at the [LSTM documentation of pyTorch](https://pytorch.org/docs/stable/generated/torch.nn.LSTM.html)."
   ],
   "metadata": {
    "collapsed": false
   }
  },
  {
   "cell_type": "code",
   "execution_count": null,
   "outputs": [],
   "source": [
    "epoch_lstm = 3"
   ],
   "metadata": {
    "collapsed": false
   }
  },
  {
   "cell_type": "code",
   "execution_count": 48,
   "id": "9e81f16d",
   "metadata": {
    "ExecuteTime": {
     "end_time": "2023-05-18T19:54:32.739709018Z",
     "start_time": "2023-05-18T19:54:32.693981761Z"
    }
   },
   "outputs": [],
   "source": [
    "class LSTM(nn.Module):\n",
    "    def __init__(self, vocabulary_size: int, embedding_size: int, hidden_size: int, output_size: int = 1):\n",
    "        super().__init__()\n",
    "        self.embedding = nn.Embedding(vocabulary_size, embedding_size)\n",
    "        self.lstm = nn.LSTM(embedding_size, hidden_size, batch_first=True)\n",
    "        self.fc = nn.Linear(hidden_size, output_size)\n",
    "\n",
    "    def forward(self, x):\n",
    "        x = self.embedding(x)\n",
    "        _, (hidden, _) = self.lstm(x)\n",
    "        output = self.fc(hidden[-1])\n",
    "        return output"
   ]
  },
  {
   "cell_type": "code",
   "execution_count": 49,
   "id": "97c9ce76",
   "metadata": {
    "ExecuteTime": {
     "end_time": "2023-05-18T19:54:32.954265141Z",
     "start_time": "2023-05-18T19:54:32.931744748Z"
    }
   },
   "outputs": [],
   "source": [
    "lstm_model = LSTM(len(vocabulary), 32, 64, 1).to(device)\n",
    "lstm_criterion = nn.BCEWithLogitsLoss()\n",
    "lstm_optimizer = torch.optim.Adam(model.parameters())"
   ]
  },
  {
   "cell_type": "code",
   "execution_count": 50,
   "id": "4136bfed",
   "metadata": {
    "ExecuteTime": {
     "end_time": "2023-05-18T19:56:41.250704675Z",
     "start_time": "2023-05-18T19:54:33.178471617Z"
    }
   },
   "outputs": [
    {
     "data": {
      "text/plain": "  0%|          | 0/20 [00:00<?, ?it/s]",
      "application/vnd.jupyter.widget-view+json": {
       "version_major": 2,
       "version_minor": 0,
       "model_id": "e69fa3bed2b243c8b3b1cf5c0dba028d"
      }
     },
     "metadata": {},
     "output_type": "display_data"
    },
    {
     "name": "stdout",
     "output_type": "stream",
     "text": [
      "[1/20] train loss: 0.699 - valid loss: 0.699\n",
      "[2/20] train loss: 0.699 - valid loss: 0.699\n",
      "[3/20] train loss: 0.699 - valid loss: 0.699\n",
      "[4/20] train loss: 0.699 - valid loss: 0.699\n",
      "[5/20] train loss: 0.699 - valid loss: 0.699\n",
      "[6/20] train loss: 0.699 - valid loss: 0.699\n",
      "[7/20] train loss: 0.699 - valid loss: 0.699\n",
      "[8/20] train loss: 0.699 - valid loss: 0.699\n",
      "[9/20] train loss: 0.699 - valid loss: 0.699\n",
      "[10/20] train loss: 0.699 - valid loss: 0.699\n",
      "[11/20] train loss: 0.699 - valid loss: 0.699\n",
      "[12/20] train loss: 0.699 - valid loss: 0.699\n",
      "[13/20] train loss: 0.699 - valid loss: 0.699\n",
      "[14/20] train loss: 0.699 - valid loss: 0.699\n",
      "[15/20] train loss: 0.699 - valid loss: 0.698\n",
      "[16/20] train loss: 0.699 - valid loss: 0.699\n",
      "[17/20] train loss: 0.699 - valid loss: 0.699\n",
      "[18/20] train loss: 0.699 - valid loss: 0.699\n",
      "[19/20] train loss: 0.699 - valid loss: 0.699\n",
      "[20/20] train loss: 0.699 - valid loss: 0.699\n"
     ]
    }
   ],
   "source": [
    "best_lstm_model, train_lstm_losses, valid_lstm_losses = train(lstm_model, lstm_criterion,\n",
    "                                                              lstm_optimizer, epoch_lstm, train_gen, valid_gen)"
   ]
  },
  {
   "cell_type": "code",
   "execution_count": 52,
   "id": "398ddc0f",
   "metadata": {
    "ExecuteTime": {
     "end_time": "2023-05-18T19:57:02.950851722Z",
     "start_time": "2023-05-18T19:56:57.248265719Z"
    }
   },
   "outputs": [
    {
     "name": "stdout",
     "output_type": "stream",
     "text": [
      "LSTM Accuracy of the training set: 0.50005\n",
      "LSTM Accuracy of the validation set: 0.5002\n",
      "LSTM Accuracy of the test set: 0.50004\n"
     ]
    }
   ],
   "source": [
    "train_accuracy = accuracy(best_lstm_model, train_gen, device=device)\n",
    "valid_accuracy = accuracy(best_lstm_model, valid_gen, device=device)\n",
    "test_accuracy = accuracy(best_lstm_model, test_gen, device=device)\n",
    "\n",
    "print(f'LSTM Accuracy of the training set: {train_accuracy}')\n",
    "print(f'LSTM Accuracy of the validation set: {valid_accuracy}')\n",
    "print(f'LSTM Accuracy of the test set: {test_accuracy}')"
   ]
  },
  {
   "cell_type": "markdown",
   "source": [
    "* **\\[1 point\\]** Implement a function which takes any text and returns the model's prediction.\n",
    "\n",
    "The function should have a string as input and return a class (0 or 1) and its confidence (between 0 and 1)."
   ],
   "metadata": {
    "collapsed": false
   }
  },
  {
   "cell_type": "code",
   "execution_count": 53,
   "id": "a6a80573",
   "metadata": {
    "ExecuteTime": {
     "end_time": "2023-05-18T20:00:10.232775768Z",
     "start_time": "2023-05-18T20:00:10.174145316Z"
    }
   },
   "outputs": [],
   "source": [
    "def predict(text: str, model: nn.Module, vocab: Vocab, device: str = \"cpu\") -> Tuple[int, float]:\n",
    "    \"\"\"\n",
    "    Predict the class of a text string.\n",
    "    Args:\n",
    "        text: a text string.\n",
    "        model: a PyTorch model.\n",
    "        vocab: a torchtext.vocab.Vocab object.\n",
    "        device: a string (\"cpu\" or \"cuda\").\n",
    "    Returns:\n",
    "        The predicted class (0 or 1) and its confidence (a float between 0 and 1).\n",
    "    \"\"\"\n",
    "    model.to(device)\n",
    "    model.eval()\n",
    "\n",
    "    tokenized_text = tokenizer(text)\n",
    "    numericalized_text = [vocab[token] for token in tokenized_text]\n",
    "    tensor_text = torch.LongTensor(numericalized_text).unsqueeze(0).to(device)\n",
    "\n",
    "    with torch.no_grad():\n",
    "        output = model(tensor_text)\n",
    "        output_prob = torch.sigmoid(output).item()\n",
    "        predicted_class = 1 if output_prob > 0.5 else 0\n",
    "        return predicted_class, output_prob"
   ]
  },
  {
   "cell_type": "code",
   "execution_count": 54,
   "id": "32c1dde1",
   "metadata": {
    "ExecuteTime": {
     "end_time": "2023-05-18T20:00:11.080768793Z",
     "start_time": "2023-05-18T20:00:11.028902349Z"
    }
   },
   "outputs": [
    {
     "data": {
      "text/plain": "(1, 0.540716826915741)"
     },
     "execution_count": 54,
     "metadata": {},
     "output_type": "execute_result"
    }
   ],
   "source": [
    "predict(test_df['text'][0], best_lstm_model, vocabulary)"
   ]
  },
  {
   "cell_type": "markdown",
   "source": [
    "* **\\[Bonus\\]** Create a bidirectional LSTM (BiLSTM) class to classify your sentences. Report the accuracy on the training and test data.\n",
    "\n",
    "Beware of the behaviour of the output layer.** For a bidirectional LSTM, the output layer concatenates the forward and backward vector of each token. But we need to use the forward output of the last token, and the backward output of the first token, as input to our output layer."
   ],
   "metadata": {
    "collapsed": false
   }
  },
  {
   "cell_type": "code",
   "execution_count": 60,
   "outputs": [],
   "source": [
    "epoch_bilstm = 3"
   ],
   "metadata": {
    "collapsed": false,
    "ExecuteTime": {
     "end_time": "2023-05-18T20:20:10.834771686Z",
     "start_time": "2023-05-18T20:20:10.791239067Z"
    }
   }
  },
  {
   "cell_type": "code",
   "execution_count": 61,
   "id": "1ee95c8e",
   "metadata": {
    "ExecuteTime": {
     "end_time": "2023-05-18T20:20:11.251336097Z",
     "start_time": "2023-05-18T20:20:11.241452929Z"
    }
   },
   "outputs": [],
   "source": [
    "class BiLSTM(nn.Module):\n",
    "    def __init__(self, vocabulary_size: int, embedding_size: int, hidden_size: int, output_size: int = 1):\n",
    "        super().__init__()\n",
    "        self.embedding = nn.Embedding(vocabulary_size, embedding_size)\n",
    "        self.lstm = nn.LSTM(embedding_size, hidden_size, batch_first=True, bidirectional=True)\n",
    "        self.fc = nn.Linear(2 * hidden_size, output_size)\n",
    "\n",
    "    def forward(self, x):\n",
    "        x = self.embedding(x)\n",
    "        _, (hidden, _) = self.lstm(x)\n",
    "        forward_hidden = hidden[-2,:,:]\n",
    "        backward_hidden = hidden[-1,:,:]\n",
    "        hidden = torch.cat((forward_hidden, backward_hidden), dim=1)\n",
    "        output = self.fc(hidden)\n",
    "        return output"
   ]
  },
  {
   "cell_type": "code",
   "execution_count": 62,
   "outputs": [],
   "source": [
    "bilstm_model = BiLSTM(len(vocabulary), 32, 64, 1).to(device)\n",
    "bilstm_criterion = nn.BCEWithLogitsLoss()\n",
    "bilstm_optimizer = torch.optim.Adam(model.parameters())"
   ],
   "metadata": {
    "collapsed": false,
    "ExecuteTime": {
     "end_time": "2023-05-18T20:20:11.947839102Z",
     "start_time": "2023-05-18T20:20:11.918954391Z"
    }
   }
  },
  {
   "cell_type": "code",
   "execution_count": 63,
   "outputs": [
    {
     "data": {
      "text/plain": "  0%|          | 0/3 [00:00<?, ?it/s]",
      "application/vnd.jupyter.widget-view+json": {
       "version_major": 2,
       "version_minor": 0,
       "model_id": "b46980cfd3824426a5fb8531a51d6710"
      }
     },
     "metadata": {},
     "output_type": "display_data"
    },
    {
     "name": "stdout",
     "output_type": "stream",
     "text": [
      "[1/3] train loss: 0.693 - valid loss: 0.693\n",
      "[2/3] train loss: 0.693 - valid loss: 0.693\n",
      "[3/3] train loss: 0.693 - valid loss: 0.693\n"
     ]
    }
   ],
   "source": [
    "bilstm_model, bilstm_lstm_losses, valid_bilstm_losses = train(bilstm_model, bilstm_criterion,\n",
    "                                                              bilstm_optimizer, epoch_bilstm, train_gen, valid_gen)"
   ],
   "metadata": {
    "collapsed": false,
    "ExecuteTime": {
     "end_time": "2023-05-18T20:20:29.510759104Z",
     "start_time": "2023-05-18T20:20:12.507507309Z"
    }
   }
  },
  {
   "cell_type": "code",
   "execution_count": 64,
   "outputs": [
    {
     "name": "stdout",
     "output_type": "stream",
     "text": [
      "LSTM Accuracy of the training set: 0.5062\n",
      "LSTM Accuracy of the validation set: 0.4972\n",
      "LSTM Accuracy of the test set: 0.50444\n"
     ]
    }
   ],
   "source": [
    "train_accuracy = accuracy(bilstm_model, train_gen, device=device)\n",
    "valid_accuracy = accuracy(bilstm_model, valid_gen, device=device)\n",
    "test_accuracy = accuracy(bilstm_model, test_gen, device=device)\n",
    "\n",
    "print(f'LSTM Accuracy of the training set: {train_accuracy}')\n",
    "print(f'LSTM Accuracy of the validation set: {valid_accuracy}')\n",
    "print(f'LSTM Accuracy of the test set: {test_accuracy}')"
   ],
   "metadata": {
    "collapsed": false,
    "ExecuteTime": {
     "end_time": "2023-05-18T20:20:34.094157Z",
     "start_time": "2023-05-18T20:20:29.513100506Z"
    }
   }
  },
  {
   "cell_type": "markdown",
   "source": [
    "* **\\[1 point\\]** With your best classifier, look at two wrongly classified examples on the test set. Try explaining why the model was wrong."
   ],
   "metadata": {
    "collapsed": false
   }
  },
  {
   "cell_type": "code",
   "execution_count": 58,
   "id": "71755b48",
   "metadata": {
    "ExecuteTime": {
     "end_time": "2023-05-18T20:00:49.969891776Z",
     "start_time": "2023-05-18T20:00:49.907623200Z"
    }
   },
   "outputs": [],
   "source": [
    "model.eval()\n",
    "misclassified_examples = []\n",
    "with torch.no_grad():\n",
    "    for X, y in test_gen():\n",
    "        X, y = X.to(device), y.to(device)\n",
    "\n",
    "        outputs = model(X).to(device)\n",
    "        predictions = torch.round(torch.sigmoid(outputs)).squeeze(1)\n",
    "        misclassified_indices = (predictions != y).nonzero().flatten()\n",
    "        for i in misclassified_indices:\n",
    "            misclassified_examples.append((X[i], y[i], predictions[i]))\n",
    "        if len(misclassified_examples) >= 2:\n",
    "            break"
   ]
  },
  {
   "cell_type": "code",
   "execution_count": 59,
   "id": "03b9a404",
   "metadata": {
    "ExecuteTime": {
     "end_time": "2023-05-18T20:00:51.434944170Z",
     "start_time": "2023-05-18T20:00:51.382112505Z"
    }
   },
   "outputs": [
    {
     "data": {
      "text/plain": "((tensor([  145,   277,     2,   286,  7106,     5,    11,    21,     2,     0,\n            255,  2566,   430,    38,   664,    12,  4153,     2,  1501,   430,\n              2,   138,    14,     3,   109,  1993,   430,    72,     7,     3,\n           5737,     8,     2,  3353,    42,    33,     0,   410,   631,   623,\n              4,   145,     0, 21573, 25034,   175,   375,   430,     2,    20,\n              7,    42,     3,   198,   369,  1531,     8,     0,  1371,   422,\n              8, 26408,   623,   145, 15528, 21573, 25034,    98,     2,    20,\n              0,  2556,   430,     2,   369,    39,    33,  4841,     4,     0,\n              0,  1161,   143,     4,     7,  4184,    30,     3, 12363,  1765,\n              5,  4153,   430,     2,  2078,   571,     3,   601,     5,  4153,\n             10, 15528, 21573, 25034,   559,  2328,   623,     4,  3712,    74,\n              3,  1093,    16,     2, 20424,   430,     3,   432,   601,     5,\n              0,   906,    75,   650,   623,     4,     2,   464,   567,   825,\n            281,   341,   298,     3, 30064,     0,   430,    11,    20,     7,\n             26,  3211,     6,   481,  4153,    43,  4153,     0,     0,   430,\n           1993,   623,    19,   547,   255,   430,   773,    45,     5,   406,\n            509,   430,     1,     1,     1,     1,     1,     1,     1,     1,\n              1,     1,     1,     1,     1,     1,     1,     1,     1,     1,\n              1,     1,     1,     1,     1,     1,     1,     1,     1,     1,\n              1,     1,     1,     1,     1,     1,     1,     1,     1,     1,\n              1,     1,     1,     1,     1,     1,     1,     1,     1,     1,\n              1,     1,     1,     1,     1,     1,     1,     1,     1,     1,\n              1,     1,     1,     1,     1,     1,     1,     1,     1,     1,\n              1,     1,     1,     1,     1,     1,     1,     1,     1,     1,\n              1,     1,     1,     1,     1,     1,     1,     1,     1,     1,\n              1,     1,     1,     1,     1,     1,     1,     1,     1,     1,\n              1,     1,     1,     1,     1,     1,     1,     1,     1,     1,\n              1,     1,     1,     1,     1,     1,     1,     1,     1,     1,\n              1,     1,     1,     1,     1,     1,     1,     1,     1,     1,\n              1,     1,     1,     1,     1,     1,     1,     1,     1,     1,\n              1,     1,     1,     1,     1,     1,     1,     1,     1,     1,\n              1,     1,     1,     1,     1,     1,     1,     1,     1,     1,\n              1,     1,     1,     1,     1,     1,     1,     1,     1,     1,\n              1,     1,     1,     1,     1,     1,     1,     1,     1,     1,\n              1,     1,     1,     1,     1,     1,     1,     1,     1,     1,\n              1,     1,     1,     1,     1,     1,     1,     1,     1,     1,\n              1,     1,     1,     1,     1,     1,     1,     1,     1,     1,\n              1,     1,     1,     1,     1,     1,     1,     1,     1,     1,\n              1,     1,     1,     1,     1,     1,     1,     1,     1,     1,\n              1,     1,     1,     1,     1,     1,     1,     1,     1,     1,\n              1,     1,     1,     1,     1,     1,     1,     1,     1,     1,\n              1,     1,     1,     1,     1,     1,     1,     1,     1,     1,\n              1,     1,     1,     1,     1,     1,     1,     1,     1,     1,\n              1,     1,     1,     1,     1,     1,     1,     1,     1,     1,\n              1,     1,     1,     1,     1,     1,     1,     1,     1,     1,\n              1,     1,     1,     1,     1,     1,     1,     1,     1,     1,\n              1,     1,     1,     1,     1,     1,     1,     1,     1,     1,\n              1,     1,     1,     1,     1,     1,     1,     1,     1,     1,\n              1,     1,     1,     1,     1,     1,     1,     1,     1,     1,\n              1,     1,     1,     1,     1,     1,     1,     1,     1,     1,\n              1,     1,     1,     1,     1,     1,     1,     1,     1,     1,\n              1,     1,     1,     1,     1,     1,     1,     1,     1,     1,\n              1,     1,     1,     1,     1,     1,     1,     1,     1,     1,\n              1,     1,     1,     1,     1,     1,     1,     1,     1,     1,\n              1,     1,     1,     1,     1,     1,     1,     1,     1,     1,\n              1,     1,     1,     1,     1,     1,     1,     1,     1,     1,\n              1,     1,     1,     1,     1,     1,     1,     1,     1,     1,\n              1,     1,     1,     1,     1,     1,     1,     1,     1,     1,\n              1,     1,     1,     1,     1,     1,     1,     1,     1,     1,\n              1,     1,     1,     1,     1,     1,     1,     1,     1,     1,\n              1,     1,     1,     1,     1,     1,     1,     1,     1,     1,\n              1,     1,     1,     1,     1,     1,     1,     1,     1,     1,\n              1,     1,     1,     1,     1,     1,     1,     1,     1,     1,\n              1,     1,     1,     1,     1,     1,     1,     1,     1,     1,\n              1,     1,     1,     1,     1,     1,     1,     1,     1,     1,\n              1,     1,     1,     1,     1,     1,     1,     1,     1,     1,\n              1,     1,     1,     1,     1,     1,     1,     1,     1,     1,\n              1,     1,     1,     1,     1,     1,     1,     1,     1,     1,\n              1,     1,     1,     1,     1,     1,     1,     1,     1,     1,\n              1,     1,     1,     1,     1,     1,     1,     1,     1,     1,\n              1,     1,     1,     1,     1,     1,     1,     1,     1,     1,\n              1,     1,     1,     1,     1,     1,     1,     1,     1,     1,\n              1,     1,     1,     1,     1,     1,     1,     1,     1,     1,\n              1,     1,     1,     1,     1,     1,     1,     1,     1,     1,\n              1,     1,     1,     1,     1,     1,     1,     1,     1,     1,\n              1,     1,     1,     1,     1,     1,     1,     1,     1,     1,\n              1,     1,     1,     1,     1,     1,     1,     1,     1,     1,\n              1,     1,     1,     1,     1,     1,     1,     1,     1,     1,\n              1,     1,     1,     1,     1,     1,     1,     1,     1,     1,\n              1,     1,     1,     1,     1,     1,     1,     1],\n         device='cuda:0'),\n  tensor(0, device='cuda:0'),\n  tensor(1., device='cuda:0')),\n (tensor([   11,     7,    60,    99,   623,     2,   127,    65,  2665,   623,\n              2,    78,    14,   542,   623,     4,    72,     7,    68,   479,\n            154,   430, 31364,   623,    12,  1403,   684,   623,     2,  2284,\n              7,  3947,  4503,    12,     6,    27,   524,   739,  3624,   430,\n            188,   644,     8,    11,    24,   623,    28,    50,   540,     3,\n            479,   154,   623,    19,    38,    40,    25,     3,  5183,   430,\n              2,   138,  2927,   203,   307,   127,   623,     3,   187,   623,\n             23,   392,   623,     4,     3,  4598,    10,    38,  1388,    62,\n             34,     2,   373,   112,   430,     2,   369,  8471,     2,  4598,\n              6,   834,    16,   115,   623,    79,    29,     7,  3686,   430,\n             31,    11,   259,    28,    50,   540,     2,  4598,     6,    25,\n            479,    16,     2,   392,   252,  1868,    68,    38,    40,  5183,\n              4,  1834,    12,   430,    87,   623,    11,    24,  1369,    68,\n            255,   623,    68,   304,   623,    68,   684,   623,     4,    26,\n             61,  1325,   430,   158,    28,    98,    10,   422,     2,  1468,\n            125,    26,    61,   321,    11,   279,   555,   555,   555,   555,\n              1,     1,     1,     1,     1,     1,     1,     1,     1,     1,\n              1,     1,     1,     1,     1,     1,     1,     1,     1,     1,\n              1,     1,     1,     1,     1,     1,     1,     1,     1,     1,\n              1,     1,     1,     1,     1,     1,     1,     1,     1,     1,\n              1,     1,     1,     1,     1,     1,     1,     1,     1,     1,\n              1,     1,     1,     1,     1,     1,     1,     1,     1,     1,\n              1,     1,     1,     1,     1,     1,     1,     1,     1,     1,\n              1,     1,     1,     1,     1,     1,     1,     1,     1,     1,\n              1,     1,     1,     1,     1,     1,     1,     1,     1,     1,\n              1,     1,     1,     1,     1,     1,     1,     1,     1,     1,\n              1,     1,     1,     1,     1,     1,     1,     1,     1,     1,\n              1,     1,     1,     1,     1,     1,     1,     1,     1,     1,\n              1,     1,     1,     1,     1,     1,     1,     1,     1,     1,\n              1,     1,     1,     1,     1,     1,     1,     1,     1,     1,\n              1,     1,     1,     1,     1,     1,     1,     1,     1,     1,\n              1,     1,     1,     1,     1,     1,     1,     1,     1,     1,\n              1,     1,     1,     1,     1,     1,     1,     1,     1,     1,\n              1,     1,     1,     1,     1,     1,     1,     1,     1,     1,\n              1,     1,     1,     1,     1,     1,     1,     1,     1,     1,\n              1,     1,     1,     1,     1,     1,     1,     1,     1,     1,\n              1,     1,     1,     1,     1,     1,     1,     1,     1,     1,\n              1,     1,     1,     1,     1,     1,     1,     1,     1,     1,\n              1,     1,     1,     1,     1,     1,     1,     1,     1,     1,\n              1,     1,     1,     1,     1,     1,     1,     1,     1,     1,\n              1,     1,     1,     1,     1,     1,     1,     1,     1,     1,\n              1,     1,     1,     1,     1,     1,     1,     1,     1,     1,\n              1,     1,     1,     1,     1,     1,     1,     1,     1,     1,\n              1,     1,     1,     1,     1,     1,     1,     1,     1,     1,\n              1,     1,     1,     1,     1,     1,     1,     1,     1,     1,\n              1,     1,     1,     1,     1,     1,     1,     1,     1,     1,\n              1,     1,     1,     1,     1,     1,     1,     1,     1,     1,\n              1,     1,     1,     1,     1,     1,     1,     1,     1,     1,\n              1,     1,     1,     1,     1,     1,     1,     1,     1,     1,\n              1,     1,     1,     1,     1,     1,     1,     1,     1,     1,\n              1,     1,     1,     1,     1,     1,     1,     1,     1,     1,\n              1,     1,     1,     1,     1,     1,     1,     1,     1,     1,\n              1,     1,     1,     1,     1,     1,     1,     1,     1,     1,\n              1,     1,     1,     1,     1,     1,     1,     1,     1,     1,\n              1,     1,     1,     1,     1,     1,     1,     1,     1,     1,\n              1,     1,     1,     1,     1,     1,     1,     1,     1,     1,\n              1,     1,     1,     1,     1,     1,     1,     1,     1,     1,\n              1,     1,     1,     1,     1,     1,     1,     1,     1,     1,\n              1,     1,     1,     1,     1,     1,     1,     1,     1,     1,\n              1,     1,     1,     1,     1,     1,     1,     1,     1,     1,\n              1,     1,     1,     1,     1,     1,     1,     1,     1,     1,\n              1,     1,     1,     1,     1,     1,     1,     1,     1,     1,\n              1,     1,     1,     1,     1,     1,     1,     1,     1,     1,\n              1,     1,     1,     1,     1,     1,     1,     1,     1,     1,\n              1,     1,     1,     1,     1,     1,     1,     1,     1,     1,\n              1,     1,     1,     1,     1,     1,     1,     1,     1,     1,\n              1,     1,     1,     1,     1,     1,     1,     1,     1,     1,\n              1,     1,     1,     1,     1,     1,     1,     1,     1,     1,\n              1,     1,     1,     1,     1,     1,     1,     1,     1,     1,\n              1,     1,     1,     1,     1,     1,     1,     1,     1,     1,\n              1,     1,     1,     1,     1,     1,     1,     1,     1,     1,\n              1,     1,     1,     1,     1,     1,     1,     1,     1,     1,\n              1,     1,     1,     1,     1,     1,     1,     1,     1,     1,\n              1,     1,     1,     1,     1,     1,     1,     1,     1,     1,\n              1,     1,     1,     1,     1,     1,     1,     1,     1,     1,\n              1,     1,     1,     1,     1,     1,     1,     1,     1,     1,\n              1,     1,     1,     1,     1,     1,     1,     1,     1,     1,\n              1,     1,     1,     1,     1,     1,     1,     1,     1,     1,\n              1,     1,     1,     1,     1,     1,     1,     1,     1,     1,\n              1,     1,     1,     1,     1,     1,     1,     1],\n         device='cuda:0'),\n  tensor(0, device='cuda:0'),\n  tensor(1., device='cuda:0')))"
     },
     "execution_count": 59,
     "metadata": {},
     "output_type": "execute_result"
    }
   ],
   "source": [
    "misclassified_examples[0], misclassified_examples[1]"
   ]
  },
  {
   "cell_type": "markdown",
   "source": [
    "* **\\[Bonus\\]** Try finding better hyperparameters (dimensions, number of layers, ...). Document your experiments and results."
   ],
   "metadata": {
    "collapsed": false
   }
  },
  {
   "cell_type": "code",
   "execution_count": null,
   "outputs": [],
   "source": [],
   "metadata": {
    "collapsed": false
   }
  }
 ],
 "metadata": {
  "kernelspec": {
   "display_name": "Python 3 (ipykernel)",
   "language": "python",
   "name": "python3"
  },
  "language_info": {
   "codemirror_mode": {
    "name": "ipython",
    "version": 3
   },
   "file_extension": ".py",
   "mimetype": "text/x-python",
   "name": "python",
   "nbconvert_exporter": "python",
   "pygments_lexer": "ipython3",
   "version": "3.9.12"
  }
 },
 "nbformat": 4,
 "nbformat_minor": 5
}
