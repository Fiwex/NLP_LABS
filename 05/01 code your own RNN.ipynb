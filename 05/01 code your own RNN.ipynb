{
 "cells": [
  {
   "cell_type": "markdown",
   "id": "780cf295-7141-43e8-b8b8-199b14071e2a",
   "metadata": {},
   "source": [
    "# Coding your own RNN\n",
    "\n",
    "Using this pre-filled notebook, we will code our own RNN for sentence classification. For now, we'll keep using IMDB, as the goal of this part is to understand how an RNN works.\n",
    "\n",
    "Unlike our previous lab, we will also learn the embedding layer. Which means we need to deal with vocabulary by ourselves."
   ]
  },
  {
   "cell_type": "code",
   "execution_count": 1,
   "id": "f26c411e-1cd5-4a1c-9b3d-de16e26db901",
   "metadata": {
    "ExecuteTime": {
     "end_time": "2023-05-26T08:28:04.871825369Z",
     "start_time": "2023-05-26T08:28:02.556556038Z"
    }
   },
   "outputs": [],
   "source": [
    "from functools import partial\n",
    "from typing import Callable, Dict, Generator, List, Tuple, Any\n",
    "from collections import Counter, OrderedDict\n",
    "from matplotlib import pyplot as plt\n",
    "\n",
    "from datasets import load_dataset\n",
    "import numpy as np\n",
    "from sklearn.utils import shuffle\n",
    "import torch\n",
    "from torch import nn\n",
    "from torchtext.vocab import vocab, Vocab\n",
    "from torchtext.data.utils import get_tokenizer\n",
    "\n",
    "from tqdm.auto import tqdm"
   ]
  },
  {
   "cell_type": "markdown",
   "id": "ec040734-ff61-4c85-982c-acb2a5bd6d8c",
   "metadata": {},
   "source": [
    "## Dataset\n",
    "We load the dataset and split the training set in a stratified train/validation set."
   ]
  },
  {
   "cell_type": "code",
   "execution_count": 2,
   "id": "42b598f9-36b5-43e3-bb25-488b0fb53aac",
   "metadata": {
    "ExecuteTime": {
     "end_time": "2023-05-26T08:28:05.991139379Z",
     "start_time": "2023-05-26T08:28:04.872963365Z"
    }
   },
   "outputs": [
    {
     "name": "stderr",
     "output_type": "stream",
     "text": [
      "Found cached dataset imdb (/home/adrien/.cache/huggingface/datasets/imdb/plain_text/1.0.0/d613c88cf8fa3bab83b4ded3713f1f74830d1100e171db75bbddb80b3345c9c0)\n"
     ]
    },
    {
     "data": {
      "text/plain": "  0%|          | 0/3 [00:00<?, ?it/s]",
      "application/vnd.jupyter.widget-view+json": {
       "version_major": 2,
       "version_minor": 0,
       "model_id": "c195e809068044d08523945802f556c8"
      }
     },
     "metadata": {},
     "output_type": "display_data"
    },
    {
     "name": "stderr",
     "output_type": "stream",
     "text": [
      "Loading cached split indices for dataset at /home/adrien/.cache/huggingface/datasets/imdb/plain_text/1.0.0/d613c88cf8fa3bab83b4ded3713f1f74830d1100e171db75bbddb80b3345c9c0/cache-5f37fd0866e4f89f.arrow and /home/adrien/.cache/huggingface/datasets/imdb/plain_text/1.0.0/d613c88cf8fa3bab83b4ded3713f1f74830d1100e171db75bbddb80b3345c9c0/cache-dd5732a0e6ac784c.arrow\n"
     ]
    },
    {
     "data": {
      "text/plain": "((20000, 2), (5000, 2), (25000, 2))"
     },
     "execution_count": 2,
     "metadata": {},
     "output_type": "execute_result"
    }
   ],
   "source": [
    "    dataset = load_dataset(\"imdb\")\n",
    "train_dataset = dataset[\"train\"].train_test_split(\n",
    "    stratify_by_column=\"label\", test_size=0.2, seed=42\n",
    ")\n",
    "test_df = dataset[\"test\"]\n",
    "train_df = train_dataset[\"train\"]\n",
    "valid_df = train_dataset[\"test\"]\n",
    "train_df.shape, valid_df.shape, test_df.shape"
   ]
  },
  {
   "cell_type": "markdown",
   "id": "f309e444-d52d-4f87-8d18-7bb470b7cfcd",
   "metadata": {},
   "source": [
    "## Vocabulary (1 point)\n",
    "\n",
    "**\\[1 point\\]** Build your own vocabulary. The [example provided in torchtext documentation](https://pytorch.org/text/stable/vocab.html#id1) might be of help.\n",
    "* Don't forge to setup the `min_freq` parameter to not include unfrequent noise.\n",
    "* You will need a tokenizer. Reuse the `basic_english` one from the our previous lab.\n",
    "* For an RNN we need two special tokens: `<unk>`, for unknown words, and `<pad>` for padding."
   ]
  },
  {
   "cell_type": "code",
   "execution_count": 3,
   "id": "5506b03b",
   "metadata": {
    "ExecuteTime": {
     "end_time": "2023-05-26T08:28:07.817588573Z",
     "start_time": "2023-05-26T08:28:05.986852643Z"
    }
   },
   "outputs": [
    {
     "data": {
      "text/plain": "26973"
     },
     "execution_count": 3,
     "metadata": {},
     "output_type": "execute_result"
    }
   ],
   "source": [
    "tokenizer = get_tokenizer(\"basic_english\", language=\"en\")\n",
    "counter = Counter([word for row in train_df[\"text\"] for word in tokenizer(row)])\n",
    "# counter = Counter([word for row in train_df[\"text\"] for word in row.split()])\n",
    "sorted_items = sorted(counter.items(), key=lambda item: item[1], reverse=True)\n",
    "ordered = OrderedDict(sorted_items)\n",
    "vocabulary = vocab(ordered, min_freq=5, specials=[\"<unk>\", \"<pad>\"])\n",
    "vocabulary.set_default_index(vocabulary[\"<unk>\"])\n",
    "len(vocabulary)"
   ]
  },
  {
   "cell_type": "markdown",
   "id": "89386d66-f758-4d87-b786-9d570eb22f2f",
   "metadata": {},
   "source": [
    "## Vectorize and batch the input (3 points)\n",
    "\n",
    "As seen in class, our model should take one-hot encoded vectors corresponding to the each token vocabulary id. However, computing a vector x matrix multiplication for every input is unnecessarily costly. Multiplying a one-hot vector with a matrix is the equivalent of taking one row of the matrix. In pyTorch, we provide ids for each token which will be used as input to an `nn.Embedding` layer. The id is simply the row in the embedding matrix.\n",
    "\n",
    "**\\[1 point\\]** Fill the `vectorize_text` function returning a 1D torch tensor of `torch.long` for each input text."
   ]
  },
  {
   "cell_type": "code",
   "execution_count": 4,
   "id": "3f6fc4eb-2f25-43ee-8b2f-a9154545ebc6",
   "metadata": {
    "ExecuteTime": {
     "end_time": "2023-05-26T08:28:07.820197350Z",
     "start_time": "2023-05-26T08:28:07.818318854Z"
    }
   },
   "outputs": [],
   "source": [
    "def vectorize_text(\n",
    "    text: str, vocabulary: Vocab, tokenizer: Callable[[str], List[str]]\n",
    ") -> torch.Tensor:\n",
    "    \"\"\"\n",
    "    Generate a tensor of vocabluary IDs for a given text.\n",
    "    Args:\n",
    "        text: the input text.\n",
    "        vocabulary: a Vocab objects.\n",
    "        tokenizer: a text tokenizer.\n",
    "    Returns:\n",
    "        A tensor of IDs (torch.long).\n",
    "    \"\"\"\n",
    "    return torch.tensor([vocabulary[token] for token in tokenizer(text)], dtype=torch.long)"
   ]
  },
  {
   "cell_type": "code",
   "execution_count": 5,
   "id": "2a4a9058-ad04-43b9-bf5c-680afb44e35c",
   "metadata": {
    "ExecuteTime": {
     "end_time": "2023-05-26T08:28:07.834063818Z",
     "start_time": "2023-05-26T08:28:07.822198988Z"
    }
   },
   "outputs": [],
   "source": [
    "text_pipeline = partial(vectorize_text, vocabulary=vocabulary, tokenizer=tokenizer)"
   ]
  },
  {
   "cell_type": "markdown",
   "id": "9717208d-2f50-4d16-b170-904beeeb71ad",
   "metadata": {},
   "source": [
    "Check the function is working correctly, especially it should return the right special id for unknown words."
   ]
  },
  {
   "cell_type": "code",
   "execution_count": 6,
   "id": "9727204a-ecff-4e4d-a316-543865d52a31",
   "metadata": {
    "ExecuteTime": {
     "end_time": "2023-05-26T08:28:07.883625648Z",
     "start_time": "2023-05-26T08:28:07.836225226Z"
    }
   },
   "outputs": [
    {
     "data": {
      "text/plain": "tensor([  56, 3160,   13,  244,  526,   50,    3,    3,    3,    0])"
     },
     "execution_count": 6,
     "metadata": {},
     "output_type": "execute_result"
    }
   ],
   "source": [
    "text_pipeline(\"Some text I am thinking about... ragafqfa\")"
   ]
  },
  {
   "cell_type": "code",
   "execution_count": 7,
   "id": "97eb948c-cfae-47b1-b8ce-bafa358afe65",
   "metadata": {
    "ExecuteTime": {
     "end_time": "2023-05-26T08:28:15.899379966Z",
     "start_time": "2023-05-26T08:28:07.882795039Z"
    }
   },
   "outputs": [
    {
     "data": {
      "text/plain": "  0%|          | 0/20000 [00:00<?, ?it/s]",
      "application/vnd.jupyter.widget-view+json": {
       "version_major": 2,
       "version_minor": 0,
       "model_id": "e89b43c5ec53449e884e97afee1f36bf"
      }
     },
     "metadata": {},
     "output_type": "display_data"
    },
    {
     "data": {
      "text/plain": "  0%|          | 0/5000 [00:00<?, ?it/s]",
      "application/vnd.jupyter.widget-view+json": {
       "version_major": 2,
       "version_minor": 0,
       "model_id": "93300cd4137340f8a37852ffc996356a"
      }
     },
     "metadata": {},
     "output_type": "display_data"
    },
    {
     "data": {
      "text/plain": "  0%|          | 0/25000 [00:00<?, ?it/s]",
      "application/vnd.jupyter.widget-view+json": {
       "version_major": 2,
       "version_minor": 0,
       "model_id": "5bd3bd0df30d49b0b31d7500ff113d37"
      }
     },
     "metadata": {},
     "output_type": "display_data"
    }
   ],
   "source": [
    "X_train = [text_pipeline(text) for text in tqdm(train_df[\"text\"])]\n",
    "y_train = train_df[\"label\"]\n",
    "X_valid = [text_pipeline(text) for text in tqdm(valid_df[\"text\"])]\n",
    "y_valid = valid_df[\"label\"]\n",
    "X_test = [text_pipeline(text) for text in tqdm(test_df[\"text\"])]\n",
    "y_test = test_df[\"label\"]"
   ]
  },
  {
   "cell_type": "markdown",
   "id": "67138763-f848-4dd7-9036-68df352d22a0",
   "metadata": {},
   "source": [
    "To speed up the training process, we turn the inputs into batches, as we did last time. For batches to work, every line must have the same lengths. Last time, it was implicit as only a vector (the average of all embeddings) was provided. This time, every line has the length of a different review.\n",
    "\n",
    "To go around this problem, we use padding. So every line within a batch is padded to the length of its longest element.\n",
    "\n",
    "* **\\[1 point\\]** Fill the data generator function.\n"
   ]
  },
  {
   "cell_type": "code",
   "execution_count": 8,
   "id": "a88dd162-8107-4f05-bc8a-2fd313a3b8da",
   "metadata": {},
   "outputs": [],
   "source": [
    "def data_generator(\n",
    "    X: List[torch.tensor], y: List[int], pad_id: int, batch_size: int = 32\n",
    ") -> Generator[Tuple[torch.Tensor, torch.Tensor], None, None]:\n",
    "    \"\"\"\n",
    "    Yield batches from given input data and labels.\n",
    "    Args:\n",
    "        X: a list of tensor (input features).\n",
    "        y: the corresponding labels.\n",
    "        batch_size: the size of every batch [32].\n",
    "    Returns:\n",
    "        A tuple of tensors (features, labels).\n",
    "        :param batch_size: given batch size\n",
    "        :param X: Tensor of data\n",
    "        :param y: List of labels\n",
    "        :param pad_id: The vectorized padding token\n",
    "    \"\"\"\n",
    "    X, y = shuffle(X, y)\n",
    "    for i in range(0, len(X), batch_size):\n",
    "        batch_X = X[i : i + batch_size]\n",
    "        batch_y = y[i : i + batch_size]\n",
    "        max_len = max([len(x) for x in batch_X])\n",
    "        batch_X = torch.stack(\n",
    "            [torch.nn.functional.pad(x, (max_len - len(x), 0), value=pad_id) for x in batch_X]\n",
    "        )\n",
    "        yield batch_X, torch.tensor(batch_y, dtype=torch.long)"
   ]
  },
  {
   "cell_type": "code",
   "execution_count": 9,
   "id": "c2e10342-4d6b-45c4-8e05-68ef6375b977",
   "metadata": {},
   "outputs": [],
   "source": [
    "train_gen = lambda: data_generator(X_train, y_train, vocabulary[\"<pad>\"])\n",
    "valid_gen = lambda: data_generator(X_valid, y_valid, vocabulary[\"<pad>\"])\n",
    "test_gen = lambda: data_generator(X_test, y_test, vocabulary[\"<pad>\"])"
   ]
  },
  {
   "cell_type": "markdown",
   "id": "0fc75f9e",
   "metadata": {},
   "source": [
    "* **\\[1 point\\]** On which side should you pad and why?\n",
    "\n",
    "Le modèle traite nos vecteurs de gauche à droite. Si le padding est au début de la séquence, le modèle passe ses premières étapes sur les éléments de padding moins significatifs. En revanche, si le padding est à la fin, le modèle traitera d'abord les parties significatives de la séquence."
   ]
  },
  {
   "cell_type": "markdown",
   "id": "4489d625-f1ad-49ea-8b54-74463e04877f",
   "metadata": {
    "tags": []
   },
   "source": [
    "## Classifier (3 points)\n",
    "\n",
    "**\\[3 points\\]** Code your own RNN. Fill the `RNN` class correctly. Remember an RNN has 3 matrices and an embedding layer (see course slide 61).\n",
    "* The embedding layer turns a one-hot vectors into dense vectors.\n",
    "* The first matrix (W) connects the embedding to the hidden layer.\n",
    "  * `embedding_size -> hidden_size`\n",
    "* The second matrix (U) connect the previous hidden layer to the current one.\n",
    "  * `hidden_size -> hidden_size`\n",
    "* These to vectors are added and go through an activation function (e.g. $h_t = tanh(Wx_i+Uh_{t-1})$).\n",
    "* The last matrix (V) connects the hidden layer to the hidden layer to the output.\n",
    "  * `hidden_size -> 1`\n",
    "* Donc forget to add an `init_hidden` function which initialize the first hidden layer to 0."
   ]
  },
  {
   "cell_type": "code",
   "execution_count": 10,
   "id": "4b82a424",
   "metadata": {},
   "outputs": [],
   "source": [
    "class RNN(nn.Module):\n",
    "    def __init__(\n",
    "        self,\n",
    "        vocabulary_size: int,\n",
    "        embedding_size: int,\n",
    "        hidden_size: int,\n",
    "        output_size: int=1,\n",
    "    ):\n",
    "        super().__init__()\n",
    "        self.embedding = nn.Embedding(vocabulary_size, embedding_size)\n",
    "        self.W = nn.Linear(embedding_size, hidden_size)\n",
    "        self.U = nn.Linear(hidden_size, hidden_size)\n",
    "        self.V = nn.Linear(hidden_size, output_size)\n",
    "        self.activation = nn.Tanh()\n",
    "        self.softmax = nn.Softmax(dim=1)\n",
    "\n",
    "    def init_hidden(self, batch_size: int) -> torch.Tensor:\n",
    "        return torch.zeros(batch_size, self.U.in_features)\n",
    "\n",
    "    def forward(self, x: torch.Tensor, hidden: torch.Tensor) -> Tuple[torch.Tensor, torch.Tensor]:\n",
    "        x = self.embedding(x)\n",
    "        x = self.W(x)\n",
    "        new_hidden = self.activation(x + self.U(hidden))\n",
    "        x = self.V(new_hidden)\n",
    "        return x, new_hidden"
   ]
  },
  {
   "cell_type": "markdown",
   "id": "4c665df6-ff9a-4b66-80fe-8abe62d895c9",
   "metadata": {},
   "source": [
    "## Training (2 points)\n",
    "\n",
    "Training is a bit different than usual. We will need to sequentially (but in \"batch parallel\") go through an input, keeping track of the hidden layer, and use the last output as prediction.\n",
    "\n",
    "**\\[2 point\\]** Code the training loop.\n",
    "* Note that for each batch, you need to loop through the whole input and use the output of the last token as input to your criterion.\n",
    "* Keep the best model evaluated on the validation set.\n",
    "* Plot the training and validation losses.\n",
    "* Training will take some time (~30 min on a T4 GPU). Make sure your results appear in the notebook."
   ]
  },
  {
   "cell_type": "code",
   "execution_count": 11,
   "id": "0e9053b8-19f3-45b4-a434-2f8cef8a1f64",
   "metadata": {
    "ExecuteTime": {
     "end_time": "2023-05-26T08:28:17.195566825Z",
     "start_time": "2023-05-26T08:28:15.975187600Z"
    }
   },
   "outputs": [
    {
     "data": {
      "text/plain": "'cuda:0'"
     },
     "execution_count": 11,
     "metadata": {},
     "output_type": "execute_result"
    }
   ],
   "source": [
    "device = \"cuda:0\" if torch.cuda.is_available() else \"cpu\"\n",
    "device"
   ]
  },
  {
   "cell_type": "code",
   "execution_count": 12,
   "outputs": [],
   "source": [
    "n_embedding = 32\n",
    "n_hidden = 64\n",
    "model = RNN(len(vocabulary.get_itos()), n_embedding, n_hidden).to(device)\n",
    "criterion = nn.BCEWithLogitsLoss()\n",
    "optimizer = torch.optim.RMSprop(model.parameters(), lr=0.001)\n",
    "n_epochs = 3"
   ],
   "metadata": {
    "collapsed": false,
    "ExecuteTime": {
     "end_time": "2023-05-26T08:28:17.901970515Z",
     "start_time": "2023-05-26T08:28:17.195184617Z"
    }
   }
  },
  {
   "cell_type": "code",
   "execution_count": 13,
   "id": "8a000245",
   "metadata": {
    "ExecuteTime": {
     "end_time": "2023-05-26T08:28:17.939741002Z",
     "start_time": "2023-05-26T08:28:17.906431588Z"
    }
   },
   "outputs": [],
   "source": [
    "def train(\n",
    "    model: nn.Module,\n",
    "    criterion: nn.Module,\n",
    "    optimizer: torch.optim.Optimizer,\n",
    "    train_gen: Generator[Tuple[torch.Tensor, torch.Tensor], None, None],\n",
    "    valid_gen: Generator[Tuple[torch.Tensor, torch.Tensor], None, None],\n",
    "    n_epochs: int,\n",
    "    device: str,\n",
    "):\n",
    "    \"\"\"\n",
    "    Train a model.\n",
    "    Args:\n",
    "        model: a PyTorch Module.\n",
    "        criterion: a PyTorch loss function.\n",
    "        optimizer: a PyTorch optimizer.\n",
    "        train_gen: a generator returning training batches.\n",
    "        valid_gen: a generator returning validation batches.\n",
    "        n_epochs: the number of epochs.\n",
    "        device: the device to run the training on.\n",
    "    Returns:\n",
    "        A tuple of train and validation losses.\n",
    "    \"\"\"\n",
    "    train_losses = []\n",
    "    valid_losses = []\n",
    "    best_valid_loss = np.inf\n",
    "    for epoch in tqdm(range(n_epochs)):\n",
    "        # Training\n",
    "        model.train()\n",
    "        train_loss = 0.0\n",
    "        for X, y in train_gen():\n",
    "            X, y = X.to(device), y.to(device)\n",
    "            optimizer.zero_grad()\n",
    "            hidden = model.init_hidden(len(X)).to(device)\n",
    "\n",
    "            output = None\n",
    "            for i in range(X.size(1)):\n",
    "                output, hidden = model(X[:, i], hidden)\n",
    "\n",
    "            loss = criterion(output, y.unsqueeze(1).float())\n",
    "            loss.backward()\n",
    "\n",
    "            optimizer.step()\n",
    "            train_loss += loss.item()\n",
    "\n",
    "        train_loss /= len(X_train)\n",
    "        train_losses.append(train_loss)\n",
    "\n",
    "        # Validation\n",
    "        model.eval()\n",
    "        valid_loss = 0.0\n",
    "        for X, y in valid_gen():\n",
    "            X, y = X.to(device), y.to(device)\n",
    "\n",
    "            hidden = model.init_hidden(len(X)).to(device)\n",
    "\n",
    "            output = None\n",
    "            for i in range(X.size(1)):\n",
    "                output, hidden = model(X[:, i], hidden)\n",
    "                output = output.to(device)\n",
    "                hidden = hidden.to(device)\n",
    "\n",
    "\n",
    "            loss = criterion(output, y.unsqueeze(1).float())\n",
    "            valid_loss += loss.item()\n",
    "            \n",
    "        valid_loss /= len(X_valid)\n",
    "        valid_losses.append(valid_loss)\n",
    "\n",
    "        if valid_loss < best_valid_loss:\n",
    "            best_valid_loss = valid_loss\n",
    "    return train_losses, valid_losses\n"
   ]
  },
  {
   "cell_type": "code",
   "execution_count": 14,
   "outputs": [
    {
     "data": {
      "text/plain": "  0%|          | 0/3 [00:00<?, ?it/s]",
      "application/vnd.jupyter.widget-view+json": {
       "version_major": 2,
       "version_minor": 0,
       "model_id": "606819a3763c4211ae6ee031d2096d43"
      }
     },
     "metadata": {},
     "output_type": "display_data"
    },
    {
     "data": {
      "text/plain": "<Figure size 640x480 with 1 Axes>",
      "image/png": "[encoded data removed]"
     },
     "metadata": {},
     "output_type": "display_data"
    }
   ],
   "source": [
    "train_losses, valid_losses = train(\n",
    "    model, criterion, optimizer, train_gen, valid_gen, n_epochs, device=device\n",
    ")\n",
    "\n",
    "plt.plot(train_losses, label=\"Training loss\")\n",
    "plt.plot(valid_losses, label=\"Validation loss\")\n",
    "plt.legend()\n",
    "plt.show()"
   ],
   "metadata": {
    "collapsed": false,
    "ExecuteTime": {
     "end_time": "2023-05-26T08:36:39.702560004Z",
     "start_time": "2023-05-26T08:28:17.925427625Z"
    }
   }
  },
  {
   "cell_type": "markdown",
   "id": "137dc500-ece2-4efa-8207-758a5f428c26",
   "metadata": {},
   "source": [
    "## Evaluation (1 point)\n",
    "\n",
    "* **\\[1 point\\]** Compute the accuracy for all 3 splits."
   ]
  },
  {
   "cell_type": "code",
   "execution_count": 15,
   "id": "a4544dfd-7567-4bea-b484-490b6a7b74e4",
   "metadata": {
    "ExecuteTime": {
     "end_time": "2023-05-26T08:36:39.706608613Z",
     "start_time": "2023-05-26T08:36:39.705792912Z"
    }
   },
   "outputs": [],
   "source": [
    "def accuracy(\n",
    "        model: nn.Module,\n",
    "        data_gen: Generator[Tuple[torch.Tensor, torch.Tensor], None, None],\n",
    "        device: str,\n",
    ") -> float:\n",
    "    \"\"\"\n",
    "    Compute the accuracy of a model.\n",
    "    Args:\n",
    "        model: a PyTorch Module.\n",
    "        data_gen: a generator returning batches.\n",
    "        device: the device to run the computation on.\n",
    "    Returns:\n",
    "        The accuracy of the model on the data from the generator.\n",
    "    \"\"\"\n",
    "    model.eval()\n",
    "    correct = 0\n",
    "    total = 0\n",
    "    with torch.no_grad():\n",
    "        for X, y in data_gen():\n",
    "            X, y = X.to(device), y.to(device)\n",
    "            hidden = model.init_hidden(len(X)).to(device)\n",
    "\n",
    "            output = None\n",
    "            for i in range(X.size(1)):\n",
    "                output, hidden = model(X[:, i], hidden)\n",
    "                output = output.to(device)\n",
    "                hidden = hidden.to(device)\n",
    "\n",
    "            predicted = torch.round(torch.sigmoid(output)).squeeze()\n",
    "            total += y.size(0)\n",
    "            correct += (predicted == y).sum().item()\n",
    "    return correct / total"
   ]
  },
  {
   "cell_type": "code",
   "execution_count": 16,
   "id": "3587b227",
   "metadata": {
    "ExecuteTime": {
     "end_time": "2023-05-26T08:39:00.028075511Z",
     "start_time": "2023-05-26T08:36:39.709193545Z"
    }
   },
   "outputs": [
    {
     "name": "stdout",
     "output_type": "stream",
     "text": [
      "Accuracy of the training set: 0.6486\n",
      "Accuracy of the validation set: 0.634\n",
      "Accuracy of the test set: 0.6342\n"
     ]
    }
   ],
   "source": [
    "# Compute the accuracy for all 3 splits.\n",
    "\n",
    "train_accuracy = accuracy(model, train_gen, device=device)\n",
    "valid_accuracy = accuracy(model, valid_gen, device=device)\n",
    "test_accuracy = accuracy(model, test_gen, device=device)\n",
    "\n",
    "print(f'Accuracy of the training set: {train_accuracy}')\n",
    "print(f'Accuracy of the validation set: {valid_accuracy}')\n",
    "print(f'Accuracy of the test set: {test_accuracy}')"
   ]
  },
  {
   "cell_type": "markdown",
   "source": [
    "On remarque les accuracies correspondent à un réseau qui n'apprend rien."
   ],
   "metadata": {
    "collapsed": false
   }
  },
  {
   "cell_type": "code",
   "execution_count": 16,
   "outputs": [],
   "source": [],
   "metadata": {
    "collapsed": false,
    "ExecuteTime": {
     "end_time": "2023-05-26T08:39:00.028552126Z",
     "start_time": "2023-05-26T08:39:00.026484164Z"
    }
   }
  }
 ],
 "metadata": {
  "kernelspec": {
   "display_name": "Python 3 (ipykernel)",
   "language": "python",
   "name": "python3"
  },
  "language_info": {
   "codemirror_mode": {
    "name": "ipython",
    "version": 3
   },
   "file_extension": ".py",
   "mimetype": "text/x-python",
   "name": "python",
   "nbconvert_exporter": "python",
   "pygments_lexer": "ipython3",
   "version": "3.9.12"
  }
 },
 "nbformat": 4,
 "nbformat_minor": 5
}
