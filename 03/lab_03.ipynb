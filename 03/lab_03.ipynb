{
 "cells": [
  {
   "cell_type": "markdown",
   "metadata": {},
   "source": [
    "# NLP - Lab 03\n",
    "## Adrien Giget, Tanguy Malandain, Denis Stojiljkovic"
   ]
  },
  {
   "cell_type": "markdown",
   "metadata": {},
   "source": [
    "## Introduction to Natural Language Processing 01"
   ]
  },
  {
   "cell_type": "markdown",
   "metadata": {},
   "source": [
    "### Imports"
   ]
  },
  {
   "cell_type": "code",
   "execution_count": null,
   "metadata": {
    "ExecuteTime": {
     "end_time": "2023-04-05T10:46:07.841504Z",
     "start_time": "2023-04-05T10:46:07.260632Z"
    }
   },
   "outputs": [],
   "source": [
    "import datasets as ds\n",
    "import numpy as np\n",
    "from typing import Dict, Any, List, Set, Tuple\n",
    "import re\n",
    "\n",
    "import nltk\n",
    "nltk.download('stopwords')\n",
    "\n",
    "from nltk.tokenize import word_tokenize\n",
    "from nltk.corpus import stopwords"
   ]
  },
  {
   "attachments": {},
   "cell_type": "markdown",
   "metadata": {},
   "source": [
    "On charge le dataset."
   ]
  },
  {
   "cell_type": "code",
   "execution_count": null,
   "metadata": {
    "ExecuteTime": {
     "end_time": "2023-04-05T10:46:13.167430Z",
     "start_time": "2023-04-05T10:46:10.500508Z"
    }
   },
   "outputs": [],
   "source": [
    "data = ds.load_dataset(\"imdb\")"
   ]
  },
  {
   "attachments": {},
   "cell_type": "markdown",
   "metadata": {},
   "source": [
    "On n'utilisera pas ce set de donnnées."
   ]
  },
  {
   "cell_type": "code",
   "execution_count": 3,
   "metadata": {
    "ExecuteTime": {
     "end_time": "2023-04-05T10:46:13.167651Z",
     "start_time": "2023-04-05T10:46:13.161372Z"
    }
   },
   "outputs": [],
   "source": [
    "del data[\"unsupervised\"]"
   ]
  },
  {
   "attachments": {},
   "cell_type": "markdown",
   "metadata": {},
   "source": [
    "On récupère les fonctionnalités de pré-processing du lab précédent."
   ]
  },
  {
   "cell_type": "code",
   "execution_count": 4,
   "metadata": {
    "ExecuteTime": {
     "end_time": "2023-04-05T10:46:13.167773Z",
     "start_time": "2023-04-05T10:46:13.161531Z"
    }
   },
   "outputs": [],
   "source": [
    "def get_lower(comment: Dict[str, Any]) -> Dict[str, Any]:\n",
    "    \"\"\"\n",
    "    :param comment: Actual costumer comment as a dict : { str : Any }\n",
    "    :return: a modified dict : { str : Any }\n",
    "    \"\"\"\n",
    "    comment[\"text\"] = comment[\"text\"].lower()\n",
    "    return comment\n",
    "\n",
    "def remove_angle_brackets(comment: Dict[str, Any]) -> Dict[str, Any]:\n",
    "    \"\"\"\n",
    "    Remove everything inside < > characters (usually <br > from scraping)\n",
    "    :param comment: Actual costumer comment as a dict : { str : Any }\n",
    "    :return: a modified dict : { str : Any }\n",
    "    \"\"\"\n",
    "    comment[\"text\"] = re.sub(f'<.*?>', '', comment[\"text\"])\n",
    "    return comment\n",
    "\n",
    "def remove_unknown_unicode(comment: Dict[str, Any]) -> Dict[str, Any]:\n",
    "    \"\"\"\n",
    "    Remove all non-usual unicode characters (as —)\n",
    "    :param comment: Actual costumer comment as a dict : { str : Any }\n",
    "    :return: a modified dict : { str : Any }\n",
    "    \"\"\"\n",
    "    comment[\"text\"] = re.sub(r\"(\\\\x\\S+)\", '', repr(comment[\"text\"])[1:-1])\n",
    "    return comment\n",
    "\n",
    "def remove_backslash(comment: Dict[str, Any]) -> Dict[str, Any]:\n",
    "    \"\"\"\n",
    "    Remove all backslash (usually as \"it\\'s\")\n",
    "    :param comment: Actual costumer comment as a dict : { str : Any }\n",
    "    :return: a modified dict : { str : Any }\n",
    "    \"\"\"\n",
    "    comment[\"text\"] = re.sub(r\"\\\\\", '', comment[\"text\"])\n",
    "    return comment\n",
    "\n",
    "def remove_ponctuation(comment: Dict[str, Any]) -> Dict[str, Any]:\n",
    "    \"\"\"\n",
    "    Remove non-wanted ponctuations as -_\\(\\)\\\".,`:;* that don't add much syntactical meaning.\n",
    "    :param comment: Actual costumer comment as a dict : { str : Any }\n",
    "    :return: a modified dict : { str : Any }\n",
    "    \"\"\"\n",
    "    comment[\"text\"] = re.sub(r\"[-_\\(\\)\\\".,`:;*]\", ' ', comment[\"text\"])\n",
    "    comment[\"text\"] = re.sub(r\"[(!?)]\", r\" \\g<0> \", comment[\"text\"]) # We want to keep ? and ! in the split\n",
    "    return comment\n",
    "\n",
    "\n",
    "stops = set(stopwords.words('english'))\n",
    "\n",
    "\n",
    "def remove_stop_words(comment: Dict[str, Any], stop_words: Set[str] = stops) -> Dict[str, Any]:\n",
    "    \"\"\"\n",
    "    Remove every english stop words as defined in the nltk package\n",
    "    :param stop_words: A set of stop words : set[str]\n",
    "    :param comment: Actual costumer comment as a dict : { str : Any }\n",
    "    :return: a modified dict : { str : Any }\n",
    "    \"\"\"\n",
    "    words = word_tokenize(comment[\"text\"])\n",
    "    words_filtered = [w for w in words if w not in stop_words]\n",
    "    comment[\"text\"] = ' '.join(words_filtered)\n",
    "    return comment\n",
    "\n",
    "\n",
    "def remove_all(comment: Dict[str, Any]) -> Dict[str, Any]:\n",
    "    \"\"\"\n",
    "    Apply all above\n",
    "    :param comment: Actual costumer comment as a dict : { str : Any }\n",
    "    :return: a modified dict : { str : Any }\n",
    "    \"\"\"\n",
    "    return remove_ponctuation(remove_backslash(remove_unknown_unicode(remove_angle_brackets(get_lower(comment)))))"
   ]
  },
  {
   "attachments": {},
   "cell_type": "markdown",
   "metadata": {},
   "source": [
    "On réutilise le dataset avec le pré-processing du lab précédent sans retirer les stop_words puisque le mot 'no' est présent dans la liste des stop_words du corpus NLTK donc on va juste faire le pré-processing de la ponctuation et de la casse."
   ]
  },
  {
   "cell_type": "code",
   "execution_count": null,
   "metadata": {
    "ExecuteTime": {
     "end_time": "2023-04-05T10:46:13.208036Z",
     "start_time": "2023-04-05T10:46:13.161747Z"
    }
   },
   "outputs": [],
   "source": [
    "adapted_data = data.map(remove_all)"
   ]
  },
  {
   "cell_type": "markdown",
   "metadata": {},
   "source": [
    "## Features (6 points)\n",
    "\n",
    "(6 points) Code the following features:\n",
    "   * 1 if \"no\" appears in the document, 0 otherwise.\n",
    "   * The count of first and second pronouns in the document.\n",
    "   * 1 if \"!\" is in the document, 0 otherwise.\n",
    "   * Log(word count in the document).\n",
    "   * Number of words in the document which are in the positive lexicon.\n",
    "   * Number of words in the document which are in the negative lexicon.\n",
    "   * [Bonus] Add another feature of your choice.\n"
   ]
  },
  {
   "cell_type": "code",
   "execution_count": 6,
   "metadata": {
    "ExecuteTime": {
     "end_time": "2023-04-05T10:46:23.175029Z",
     "start_time": "2023-04-05T10:46:23.169342Z"
    },
    "scrolled": true
   },
   "outputs": [],
   "source": [
    "def has_no(comment: Dict[str, Any]) -> int:\n",
    "    \"\"\"\n",
    "    :param comment: Given comment : { str : Any }\n",
    "    :return: 1 if 'no' appears in the document, 0 otherwise : int\n",
    "    \"\"\"\n",
    "    \n",
    "    words = word_tokenize(comment[\"text\"])\n",
    "    \n",
    "    for word in words:\n",
    "        if word == 'no':\n",
    "            return 1\n",
    "    \n",
    "    return 0"
   ]
  },
  {
   "cell_type": "code",
   "execution_count": 7,
   "metadata": {
    "ExecuteTime": {
     "end_time": "2023-04-05T10:46:23.535039Z",
     "start_time": "2023-04-05T10:46:23.531531Z"
    }
   },
   "outputs": [],
   "source": [
    "def count_pronouns(comment: Dict[str, Any]) -> int:\n",
    "    \"\"\"\n",
    "    :param comment: Given comment : { str : Any }\n",
    "    :return: Count first and second pronouns : int\n",
    "    \"\"\"\n",
    "    \n",
    "    words = word_tokenize(comment[\"text\"])\n",
    "    \n",
    "    count = 0\n",
    "    first_n_second_pronouns = {'i', 'me', 'my', 'mine', 'myself', 'we', 'us', 'our', 'ours', 'ourselves', 'you', 'you',\n",
    "                             'your', 'yours', 'yourself'}\n",
    "    \n",
    "    for word in words:\n",
    "        if word in first_n_second_pronouns:\n",
    "            count += 1\n",
    "            \n",
    "    return count"
   ]
  },
  {
   "cell_type": "code",
   "execution_count": 8,
   "metadata": {
    "ExecuteTime": {
     "end_time": "2023-04-05T10:46:23.824937Z",
     "start_time": "2023-04-05T10:46:23.819892Z"
    }
   },
   "outputs": [],
   "source": [
    "def has_exclamative(comment: Dict[str, Any]) -> int:\n",
    "    \"\"\"\n",
    "    :param comment: Given comment : { str : Any }\n",
    "    :return: 1 if '!' appears in the document, 0 otherwise : int\n",
    "    \"\"\"\n",
    "    \n",
    "    words = word_tokenize(comment[\"text\"])\n",
    "    \n",
    "    for word in words:\n",
    "        if word == '!':\n",
    "            return 1\n",
    "    \n",
    "    return 0"
   ]
  },
  {
   "cell_type": "code",
   "execution_count": 9,
   "metadata": {
    "ExecuteTime": {
     "end_time": "2023-04-05T10:46:24.125930Z",
     "start_time": "2023-04-05T10:46:24.115396Z"
    }
   },
   "outputs": [],
   "source": [
    "def words_count_log(comment: Dict[str, Any]) -> float:\n",
    "    \"\"\"\n",
    "    :param comment: Given comment : { str : Any }\n",
    "    :return: Log(word count in the document) : float\n",
    "    \"\"\"\n",
    "\n",
    "    words = word_tokenize(comment[\"text\"])\n",
    "    \n",
    "    return np.log(len(words))"
   ]
  },
  {
   "cell_type": "code",
   "execution_count": 10,
   "metadata": {
    "ExecuteTime": {
     "end_time": "2023-04-05T10:46:24.425429Z",
     "start_time": "2023-04-05T10:46:24.383952Z"
    }
   },
   "outputs": [],
   "source": [
    "from vaderSentiment.vaderSentiment import SentimentIntensityAnalyzer"
   ]
  },
  {
   "cell_type": "code",
   "execution_count": 11,
   "metadata": {
    "ExecuteTime": {
     "end_time": "2023-04-05T10:46:24.705763Z",
     "start_time": "2023-04-05T10:46:24.660761Z"
    }
   },
   "outputs": [],
   "source": [
    "lex_analyser = SentimentIntensityAnalyzer()"
   ]
  },
  {
   "cell_type": "code",
   "execution_count": 12,
   "metadata": {
    "ExecuteTime": {
     "end_time": "2023-04-05T10:46:24.981519Z",
     "start_time": "2023-04-05T10:46:24.939429Z"
    }
   },
   "outputs": [],
   "source": [
    "def positive_words(comment: Dict[str, Any]) -> int:\n",
    "    \"\"\"\n",
    "    :param comment: Given comment : { str : Any }\n",
    "    :return: Number of words in the document which are in the positive lexicon : int\n",
    "    \"\"\"\n",
    "    \n",
    "    words = word_tokenize(comment[\"text\"])\n",
    "    \n",
    "    count = 0\n",
    "    \n",
    "    for word in words:\n",
    "        vs = lex_analyser.polarity_scores(word)\n",
    "        if vs['pos'] >= 1:\n",
    "            count += 1\n",
    "    \n",
    "    return count"
   ]
  },
  {
   "cell_type": "code",
   "execution_count": 13,
   "metadata": {
    "ExecuteTime": {
     "end_time": "2023-04-05T10:46:25.261487Z",
     "start_time": "2023-04-05T10:46:25.218697Z"
    }
   },
   "outputs": [],
   "source": [
    "def negative_words(comment: Dict[str, Any]) -> int:\n",
    "    \"\"\"\n",
    "    :param comment: Given comment : { str : Any }\n",
    "    :return: Number of words in the document which are in the negative lexicon : int\n",
    "    \"\"\"\n",
    "    \n",
    "    words = word_tokenize(comment[\"text\"])\n",
    "    \n",
    "    count = 0\n",
    "    \n",
    "    for word in words:\n",
    "        vs = lex_analyser.polarity_scores(word)\n",
    "        if vs['neg'] >= 1:\n",
    "            count += 1\n",
    "    \n",
    "    return count"
   ]
  },
  {
   "cell_type": "markdown",
   "metadata": {
    "collapsed": false
   },
   "source": [
    "Pour le paramètre de notre choix, nous allons calculer le logarithme du nombre de mots moins les \"stop words\"."
   ]
  },
  {
   "cell_type": "code",
   "execution_count": 14,
   "metadata": {
    "ExecuteTime": {
     "end_time": "2023-04-05T10:46:25.822626Z",
     "start_time": "2023-04-05T10:46:25.819275Z"
    },
    "collapsed": false
   },
   "outputs": [],
   "source": [
    "def words_count_log_minus_stop_words(comment: Dict[str, Any]) -> float:\n",
    "    \"\"\"\n",
    "    :param comment: Given comment : { str : Any }\n",
    "    :return: Log(word count in the document without stop words) : float\n",
    "    \"\"\"\n",
    "\n",
    "    no_stop_comment = remove_stop_words(comment)\n",
    "\n",
    "    words = word_tokenize(no_stop_comment[\"text\"])\n",
    "\n",
    "    return np.log(len(words))"
   ]
  },
  {
   "attachments": {},
   "cell_type": "markdown",
   "metadata": {
    "collapsed": false
   },
   "source": [
    "Fonction qui applique toutes les fonctions ci-dessus."
   ]
  },
  {
   "cell_type": "code",
   "execution_count": 15,
   "metadata": {
    "ExecuteTime": {
     "end_time": "2023-04-05T10:46:26.581975Z",
     "start_time": "2023-04-05T10:46:26.578530Z"
    },
    "collapsed": false
   },
   "outputs": [],
   "source": [
    "def apply_all(comment: Dict[str, Any]) -> Tuple[int, int, int, float, int, int, float]:\n",
    "    \"\"\"\n",
    "    :param comment: Given comment : { str : Any }\n",
    "    :return: A vector that match all upper functions : Tuple[int, int, int, float, int, int, float]\n",
    "    \"\"\"\n",
    "    return [has_no(comment), count_pronouns(comment), has_exclamative(comment), words_count_log(comment), positive_words(comment), negative_words(comment), words_count_log_minus_stop_words(comment)]"
   ]
  },
  {
   "cell_type": "markdown",
   "metadata": {
    "collapsed": false
   },
   "source": [
    "## Optimisation\n",
    "\n",
    "Re-créer un flow de token pour calculer chaque paramètre de notre vecteur est couteux, alors voici une version plus optimisé calculant tous les paramètres en une seule boucle."
   ]
  },
  {
   "cell_type": "code",
   "execution_count": 16,
   "metadata": {
    "ExecuteTime": {
     "end_time": "2023-04-05T10:46:28.226231Z",
     "start_time": "2023-04-05T10:46:28.211960Z"
    },
    "collapsed": false
   },
   "outputs": [],
   "source": [
    "first_second_pronouns = {'i', 'me', 'my', 'mine', 'myself', 'we', 'us', 'our', 'ours', 'ourselves', 'you', 'you',\n",
    "                         'your', 'yours', 'yourself'}\n",
    "\n",
    "def vectorisation(comment: Dict[str, Any]) -> Tuple[int, int, int, float, int, int, float]:\n",
    "    \"\"\"\n",
    "    :param comment: Given comment : { str : Any }\n",
    "    :return: A vector that match all upper functions : list[int, int, int, float, int, int, float]\n",
    "    \"\"\"\n",
    "    vector = [0, 0, 0, 0.0, 0, 0, 0.0]\n",
    "\n",
    "    words = word_tokenize(comment[\"text\"])\n",
    "\n",
    "    no_stop_comment = remove_stop_words(comment)\n",
    "    words_no_stop = word_tokenize(no_stop_comment[\"text\"])\n",
    "\n",
    "    has_no_var = False\n",
    "    has_exclamative_var = False\n",
    "\n",
    "    for word in words:\n",
    "        vs = lex_analyser.polarity_scores(word)\n",
    "\n",
    "        if not has_no_var and word == 'no':\n",
    "            vector[0] = 1\n",
    "            has_no_var = True\n",
    "        elif word in first_second_pronouns:\n",
    "            vector[1] += 1\n",
    "        elif not has_exclamative_var and word == '!':\n",
    "            vector[2] = 1\n",
    "            has_exclamative_var = True\n",
    "        \n",
    "        if vs['pos'] >= 1:\n",
    "            vector[4] += 1\n",
    "        elif vs['neg'] >= 1:\n",
    "            vector[5] += 1\n",
    "\n",
    "    vector[3] = np.log(len(words))\n",
    "    vector[6] = np.log(len(words_no_stop))\n",
    "\n",
    "    return vector"
   ]
  },
  {
   "cell_type": "markdown",
   "metadata": {},
   "source": [
    "## Logistic regression classifier (6 points)"
   ]
  },
  {
   "cell_type": "markdown",
   "metadata": {},
   "source": [
    "### (3 points) Adapt the code by adding your feature extractor and train a classifier.\n",
    "\n",
    "   * For training, don't use the test set as validation. Instead, split the training set into a training and a validation set (use 10 to 20% of the training set as validation).\n",
    "\n"
   ]
  },
  {
   "cell_type": "code",
   "execution_count": 17,
   "metadata": {
    "ExecuteTime": {
     "end_time": "2023-04-05T10:46:30.671091Z",
     "start_time": "2023-04-05T10:46:29.543646Z"
    },
    "collapsed": false
   },
   "outputs": [],
   "source": [
    "import matplotlib.pyplot as plt\n",
    "from sklearn.model_selection import train_test_split\n",
    "\n",
    "import torch\n",
    "from torch import nn"
   ]
  },
  {
   "cell_type": "code",
   "execution_count": 18,
   "metadata": {
    "ExecuteTime": {
     "end_time": "2023-04-05T10:48:45.145682Z",
     "start_time": "2023-04-05T10:46:30.666499Z"
    }
   },
   "outputs": [],
   "source": [
    "train_points = [vectorisation(comment) for comment in adapted_data[\"train\"]]\n",
    "test_points = [vectorisation(comment) for comment in adapted_data[\"test\"]]"
   ]
  },
  {
   "cell_type": "code",
   "execution_count": 19,
   "metadata": {
    "ExecuteTime": {
     "end_time": "2023-04-05T10:48:45.203762Z",
     "start_time": "2023-04-05T10:48:45.145541Z"
    },
    "collapsed": false
   },
   "outputs": [],
   "source": [
    "train_points = torch.tensor(train_points, dtype=torch.float32)\n",
    "train_labels = torch.tensor(adapted_data[\"train\"]['label'], dtype=torch.float32).reshape(-1, 1)\n",
    "\n",
    "test_points = torch.tensor(test_points, dtype=torch.float32)\n",
    "test_labels = torch.tensor(adapted_data[\"test\"]['label'], dtype=torch.float32).reshape(-1, 1)\n",
    "\n",
    "X_train, X_valid, y_train, y_valid = train_test_split(\n",
    "    train_points,\n",
    "    train_labels,\n",
    "    test_size=0.2,\n",
    "    stratify=train_labels,\n",
    "    random_state=42,\n",
    ")"
   ]
  },
  {
   "cell_type": "code",
   "execution_count": 20,
   "metadata": {
    "ExecuteTime": {
     "end_time": "2023-04-05T10:48:45.207913Z",
     "start_time": "2023-04-05T10:48:45.204419Z"
    },
    "collapsed": false
   },
   "outputs": [],
   "source": [
    "class LinearRegression(nn.Module):\n",
    "    \"\"\"A linear regression implementation\"\"\"\n",
    "\n",
    "    def __init__(self, input_dim: int, nb_classes: int) -> None:\n",
    "        \"\"\"\n",
    "        Args:\n",
    "            input_dim: the dimension of the input features.\n",
    "            nb_classes: the number of classes to predict.\n",
    "        \"\"\"\n",
    "        super().__init__()\n",
    "        self.linear = nn.Linear(input_dim, nb_classes)\n",
    "\n",
    "    def forward(self, x: torch.Tensor) -> torch.Tensor:\n",
    "        \"\"\"\n",
    "        Args:\n",
    "            x: the input tensor.\n",
    "        Returns:\n",
    "            The output of the linear layer.\n",
    "        \"\"\"\n",
    "        return self.linear(x)"
   ]
  },
  {
   "cell_type": "code",
   "execution_count": 21,
   "metadata": {
    "ExecuteTime": {
     "end_time": "2023-04-05T10:48:45.211246Z",
     "start_time": "2023-04-05T10:48:45.208778Z"
    },
    "collapsed": false
   },
   "outputs": [],
   "source": [
    "model_1 = LinearRegression(7, 1)\n",
    "criterion_1 = nn.BCEWithLogitsLoss()\n",
    "optimizer_1 = torch.optim.SGD(model_1.parameters(), lr=0.01, weight_decay=0.5)"
   ]
  },
  {
   "cell_type": "code",
   "execution_count": 22,
   "metadata": {
    "ExecuteTime": {
     "end_time": "2023-04-05T10:48:45.714417Z",
     "start_time": "2023-04-05T10:48:45.215059Z"
    },
    "collapsed": false
   },
   "outputs": [
    {
     "name": "stdout",
     "output_type": "stream",
     "text": [
      "CPU times: total: 1.58 s\n",
      "Wall time: 912 ms\n"
     ]
    }
   ],
   "source": [
    "%%time\n",
    "\n",
    "def training(optimizer: torch.optim.SGD, model : LinearRegression, criterion = None) -> Tuple[list, list]:\n",
    "    \"\"\"\n",
    "    Training loop.\n",
    "    :param optimizer: The optimizer to use : torch.optim.SGD\n",
    "    :param model: The model to train : LinearRegression\n",
    "    :param criterion: The loss function to use : torch.nn.BCEWithLogitsLoss\n",
    "    :return: The losses of the training and the validation : Tuple[list, list]\n",
    "    \"\"\"\n",
    "    if criterion is None:\n",
    "        criterion = nn.BCEWithLogitsLoss()\n",
    "\n",
    "    n_epochs = 1000\n",
    "\n",
    "    # Keeping an eye on the losses\n",
    "    train_losses = []\n",
    "    test_losses = []\n",
    "\n",
    "    # Training loop\n",
    "    for epoch in range(n_epochs):\n",
    "        # Setting all gradients to zero.\n",
    "        optimizer.zero_grad()\n",
    "\n",
    "        # Sending the whole training set through the model.\n",
    "        predictions = model(X_train)\n",
    "\n",
    "        # Computing the loss.\n",
    "        loss = criterion(predictions, y_train)\n",
    "        train_losses.append(loss.item())\n",
    "\n",
    "        # Computing the gradients and gradient descent.\n",
    "        loss.backward()\n",
    "        optimizer.step()\n",
    "\n",
    "        # When computing the validation loss, we do not want to update the weights.\n",
    "        # torch.no_grad tells PyTorch to not save the necessary data used for\n",
    "        # gradient descent.\n",
    "        with torch.no_grad():\n",
    "            predictions = model(X_valid)\n",
    "            loss = criterion(predictions, y_valid)\n",
    "            test_losses.append(loss)\n",
    "\n",
    "    return train_losses, test_losses\n",
    "\n",
    "train_loss, test_loss = training(optimizer_1, model_1, criterion=criterion_1)"
   ]
  },
  {
   "cell_type": "code",
   "execution_count": 23,
   "metadata": {
    "ExecuteTime": {
     "end_time": "2023-04-05T10:48:45.782880Z",
     "start_time": "2023-04-05T10:48:45.605276Z"
    },
    "collapsed": false
   },
   "outputs": [
    {
     "name": "stdout",
     "output_type": "stream",
     "text": [
      "Accuracy of training : 0.7102, valid : 0.7028, test : 0.71124\n"
     ]
    }
   ],
   "source": [
    "def test(model : LinearRegression) -> None:\n",
    "    \"\"\"\n",
    "    Test loop.\n",
    "    :param model: The model to test : LinearRegression\n",
    "    :return: None\n",
    "    \"\"\"\n",
    "    # Note that we need to use a sigmoid on the output now.\n",
    "    with torch.no_grad():\n",
    "        p_train = torch.sigmoid(model(X_train))\n",
    "        p_train = np.round(p_train.numpy())\n",
    "        training_accuracy = np.mean(p_train == y_train.numpy())\n",
    "        p_valid = torch.sigmoid(model(X_valid))\n",
    "        p_valid = np.round(p_valid.numpy())\n",
    "        valid_accuracy = np.mean(p_valid == y_valid.numpy())\n",
    "        p_test = torch.sigmoid(model(test_points))\n",
    "        p_test = np.round(p_test.numpy())\n",
    "        test_accuracy = np.mean(p_test == test_labels.numpy())\n",
    "\n",
    "    print(f'Accuracy of training : {training_accuracy}, valid : {valid_accuracy}, test : {test_accuracy}')\n",
    "\n",
    "test(model_1)"
   ]
  },
  {
   "attachments": {},
   "cell_type": "markdown",
   "metadata": {
    "collapsed": false
   },
   "source": [
    "On obtient une accuracy de training de 0.7102, de validation de 0.7028 et de test de 0.71124."
   ]
  },
  {
   "cell_type": "markdown",
   "metadata": {},
   "source": [
    "### (1 point) Evaluate your classifier in terms of accuracy for the training, validation, and test set."
   ]
  },
  {
   "attachments": {},
   "cell_type": "markdown",
   "metadata": {
    "collapsed": false
   },
   "source": [
    "Le modèle n'est pas très performant, on a une accuracy de 71,025% sur le training, 70,32% sur le validation et 71,11% sur le test.\n",
    "Sur le lab précédent, on obtenait une accuracy de 90%.\n",
    "\n",
    "Nous pouvons donc dire que les paramètres de vectorisation, les features, ne sont pas très discriminantes pour prédire ces données."
   ]
  },
  {
   "cell_type": "markdown",
   "metadata": {},
   "source": [
    "### (1 point) Look at the weights of your classifier. Which features seems to play most for both classes?"
   ]
  },
  {
   "cell_type": "code",
   "execution_count": 24,
   "metadata": {
    "ExecuteTime": {
     "end_time": "2023-04-04T19:34:18.415363Z",
     "start_time": "2023-04-04T19:34:18.369718Z"
    },
    "collapsed": false
   },
   "outputs": [
    {
     "name": "stdout",
     "output_type": "stream",
     "text": [
      "Has no : -0.032714568078517914, count_pronouns : -0.03238295018672943, has_exclamative : -0.006759235635399818, words_count_log : -0.011116011999547482 \n",
      "positive_words : 0.12289740890264511, negative_words : -0.14218854904174805, words_count_log_minus_stop_words : -0.011636937037110329\n",
      "bias : -0.0019977721385657787\n"
     ]
    }
   ],
   "source": [
    "weights = model_1.linear.weight.detach().numpy()\n",
    "bias = model_1.linear.bias.detach().numpy()[0]\n",
    "\n",
    "weights = weights.reshape(-1)\n",
    "\n",
    "print(f'Has no : {weights[0]}, count_pronouns : {weights[1]}, has_exclamative : {weights[2]}, words_count_log : {weights[3]} \\n'\n",
    "      f'positive_words : {weights[4]}, negative_words : {weights[5]}, words_count_log_minus_stop_words : {weights[6]}\\n'\n",
    "      f'bias : {bias}')"
   ]
  },
  {
   "attachments": {},
   "cell_type": "markdown",
   "metadata": {
    "collapsed": false
   },
   "source": [
    "La seule feature qui joue pour la classe positive est le nombre de mots dans le lexique positif.\n",
    "\n",
    "Toutes les autres features jouent pour la classe négative, plus particulièrement le nombre de mots dans le lexique négatif, ce qui est logique et aussi le nombre de mots dans le commentaire, on peut donc en déduire que dans notre corpus les commentaires négatifs sont plus longs que les commentaires positifs.\n",
    "\n",
    "Le reste des paramètres jouent très peu, comme \"bias\" ou \"has_exclamative\". Qui sont pèsent quelques millièmes de points comparés aux features très discriminantes."
   ]
  },
  {
   "cell_type": "markdown",
   "metadata": {
    "collapsed": false
   },
   "source": [
    "### (1 point) Plot the learning curves (training and validation loss) and explain what you observe."
   ]
  },
  {
   "cell_type": "code",
   "execution_count": 25,
   "metadata": {
    "ExecuteTime": {
     "end_time": "2023-04-04T19:34:18.608622Z",
     "start_time": "2023-04-04T19:34:18.411994Z"
    },
    "collapsed": false
   },
   "outputs": [
    {
     "data": {
      "text/plain": [
       "<matplotlib.legend.Legend at 0x158507a5c00>"
      ]
     },
     "execution_count": 25,
     "metadata": {},
     "output_type": "execute_result"
    },
    {
     "data": {
      "image/png": "[encoded data removed]",
      "text/plain": [
       "<Figure size 640x480 with 1 Axes>"
      ]
     },
     "metadata": {},
     "output_type": "display_data"
    }
   ],
   "source": [
    "plt.plot(np.arange(len(train_loss)), train_loss, label=\"Training loss\")\n",
    "plt.plot(np.arange(len(test_loss)), test_loss, label=\"Test loss\")\n",
    "plt.legend()"
   ]
  },
  {
   "attachments": {},
   "cell_type": "markdown",
   "metadata": {
    "collapsed": false
   },
   "source": [
    "Le modèle converge vers une loss de 0.6, ce qui est assez élevé, ce qui nous montre que le modèle traduit mal les données.\n",
    "\n",
    "De plus le modèle apprend très vite au début, puis n'évolue plus beaucoup. Cela peut s'expliquer par une vectorisation peu pertinente des données."
   ]
  },
  {
   "cell_type": "markdown",
   "metadata": {},
   "source": [
    "### [Bonus] The parameter weight_decay of the SGD optimizer corresponds to the L2 penalty. Try playing with this value and explain how it influence the model's weights."
   ]
  },
  {
   "cell_type": "code",
   "execution_count": 26,
   "metadata": {
    "ExecuteTime": {
     "end_time": "2023-04-04T19:36:53.838990Z",
     "start_time": "2023-04-04T19:36:53.422076Z"
    },
    "collapsed": false
   },
   "outputs": [
    {
     "name": "stdout",
     "output_type": "stream",
     "text": [
      "Accuracy of training : 0.7102, valid : 0.7018, test : 0.71132\n"
     ]
    }
   ],
   "source": [
    "model_2 = LinearRegression(7, 1)\n",
    "optimizer_2 = torch.optim.SGD(model_2.parameters(), lr=0.01, weight_decay=0.0001)\n",
    "train_loss_2, test_loss_2 = training(optimizer_2, model_2)\n",
    "test(model_2)"
   ]
  },
  {
   "attachments": {},
   "cell_type": "markdown",
   "metadata": {
    "collapsed": false
   },
   "source": [
    "Accuracy de base : training : 0.7102, validation : 0.7024 et test : 0.71128\n",
    "Accuracy actuelle : training : 0.7102, validation : 0.7018, test : 0.71132"
   ]
  },
  {
   "cell_type": "code",
   "execution_count": 27,
   "metadata": {
    "ExecuteTime": {
     "end_time": "2023-04-04T19:36:54.828980Z",
     "start_time": "2023-04-04T19:36:54.666793Z"
    },
    "collapsed": false
   },
   "outputs": [
    {
     "data": {
      "text/plain": [
       "<matplotlib.legend.Legend at 0x1586148abf0>"
      ]
     },
     "execution_count": 27,
     "metadata": {},
     "output_type": "execute_result"
    },
    {
     "data": {
      "image/png": "[encoded data removed]",
      "text/plain": [
       "<Figure size 640x480 with 1 Axes>"
      ]
     },
     "metadata": {},
     "output_type": "display_data"
    }
   ],
   "source": [
    "plt.plot(np.arange(len(train_loss_2)), train_loss_2, label=\"Training loss\")\n",
    "plt.plot(np.arange(len(test_loss_2)), test_loss_2, label=\"Test loss\")\n",
    "plt.legend()"
   ]
  },
  {
   "cell_type": "code",
   "execution_count": 28,
   "metadata": {
    "ExecuteTime": {
     "end_time": "2023-04-04T19:34:19.483461Z",
     "start_time": "2023-04-04T19:34:19.091287Z"
    },
    "collapsed": false
   },
   "outputs": [
    {
     "name": "stdout",
     "output_type": "stream",
     "text": [
      "Accuracy of training : 0.7097, valid : 0.704, test : 0.71132\n"
     ]
    }
   ],
   "source": [
    "model_3 = LinearRegression(7, 1)\n",
    "optimizer_3 = torch.optim.SGD(model_3.parameters(), lr=0.01, weight_decay=2)\n",
    "train_loss_3, test_loss_3 = training(optimizer_3, model_3)\n",
    "test(model_3)"
   ]
  },
  {
   "attachments": {},
   "cell_type": "markdown",
   "metadata": {
    "collapsed": false
   },
   "source": [
    "Accuracy de base : training : 0.7102, validation : 0.7024 et test : 0.71128\n",
    "Accuracy actuelle : training : 0.7097, validation : 0.704, test : 0.71132"
   ]
  },
  {
   "cell_type": "code",
   "execution_count": 29,
   "metadata": {
    "ExecuteTime": {
     "end_time": "2023-04-04T19:34:19.686110Z",
     "start_time": "2023-04-04T19:34:19.489833Z"
    },
    "collapsed": false
   },
   "outputs": [
    {
     "data": {
      "text/plain": [
       "<matplotlib.legend.Legend at 0x1586193ee60>"
      ]
     },
     "execution_count": 29,
     "metadata": {},
     "output_type": "execute_result"
    },
    {
     "data": {
      "image/png": "[encoded data removed]",
      "text/plain": [
       "<Figure size 640x480 with 1 Axes>"
      ]
     },
     "metadata": {},
     "output_type": "display_data"
    }
   ],
   "source": [
    "plt.plot(np.arange(len(train_loss_3)), train_loss_3, label=\"Training loss\")\n",
    "plt.plot(np.arange(len(test_loss_3)), test_loss_3, label=\"Test loss\")\n",
    "plt.legend()"
   ]
  },
  {
   "attachments": {},
   "cell_type": "markdown",
   "metadata": {
    "collapsed": false
   },
   "source": [
    "En modifiant le paramètre weight_decay, on joue à la fois sur la vitessse d'apprentissage et sur la régularisation du réseau neuronal (over/under fitting).\n",
    "\n",
    "Donc en prenant un weight_decay trop faible, on risque d'avoir un modèle qui overfit, et en prenant un weight_decay trop élevé, on risque d'avoir un modèle qui underfit dans les deux cas, le modèle ne se généralisera pas bien.\n",
    "\n",
    "Enfin, on remarque qu'avec un weight_decay très faible le réseau met (parfois) plus de temps à converger."
   ]
  },
  {
   "cell_type": "markdown",
   "metadata": {},
   "source": [
    "### (1 point) Take two wrongly classified samples in the test set and try explaining why the model was wrong."
   ]
  },
  {
   "cell_type": "code",
   "execution_count": 30,
   "metadata": {
    "ExecuteTime": {
     "end_time": "2023-04-05T11:00:08.139695Z",
     "start_time": "2023-04-05T11:00:08.012080Z"
    },
    "collapsed": false
   },
   "outputs": [
    {
     "name": "stdout",
     "output_type": "stream",
     "text": [
      "Accuracy of test : 0.71124\n",
      "Number of wrongly classified : 7219\n"
     ]
    }
   ],
   "source": [
    "def get_wrongly_classified(model : LinearRegression, test_points, test_labels) -> Tuple[list, float]:\n",
    "    \"\"\"\n",
    "    Get wrongly classified samples.\n",
    "    :param model: The model to test : LinearRegression\n",
    "    :param test_points: The test points : torch.Tensor\n",
    "    :param test_labels: The test labels : torch.Tensor\n",
    "    :return: The wrongly classified samples and the test accuracy : Tuple[list, float]\n",
    "    \"\"\"\n",
    "    with torch.no_grad():\n",
    "        p_test = torch.sigmoid(model(test_points))\n",
    "        p_test = np.round(p_test.numpy())\n",
    "        test_accuracy = np.mean(p_test == test_labels.numpy())\n",
    "        wrong_classified = np.where(p_test != test_labels.numpy())[0]\n",
    "\n",
    "    return wrong_classified, test_accuracy\n",
    "\n",
    "wrong_classified, test_accuracy = get_wrongly_classified(model_1, test_points, test_labels)\n",
    "print(f'Accuracy of test : {test_accuracy}')\n",
    "print(f'Number of wrongly classified : {len(wrong_classified)}')"
   ]
  },
  {
   "cell_type": "code",
   "execution_count": 43,
   "metadata": {},
   "outputs": [],
   "source": [
    "# instantiate a Pseudo-random number generator (PRNG)\n",
    "rng = np.random.default_rng(420)"
   ]
  },
  {
   "cell_type": "code",
   "execution_count": 44,
   "metadata": {},
   "outputs": [
    {
     "name": "stdout",
     "output_type": "stream",
     "text": [
      "Desired label: 1\n",
      "Has no : 0.0, count_pronouns : 0.0, has_exclamative : 0.0, words_count_log : 5.513428688049316 \n",
      "positive_words : 7.0, negative_words : 12.0, words_count_log_minus_stop_words : 4.8828020095825195\n",
      "\n"
     ]
    }
   ],
   "source": [
    "index1 = wrong_classified[int(rng.random() * len(wrong_classified))]\n",
    "weights1 = test_points[index1]\n",
    "print(f'Desired label: {int(test_labels[index1])}')\n",
    "print(f'Has no : {weights1[0]}, count_pronouns : {weights1[1]}, has_exclamative : {weights1[2]}, words_count_log : {weights1[3]} \\n'\n",
    "      f'positive_words : {weights1[4]}, negative_words : {weights1[5]}, words_count_log_minus_stop_words : {weights1[6]}\\n')"
   ]
  },
  {
   "attachments": {},
   "cell_type": "markdown",
   "metadata": {},
   "source": [
    "Ici , le poids de la feature \"nombre de mots dans le lexique positif\" ne suffit pas à compenser le poids des features \"nombre de mots dans le lexique négatif\" et \"nombre de mots dans le lexique négatif sans les stop words\" qui sont très élevés. Cela fait que le modèle prédit un label négatif alors que le label attendu est positif."
   ]
  },
  {
   "cell_type": "code",
   "execution_count": 45,
   "metadata": {},
   "outputs": [
    {
     "name": "stdout",
     "output_type": "stream",
     "text": [
      "Desired label: 1\n",
      "Has no : 0.0, count_pronouns : 8.0, has_exclamative : 0.0, words_count_log : 4.18965482711792 \n",
      "positive_words : 1.0, negative_words : 0.0, words_count_log_minus_stop_words : 3.178053855895996\n",
      "\n"
     ]
    }
   ],
   "source": [
    "index2 = int(rng.random() * len(wrong_classified))\n",
    "weights2 = test_points[wrong_classified[index2]]\n",
    "print(f'Desired label: {int(test_labels[wrong_classified[index2]])}')\n",
    "print(f'Has no : {weights2[0]}, count_pronouns : {weights2[1]}, has_exclamative : {weights2[2]}, words_count_log : {weights2[3]} \\n'\n",
    "      f'positive_words : {weights2[4]}, negative_words : {weights2[5]}, words_count_log_minus_stop_words : {weights2[6]}\\n')"
   ]
  },
  {
   "attachments": {},
   "cell_type": "markdown",
   "metadata": {},
   "source": [
    "Dans ce cas, même si la feature \"nombre de mots dans le lexique positif\" est présente, le modèle ne la prend pas en compte car le poids de cette feature est très faible comparé à toutes les autres features qui font parties du label négatif.\n",
    "\n",
    "On peut en déduire que notre vectorisation à du mal à déterminer les commentaires positifs."
   ]
  },
  {
   "cell_type": "markdown",
   "metadata": {},
   "source": [
    "### [Bonus] Train logistic regression classifier using the scikit-learn implementation. How does it compare with the PyTorch version?"
   ]
  },
  {
   "cell_type": "code",
   "execution_count": 34,
   "metadata": {
    "ExecuteTime": {
     "end_time": "2023-04-05T10:57:35.126686Z",
     "start_time": "2023-04-05T10:57:35.037731Z"
    },
    "collapsed": false
   },
   "outputs": [
    {
     "name": "stdout",
     "output_type": "stream",
     "text": [
      "              precision    recall  f1-score   support\n",
      "\n",
      "         0.0       0.71      0.70      0.71     12500\n",
      "         1.0       0.71      0.71      0.71     12500\n",
      "\n",
      "    accuracy                           0.71     25000\n",
      "   macro avg       0.71      0.71      0.71     25000\n",
      "weighted avg       0.71      0.71      0.71     25000\n",
      "\n"
     ]
    }
   ],
   "source": [
    "from sklearn.linear_model import LogisticRegression\n",
    "from sklearn.metrics import classification_report\n",
    "\n",
    "logistic_regression = LogisticRegression()\n",
    "logistic_regression.fit(train_points, train_labels.ravel())\n",
    "\n",
    "y_pred = logistic_regression.predict(test_points)\n",
    "print(classification_report(test_labels.ravel(), y_pred))"
   ]
  },
  {
   "attachments": {},
   "cell_type": "markdown",
   "metadata": {
    "collapsed": false
   },
   "source": [
    "On a une accuracy de 71% sur le test set, ce qui est le même résultat que le modèle PyTorch. Mais Sklearn permet d'avoir facilement un code beaucoup plus concis."
   ]
  }
 ],
 "metadata": {
  "kernelspec": {
   "display_name": "Python 3 (ipykernel)",
   "language": "python",
   "name": "python3"
  },
  "language_info": {
   "codemirror_mode": {
    "name": "ipython",
    "version": 3
   },
   "file_extension": ".py",
   "mimetype": "text/x-python",
   "name": "python",
   "nbconvert_exporter": "python",
   "pygments_lexer": "ipython3",
   "version": "3.10.10"
  }
 },
 "nbformat": 4,
 "nbformat_minor": 1
}
